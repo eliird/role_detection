{
 "cells": [
  {
   "cell_type": "code",
   "execution_count": 1,
   "metadata": {},
   "outputs": [],
   "source": [
    "import pandas as pd\n",
    "import numpy as np\n",
    "from utilities import loadPickle, savePickle\n",
    "from tqdm import tqdm"
   ]
  },
  {
   "cell_type": "code",
   "execution_count": 96,
   "metadata": {},
   "outputs": [
    {
     "name": "stdout",
     "output_type": "stream",
     "text": [
      "20170720\n",
      "./labels/20170720/20170720-152000-000-drrole2-nu-yko.ctr\n",
      "./labels/20170720/20170720-152500-000-drrole2-nu-yko.ctr\n",
      "./labels/20170720/20170720-153000-000-drrole2-nu-yko.ctr\n",
      "./labels/20170720/20170720-153500-000-drrole2-nu-yko.ctr\n",
      "./labels/20170720/20170720-154000-000-drrole2-nu-yko.ctr\n",
      "./labels/20170720/20170720-154500-000-drrole2-nu-yko.ctr\n",
      "./labels/20170720/20170720-155000-000-drrole2-nu-yko.ctr\n",
      "./labels/20170720/20170720-155500-000-drrole2-nu-yko.ctr\n",
      "./labels/20170720/20170720-160000-000-drrole2-nu-yko.ctr\n",
      "./labels/20170720/20170720-160500-000-drrole2-nu-yko.ctr\n",
      "20170804\n",
      "./labels/20170804/20170804-164000-000-drrole-yko-nu.ctr\n",
      "./labels/20170804/20170804-164500-000-drrole-yko-nu.ctr\n",
      "./labels/20170804/20170804-165000-000-drrole-yko-nu.ctr\n",
      "./labels/20170804/20170804-165500-000-drrole-yko-nu.ctr\n",
      "./labels/20170804/20170804-170000-000-drrole-yko-nu.ctr\n",
      "./labels/20170804/20170804-170500-000-drrole-yko-nu.ctr\n",
      "./labels/20170804/20170804-171000-000-drrole-yko-nu.ctr\n",
      "./labels/20170804/20170804-171500-000-drrole-yko-nu.ctr\n",
      "20170828\n",
      "./labels/20170828/20170828-161000-000-drrole2-yn-yko.ctr\n",
      "./labels/20170828/20170828-161500-000-drrole2-yko.ctr\n",
      "./labels/20170828/20170828-162000-000-drrole2-yn-yko.ctr\n",
      "./labels/20170828/20170828-162500-000-drrole2-yn-yko.ctr\n",
      "./labels/20170828/20170828-163000-000-drrole2-yn-yko.ctr\n",
      "./labels/20170828/20170828-163500-000-drrole2-yn-yko.ctr\n",
      "./labels/20170828/20170828-164000-000-drrole2-yn-yko.ctr\n",
      "20170829\n",
      "./labels/20170829/20170829-165500-000-drrole2-yn-yko.ctr\n",
      "./labels/20170829/20170829-170000-000-drrole2-yn-yko.ctr\n",
      "./labels/20170829/20170829-170500-000-drrole2-yn-yko.ctr\n",
      "./labels/20170829/20170829-171000-000-drrole2-yn-yko.ctr\n",
      "./labels/20170829/20170829-171500-000-drrole2-yn-yko.ctr\n",
      "./labels/20170829/20170829-172000-000-drrole2-yn-yko.ctr\n",
      "./labels/20170829/20170829-172500-000-drrole2-yn-yko.ctr\n",
      "./labels/20170829/20170829-173000-000-drrole2-yn-yko.ctr\n",
      "20170915\n",
      "./labels/20170915/20170915-112000-000-drrole2-nu-yko.ctr\n",
      "./labels/20170915/20170915-112500-000-drrole2-nu-yko.ctr\n",
      "20171026\n",
      "./labels/20171026/20171026-124500-000-drrole-nu.ctr\n",
      "./labels/20171026/20171026-125000-000-drrole-nu.ctr\n",
      "./labels/20171026/20171026-125500-000-drrole-nu.ctr\n",
      "./labels/20171026/20171026-130000-000-drrole-nu.ctr\n",
      "./labels/20171026/20171026-130500-000-drrole-nu.ctr\n",
      "./labels/20171026/20171026-131000-000-drrole-nu.ctr\n",
      "./labels/20171026/20171026-131500-000-drrole-nu.ctr\n",
      "./labels/20171026/20171026-132000-000-drrole-nu.ctr\n",
      "20171226\n",
      "./labels/20171226/20171226-154000-000-drrole-nu.ctr\n",
      "./labels/20171226/20171226-154500-000-drrole-nu.ctr\n",
      "./labels/20171226/20171226-155000-000-drrole-nu.ctr\n",
      "./labels/20171226/20171226-155500-000-drrole-nu.ctr\n",
      "./labels/20171226/20171226-160000-000-drrole-nu.ctr\n",
      "./labels/20171226/20171226-160500-000-drrole-nu.ctr\n",
      "./labels/20171226/20171226-161000-000-drrole-nu.ctr\n",
      "./labels/20171226/20171226-161500-000-drrole-nu.ctr\n",
      "./labels/20171226/20171226-162000-000-drrole-nu.ctr\n",
      "./labels/20171226/20171226-162500-000-drrole-nu.ctr\n",
      "./labels/20171226/20171226-163000-000-drrole-nu.ctr\n",
      "./labels/20171226/20171226-163500-000-drrole-nu.ctr\n",
      "./labels/20171226/20171226-164000-000-drrole-nu.ctr\n",
      "./labels/20171226/20171226-164500-000-drrole-nu.ctr\n",
      "./labels/20171226/20171226-165000-000-drrole-nu.ctr\n",
      "./labels/20171226/20171226-165500-000-drrole-nu.ctr\n",
      "./labels/20171226/20171226-170000-000-drrole-nu.ctr\n",
      "./labels/20171226/20171226-170500-000-drrole-nu.ctr\n",
      "./labels/20171226/20171226-171000-000-drrole-nu.ctr\n",
      "./labels/20171226/20171226-171500-000-drrole-nu.ctr\n",
      "./labels/20171226/20171226-172000-000-drrole-nu.ctr\n",
      "./labels/20171226/20171226-172500-000-drrole-nu.ctr\n",
      "./labels/20171226/20171226-173000-000-drrole-nu.ctr\n",
      "20171228\n",
      "./labels/20171228/20171228-151000-000-drrole-yn.ctr\n",
      "./labels/20171228/20171228-151500-000-drrole-yn.ctr\n",
      "./labels/20171228/20171228-152000-000-drrole-yn.ctr\n",
      "./labels/20171228/20171228-152500-000-drrole-yn.ctr\n",
      "./labels/20171228/20171228-153000-000-drrole-yn.ctr\n",
      "./labels/20171228/20171228-153500-000-drrole-yn.ctr\n",
      "./labels/20171228/20171228-154000-000-drrole-yn.ctr\n",
      "./labels/20171228/20171228-154500-000-drrole-yn.ctr\n",
      "./labels/20171228/20171228-155000-000-drrole-yn.ctr\n",
      "20180725\n",
      "./labels/20180725/20180725-172500-000-drrole-yn.ctr\n",
      "./labels/20180725/20180725-173000-000-drrole-yn.ctr\n",
      "./labels/20180725/20180725-173500-000-drrole-yn.ctr\n",
      "./labels/20180725/20180725-174000-000-drrole-yn.ctr\n",
      "./labels/20180725/20180725-174500-000-drrole-yn.ctr\n",
      "./labels/20180725/20180725-175000-000-drrole-yn.ctr\n",
      "./labels/20180725/20180725-175500-000-drrole-yn.ctr\n",
      "./labels/20180725/20180725-180000-000-drrole-yn.ctr\n",
      "./labels/20180725/20180725-180500-000-drrole-yn.ctr\n",
      "20181226\n",
      "./labels/20181226/20181226-151500-000-drrole-yn.ctr\n",
      "./labels/20181226/20181226-152000-000-drrole-yn.ctr\n",
      "./labels/20181226/20181226-152500-000-drrole-yn.ctr\n",
      "./labels/20181226/20181226-154000-000-drrole-yn.ctr\n",
      "./labels/20181226/20181226-154500-000-drrole-yn.ctr\n",
      "./labels/20181226/20181226-155000-000-drrole-yn.ctr\n",
      "./labels/20181226/20181226-155500-000-drrole-yn.ctr\n",
      "./labels/20181226/20181226-160000-000-drrole-yn.ctr\n",
      "20190328\n",
      "./labels/20190328/20190328-154000-000-drrole-yko-nu.ctr\n",
      "./labels/20190328/20190328-154500-000-drrole-yko-nu.ctr\n",
      "./labels/20190328/20190328-155000-000-drrole-yko-nu.ctr\n",
      "./labels/20190328/20190328-155500-000-drrole-yko-nu.ctr\n",
      "./labels/20190328/20190328-160000-000-drrole-yko-nu.ctr\n",
      "./labels/20190328/20190328-160500-000-drrole-yko-nu.ctr\n",
      "./labels/20190328/20190328-161000-000-drrole-yko-nu.ctr\n",
      "./labels/20190328/20190328-161500-000-drrole-yko-nu.ctr\n",
      "./labels/20190328/20190328-170500-000-drrole-yko-nu.ctr\n",
      "./labels/20190328/20190328-171000-000-drrole-yko-nu.ctr\n",
      "./labels/20190328/20190328-171500-000-drrole-yko-nu.ctr\n",
      "./labels/20190328/20190328-172000-000-drrole-yko-nu.ctr\n",
      "./labels/20190328/20190328-172500-000-drrole-yko-nu.ctr\n",
      "./labels/20190328/20190328-173000-000-drrole-yko-nu.ctr\n",
      "20190628\n",
      "./labels/20190628/20190628-142000-000-drrole-yn-nu.ctr\n",
      "./labels/20190628/20190628-142500-000-drrole-yn-nu.ctr\n",
      "./labels/20190628/20190628-143000-000-drrole-yn-nu.ctr\n",
      "./labels/20190628/20190628-143500-000-drrole-yn-nu.ctr\n",
      "./labels/20190628/20190628-144000-000-drrole-yn-nu.ctr\n",
      "./labels/20190628/20190628-144500-000-drrole-yn-nu.ctr\n",
      "./labels/20190628/20190628-145000-000-drrole-yn-nu.ctr\n",
      "./labels/20190628/20190628-145500-000-drrole-yn-nu.ctr\n",
      "./labels/20190628/20190628-150000-000-drrole-yn-nu.ctr\n",
      "./labels/20190628/20190628-150500-000-drrole-yn-nu.ctr\n",
      "./labels/20190628/20190628-151000-000-drrole-yn-nu.ctr\n",
      "./labels/20190628/20190628-151500-000-drrole-yn-nu.ctr\n",
      "20211020\n",
      "./labels/20211020/20211020-144500-000-drrole-yko-nu.ctr\n",
      "./labels/20211020/20211020-145000-000-drrole-yko-nu.ctr\n",
      "./labels/20211020/20211020-145500-000-drrole-yko-nu.ctr\n",
      "./labels/20211020/20211020-152000-000-drrole-yko-nu.ctr\n",
      "./labels/20211020/20211020-152500-000-drrole-yko-nu.ctr\n",
      "./labels/20211020/20211020-153000-000-drrole-yko-nu.ctr\n",
      "20211021\n",
      "./labels/20211021/20211021-112000-000-drrole-nu.ctr\n",
      "./labels/20211021/20211021-112500-000-drrole-nu.ctr\n",
      "./labels/20211021/20211021-113000-000-drrole-nu.ctr\n",
      "./labels/20211021/20211021-113500-000-drrole-nu.ctr\n",
      "./labels/20211021/20211021-114000-000-drrole-nu.ctr\n",
      "./labels/20211021/20211021-114500-000-drrole-nu.ctr\n",
      "./labels/20211021/20211021-115000-000-drrole-nu.ctr\n",
      "./labels/20211021/20211021-115500-000-drrole-nu.ctr\n",
      "./labels/20211021/20211021-121000-000-drrole-nu.ctr\n",
      "./labels/20211021/20211021-121500-000-drrole-nu.ctr\n",
      "./labels/20211021/20211021-122000-000-drrole-nu.ctr\n",
      "./labels/20211021/20211021-122500-000-drrole-nu.ctr\n",
      "./labels/20211021/20211021-123000-000-drrole-nu.ctr\n",
      "20211025\n",
      "./labels/20211025/20211025-140500-000-drrole2-nu-yko.ctr\n",
      "./labels/20211025/20211025-141000-000-drrole2-nu-yko.ctr\n",
      "./labels/20211025/20211025-141500-000-drrole2-nu-yko.ctr\n",
      "./labels/20211025/20211025-142000-000-drrole2-nu-yko.ctr\n",
      "./labels/20211025/20211025-142500-000-drrole2-nu-yko.ctr\n",
      "./labels/20211025/20211025-143000-000-drrole2-nu-yko.ctr\n",
      "./labels/20211025/20211025-143500-000-drrole2-nu-yko.ctr\n",
      "./labels/20211025/20211025-144000-000-drrole2-nu-yko.ctr\n",
      "./labels/20211025/20211025-151000-000-drrole2-yko.ctr\n",
      "./labels/20211025/20211025-151500-000-drrole2-yko.ctr\n",
      "./labels/20211025/20211025-154500-000-drrole2-yko.ctr\n",
      "./labels/20211025/20211025-155000-000-drrole2-yko.ctr\n",
      "20211105\n",
      "./labels/20211105/20211105-143500-000-drrole2-nu-yko.ctr\n",
      "./labels/20211105/20211105-144000-000-drrole2-nu-yko.ctr\n",
      "./labels/20211105/20211105-144500-000-drrole2-nu-yko.ctr\n",
      "./labels/20211105/20211105-145000-000-drrole2-nu-yko.ctr\n",
      "./labels/20211105/20211105-145500-000-drrole2-nu-yko.ctr\n",
      "./labels/20211105/20211105-150500-000-drrole2-nu-yko.ctr\n",
      "./labels/20211105/20211105-151000-000-drrole2-nu-yko.ctr\n",
      "./labels/20211105/20211105-151500-000-drrole2-nu-yko.ctr\n",
      "./labels/20211105/20211105-152000-000-drrole2-nu-yko.ctr\n",
      "./labels/20211105/20211105-152500-000-drrole2-nu-yko.ctr\n",
      "./labels/20211105/20211105-153000-000-drrole2-nu-yko.ctr\n",
      "./labels/20211105/20211105-153500-000-drrole2-nu-yko.ctr\n",
      "./labels/20211105/20211105-154000-000-drrole2-nu-yko.ctr\n",
      "./labels/20211105/20211105-154500-000-drrole2-nu-yko.ctr\n",
      "./labels/20211105/20211105-155000-000-drrole2-nu-yko.ctr\n",
      "./labels/20211105/20211105-155500-000-drrole2-nu-yko.ctr\n",
      "./labels/20211105/20211105-160000-000-drrole2-nu-yko.ctr\n",
      "./labels/20211105/20211105-160500-000-drrole2-nu-yko.ctr\n",
      "./labels/20211105/20211105-161000-000-drrole2-nu-yko.ctr\n",
      "20211112\n",
      "./labels/20211112/20211112-132500-000-drrole2-nu-yko.ctr\n",
      "./labels/20211112/20211112-133000-000-drrole2-nu-yko.ctr\n",
      "./labels/20211112/20211112-133500-000-drrole2-nu-yko.ctr\n",
      "./labels/20211112/20211112-134000-000-drrole2-nu-yko.ctr\n",
      "./labels/20211112/20211112-134500-000-drrole2-nu-yko.ctr\n",
      "./labels/20211112/20211112-135000-000-drrole2-nu-yko.ctr\n",
      "./labels/20211112/20211112-135500-000-drrole2-nu-yko.ctr\n",
      "./labels/20211112/20211112-140000-000-drrole2-nu-yko.ctr\n",
      "./labels/20211112/20211112-140500-000-drrole2-nu-yko.ctr\n",
      "./labels/20211112/20211112-141000-000-drrole2-nu-yko.ctr\n",
      "./labels/20211112/20211112-141500-000-drrole2-nu-yko.ctr\n",
      "./labels/20211112/20211112-144000-000-drrole2-nu-yko.ctr\n",
      "./labels/20211112/20211112-144500-000-drrole2-nu-yko.ctr\n",
      "./labels/20211112/20211112-145000-000-drrole2-nu-yko.ctr\n",
      "./labels/20211112/20211112-145500-000-drrole2-nu-yko.ctr\n",
      "./labels/20211112/20211112-150000-000-drrole2-nu-yko.ctr\n",
      "20220208\n",
      "./labels/20220208/20220208-145500-000-drrole-nu.ctr\n",
      "./labels/20220208/20220208-150000-000-drrole-nu.ctr\n",
      "./labels/20220208/20220208-150500-000-drrole-nu.ctr\n",
      "./labels/20220208/20220208-151000-000-drrole-nu.ctr\n",
      "./labels/20220208/20220208-151500-000-drrole-nu.ctr\n",
      "./labels/20220208/20220208-152000-000-drrole-nu.ctr\n",
      "./labels/20220208/20220208-152500-000-drrole-nu.ctr\n",
      "./labels/20220208/20220208-153000-000-drrole-nu.ctr\n",
      "./labels/20220208/20220208-153500-000-drrole-nu.ctr\n",
      "./labels/20220208/20220208-154000-000-drrole-nu.ctr\n",
      "20220209\n",
      "./labels/20220209/20220209-162000-000-drrole-nu.ctr\n",
      "./labels/20220209/20220209-162500-000-drrole-nu.ctr\n",
      "./labels/20220209/20220209-163000-000-drrole-nu.ctr\n",
      "./labels/20220209/20220209-163500-000-drrole-nu.ctr\n",
      "./labels/20220209/20220209-164000-000-drrole-nu.ctr\n",
      "./labels/20220209/20220209-164500-000-drrole-nu.ctr\n",
      "./labels/20220209/20220209-165000-000-drrole-nu.ctr\n",
      "./labels/20220209/20220209-165500-000-drrole-nu.ctr\n",
      "./labels/20220209/20220209-170000-000-drrole-nu.ctr\n",
      "./labels/20220209/20220209-170500-000-drrole-nu.ctr\n"
     ]
    }
   ],
   "source": [
    "import os\n",
    "\n",
    "\n",
    "raw_data = {}\n",
    "base_path = './labels/'\n",
    "temp = []\n",
    "data = []\n",
    "for session in os.listdir(base_path):\n",
    "    session_path = base_path + session +'/'\n",
    "    raw_data[session] = {}\n",
    "    print(session)\n",
    "    for file in os.listdir(session_path):\n",
    "        file_path = session_path + file\n",
    "        file_name = file.split('-')[1]\n",
    "        df = pd.read_csv(file_path, encoding='shiftjis', delimiter= '\\t', header = 1)\n",
    "        df['folder'] = session\n",
    "        df['file']  = file_name        \n",
    "        #print(df.columns)\n",
    "        df['start frame']  = df['ti'].mul(30).astype(int)\n",
    "        df['stop frame'] = df['tf'].mul(30).astype(int)\n",
    "        raw_data[session][file_name] = df[['folder', 'file','ti', 'tf','start frame', 'stop frame', 'cleantext1', 'label1', 'label2', 'label3']]\n",
    "        #data.append(raw_data[session][file_name])\n",
    "        print(file_path)\n",
    "#data = pd.concat(data)   "
   ]
  },
  {
   "cell_type": "markdown",
   "metadata": {},
   "source": [
    "## Check to see if the files are complete at the end of all this. I think some label files are missing and should be checked again same for the data file"
   ]
  },
  {
   "cell_type": "code",
   "execution_count": 180,
   "metadata": {},
   "outputs": [],
   "source": [
    "def fixGaze(x:str):\n",
    "    x = x.strip().strip('[').strip(']')\n",
    "    a = x.split()\n",
    "    a = [float(i) for i in a]\n",
    "    return np.array(a)\n",
    "\n",
    "def loadGazeFile(session, file):\n",
    "    '''\n",
    "    Load the 5 files and concat them together and return them so they can be used to get the data  for one data frame in raw_data\n",
    "    '''\n",
    "    base_path = './data/'\n",
    "    people = ['video1', 'video2', 'video3']\n",
    "    gaze_data = []\n",
    "    for person in people:\n",
    "        subject_gaze = []\n",
    "        for i in range(5):\n",
    "            file_path = f\"{base_path}{session}/{person}/{str(int(file)+i*100)}.csv\"\n",
    "            try:\n",
    "                gaze = pd.read_csv(file_path)\n",
    "            except Exception as e:\n",
    "                return np.array([-1, -1])\n",
    "            gaze['Gaze'] = gaze['Gaze'].apply(fixGaze)  \n",
    "            gaze = np.vstack(gaze['Gaze'].copy())\n",
    "            subject_gaze.append(gaze)\n",
    "        gaze_data.append(np.vstack(subject_gaze))\n",
    "    gaze_data = np.array(gaze_data)\n",
    "    return gaze_data\n",
    "\n",
    "def loadPoseFile(session, file):\n",
    "    people = ['video1', 'video2', 'video3']\n",
    "    base_path = './data'\n",
    "\n",
    "    pose_data = []\n",
    "    for person in people:\n",
    "        subject_pose = []\n",
    "        for i in range(5):\n",
    "            file_path = f\"{base_path}/{session}/Pose/{person}/{str(int(file)+i*100)}.npy\"\n",
    "            try:\n",
    "                pose = np.load(file_path)\n",
    "            except:\n",
    "                return np.array([-1, -1])\n",
    "            subject_pose.append(pose)\n",
    "        pose_data.append(np.vstack(subject_pose))\n",
    "    return np.array(pose_data)\n",
    "\n",
    "def getGazeData(session, file, start_fram, end_frame):\n",
    "    people = ['video1', 'video2', 'video3']\n",
    "    base_path = './data/'\n",
    "    gaze_data = []\n",
    "    \n",
    "    try:\n",
    "        for person in people:\n",
    "            subject_gaze = []\n",
    "            for i in range(5):\n",
    "                #### this code is slow as hell\n",
    "                ## It opens and closes 5 files and performs array operations for every single line of the dataframe which is freakin stupid\n",
    "                file_path = f\"{base_path}{session}/{person}/{str(int(file)+i*100)}.csv\"\n",
    "                gaze = pd.read_csv(file_path)\n",
    "                gaze['Gaze'] = gaze['Gaze'].apply(fixGaze)\n",
    "                gaze = np.vstack(gaze['Gaze'])\n",
    "                subject_gaze.append(gaze)\n",
    "            #print(np.vstack(subject_gaze).shape)\n",
    "            gaze_data.append(np.vstack(subject_gaze)[start_fram:end_frame])\n",
    "            #print(gaze_data[0].shape)\n",
    "        gaze_data = np.array(gaze_data)\n",
    "        #print(gaze_data.shape)\n",
    "        #print(gaze_data[0].shape, gaze_data[1].shape, gaze_data[2].shape)\n",
    "        return gaze_data\n",
    "    except Exception as e:\n",
    "        print(e)\n",
    "        return np.zeros((1,3))\n",
    "\n",
    "def getPoseData(session, file, start_frame, end):\n",
    "    people = ['video1', 'video2', 'video3']\n",
    "    base_path = './data'\n",
    "\n",
    "    pose_data = []\n",
    "    try:\n",
    "        for person in people:\n",
    "            subject_pose = []\n",
    "            for i in range(5):\n",
    "                file_path = f\"{base_path}/{session}/Pose/{person}/{str(int(file)+i*100)}.npy\"\n",
    "                pose = np.load(file_path)\n",
    "                subject_pose.append(pose)\n",
    "            pose_data.append(np.vstack(subject_pose)[start_frame:end])\n",
    "        return np.array(pose_data)\n",
    "    except Exception as e:\n",
    "        print(e)\n",
    "        return np.zeros((1,3))"
   ]
  },
  {
   "cell_type": "code",
   "execution_count": 162,
   "metadata": {},
   "outputs": [],
   "source": [
    "def getGazeTurn(file, start1, stop1, start2, stop2, label1, label2):\n",
    "    first = np.array([])\n",
    "    second = np.array([])\n",
    "    if start1 != -1 and stop1 != -1:\n",
    "        first = file[:,start1:stop1, :]\n",
    "    if start2 !=-1 and stop2 != -1:\n",
    "        second = file[:, start2:stop2, :]\n",
    "    return (first, label1), (second, label2)\n",
    "\n",
    "def label2vec(label):\n",
    "    if type(label)!=str:\n",
    "        return np.array([-1])\n",
    "    if 'MS' in label:\n",
    "        return np.array([1, 0, 0])\n",
    "    elif 'ML' in label:\n",
    "        return np.array([0, 1, 0])\n",
    "    elif 'SL' in label:\n",
    "        return np.array([0, 0, 1])\n",
    "    else:\n",
    "        return  np.array([-1])\n",
    "    \n",
    "def label2OneHot(labels):\n",
    "    r1 = label2vec(labels[0])\n",
    "    r2 = label2vec(labels[1])\n",
    "    r3 = label2vec(labels[2])\n",
    "    if r1.shape[0] == 1 or r2.shape[0] == 1 or r3.shape[0] == 1:\n",
    "        return np.nan\n",
    "    return np.hstack([r1,r2,r3])"
   ]
  },
  {
   "cell_type": "code",
   "execution_count": 186,
   "metadata": {},
   "outputs": [
    {
     "name": "stderr",
     "output_type": "stream",
     "text": [
      "  0%|          | 0/19 [00:00<?, ?it/s]C:\\Users\\irdal\\AppData\\Local\\Temp\\ipykernel_30900\\2146178411.py:26: VisibleDeprecationWarning: Creating an ndarray from ragged nested sequences (which is a list-or-tuple of lists-or-tuples-or ndarrays with different lengths or shapes) is deprecated. If you meant to do this, you must specify 'dtype=object' when creating the ndarray.\n",
      "  gaze_data = np.array(gaze_data)\n",
      "C:\\Users\\irdal\\AppData\\Local\\Temp\\ipykernel_30900\\2146178411.py:44: VisibleDeprecationWarning: Creating an ndarray from ragged nested sequences (which is a list-or-tuple of lists-or-tuples-or ndarrays with different lengths or shapes) is deprecated. If you meant to do this, you must specify 'dtype=object' when creating the ndarray.\n",
      "  return np.array(pose_data)\n",
      "C:\\Users\\irdal\\AppData\\Local\\Temp\\ipykernel_30900\\2146178411.py:26: VisibleDeprecationWarning: Creating an ndarray from ragged nested sequences (which is a list-or-tuple of lists-or-tuples-or ndarrays with different lengths or shapes) is deprecated. If you meant to do this, you must specify 'dtype=object' when creating the ndarray.\n",
      "  gaze_data = np.array(gaze_data)\n",
      "C:\\Users\\irdal\\AppData\\Local\\Temp\\ipykernel_30900\\2146178411.py:44: VisibleDeprecationWarning: Creating an ndarray from ragged nested sequences (which is a list-or-tuple of lists-or-tuples-or ndarrays with different lengths or shapes) is deprecated. If you meant to do this, you must specify 'dtype=object' when creating the ndarray.\n",
      "  return np.array(pose_data)\n"
     ]
    },
    {
     "name": "stdout",
     "output_type": "stream",
     "text": [
      "___________________________________\n",
      "___________________________________\n"
     ]
    },
    {
     "name": "stderr",
     "output_type": "stream",
     "text": [
      "C:\\Users\\irdal\\AppData\\Local\\Temp\\ipykernel_30900\\2146178411.py:26: VisibleDeprecationWarning: Creating an ndarray from ragged nested sequences (which is a list-or-tuple of lists-or-tuples-or ndarrays with different lengths or shapes) is deprecated. If you meant to do this, you must specify 'dtype=object' when creating the ndarray.\n",
      "  gaze_data = np.array(gaze_data)\n",
      "C:\\Users\\irdal\\AppData\\Local\\Temp\\ipykernel_30900\\2146178411.py:44: VisibleDeprecationWarning: Creating an ndarray from ragged nested sequences (which is a list-or-tuple of lists-or-tuples-or ndarrays with different lengths or shapes) is deprecated. If you meant to do this, you must specify 'dtype=object' when creating the ndarray.\n",
      "  return np.array(pose_data)\n",
      "C:\\Users\\irdal\\AppData\\Local\\Temp\\ipykernel_30900\\2146178411.py:26: VisibleDeprecationWarning: Creating an ndarray from ragged nested sequences (which is a list-or-tuple of lists-or-tuples-or ndarrays with different lengths or shapes) is deprecated. If you meant to do this, you must specify 'dtype=object' when creating the ndarray.\n",
      "  gaze_data = np.array(gaze_data)\n",
      "C:\\Users\\irdal\\AppData\\Local\\Temp\\ipykernel_30900\\2146178411.py:44: VisibleDeprecationWarning: Creating an ndarray from ragged nested sequences (which is a list-or-tuple of lists-or-tuples-or ndarrays with different lengths or shapes) is deprecated. If you meant to do this, you must specify 'dtype=object' when creating the ndarray.\n",
      "  return np.array(pose_data)\n",
      "  5%|▌         | 1/19 [00:01<00:33,  1.86s/it]"
     ]
    },
    {
     "name": "stdout",
     "output_type": "stream",
     "text": [
      "___________________________________\n",
      "___________________________________\n"
     ]
    },
    {
     "name": "stderr",
     "output_type": "stream",
     "text": [
      "C:\\Users\\irdal\\AppData\\Local\\Temp\\ipykernel_30900\\2146178411.py:26: VisibleDeprecationWarning: Creating an ndarray from ragged nested sequences (which is a list-or-tuple of lists-or-tuples-or ndarrays with different lengths or shapes) is deprecated. If you meant to do this, you must specify 'dtype=object' when creating the ndarray.\n",
      "  gaze_data = np.array(gaze_data)\n",
      "C:\\Users\\irdal\\AppData\\Local\\Temp\\ipykernel_30900\\2146178411.py:44: VisibleDeprecationWarning: Creating an ndarray from ragged nested sequences (which is a list-or-tuple of lists-or-tuples-or ndarrays with different lengths or shapes) is deprecated. If you meant to do this, you must specify 'dtype=object' when creating the ndarray.\n",
      "  return np.array(pose_data)\n",
      " 11%|█         | 2/19 [00:03<00:28,  1.66s/it]"
     ]
    },
    {
     "name": "stdout",
     "output_type": "stream",
     "text": [
      "___________________________________\n"
     ]
    },
    {
     "name": "stderr",
     "output_type": "stream",
     "text": [
      "C:\\Users\\irdal\\AppData\\Local\\Temp\\ipykernel_30900\\2146178411.py:26: VisibleDeprecationWarning: Creating an ndarray from ragged nested sequences (which is a list-or-tuple of lists-or-tuples-or ndarrays with different lengths or shapes) is deprecated. If you meant to do this, you must specify 'dtype=object' when creating the ndarray.\n",
      "  gaze_data = np.array(gaze_data)\n",
      "C:\\Users\\irdal\\AppData\\Local\\Temp\\ipykernel_30900\\2146178411.py:44: VisibleDeprecationWarning: Creating an ndarray from ragged nested sequences (which is a list-or-tuple of lists-or-tuples-or ndarrays with different lengths or shapes) is deprecated. If you meant to do this, you must specify 'dtype=object' when creating the ndarray.\n",
      "  return np.array(pose_data)\n"
     ]
    },
    {
     "name": "stdout",
     "output_type": "stream",
     "text": [
      "___________________________________\n"
     ]
    },
    {
     "name": "stderr",
     "output_type": "stream",
     "text": [
      "C:\\Users\\irdal\\AppData\\Local\\Temp\\ipykernel_30900\\2146178411.py:26: VisibleDeprecationWarning: Creating an ndarray from ragged nested sequences (which is a list-or-tuple of lists-or-tuples-or ndarrays with different lengths or shapes) is deprecated. If you meant to do this, you must specify 'dtype=object' when creating the ndarray.\n",
      "  gaze_data = np.array(gaze_data)\n",
      "C:\\Users\\irdal\\AppData\\Local\\Temp\\ipykernel_30900\\2146178411.py:44: VisibleDeprecationWarning: Creating an ndarray from ragged nested sequences (which is a list-or-tuple of lists-or-tuples-or ndarrays with different lengths or shapes) is deprecated. If you meant to do this, you must specify 'dtype=object' when creating the ndarray.\n",
      "  return np.array(pose_data)\n",
      " 16%|█▌        | 3/19 [00:04<00:24,  1.56s/it]"
     ]
    },
    {
     "name": "stdout",
     "output_type": "stream",
     "text": [
      "___________________________________\n"
     ]
    },
    {
     "name": "stderr",
     "output_type": "stream",
     "text": [
      " 21%|██        | 4/19 [00:06<00:23,  1.57s/it]"
     ]
    },
    {
     "name": "stdout",
     "output_type": "stream",
     "text": [
      "___________________________________\n"
     ]
    },
    {
     "name": "stderr",
     "output_type": "stream",
     "text": [
      " 26%|██▋       | 5/19 [00:06<00:16,  1.16s/it]C:\\Users\\irdal\\AppData\\Local\\Temp\\ipykernel_30900\\2146178411.py:26: VisibleDeprecationWarning: Creating an ndarray from ragged nested sequences (which is a list-or-tuple of lists-or-tuples-or ndarrays with different lengths or shapes) is deprecated. If you meant to do this, you must specify 'dtype=object' when creating the ndarray.\n",
      "  gaze_data = np.array(gaze_data)\n",
      "C:\\Users\\irdal\\AppData\\Local\\Temp\\ipykernel_30900\\2146178411.py:44: VisibleDeprecationWarning: Creating an ndarray from ragged nested sequences (which is a list-or-tuple of lists-or-tuples-or ndarrays with different lengths or shapes) is deprecated. If you meant to do this, you must specify 'dtype=object' when creating the ndarray.\n",
      "  return np.array(pose_data)\n",
      "C:\\Users\\irdal\\AppData\\Local\\Temp\\ipykernel_30900\\2146178411.py:26: VisibleDeprecationWarning: Creating an ndarray from ragged nested sequences (which is a list-or-tuple of lists-or-tuples-or ndarrays with different lengths or shapes) is deprecated. If you meant to do this, you must specify 'dtype=object' when creating the ndarray.\n",
      "  gaze_data = np.array(gaze_data)\n"
     ]
    },
    {
     "name": "stdout",
     "output_type": "stream",
     "text": [
      "___________________________________\n",
      "___________________________________\n"
     ]
    },
    {
     "name": "stderr",
     "output_type": "stream",
     "text": [
      "C:\\Users\\irdal\\AppData\\Local\\Temp\\ipykernel_30900\\2146178411.py:44: VisibleDeprecationWarning: Creating an ndarray from ragged nested sequences (which is a list-or-tuple of lists-or-tuples-or ndarrays with different lengths or shapes) is deprecated. If you meant to do this, you must specify 'dtype=object' when creating the ndarray.\n",
      "  return np.array(pose_data)\n",
      "C:\\Users\\irdal\\AppData\\Local\\Temp\\ipykernel_30900\\2146178411.py:26: VisibleDeprecationWarning: Creating an ndarray from ragged nested sequences (which is a list-or-tuple of lists-or-tuples-or ndarrays with different lengths or shapes) is deprecated. If you meant to do this, you must specify 'dtype=object' when creating the ndarray.\n",
      "  gaze_data = np.array(gaze_data)\n",
      "C:\\Users\\irdal\\AppData\\Local\\Temp\\ipykernel_30900\\2146178411.py:44: VisibleDeprecationWarning: Creating an ndarray from ragged nested sequences (which is a list-or-tuple of lists-or-tuples-or ndarrays with different lengths or shapes) is deprecated. If you meant to do this, you must specify 'dtype=object' when creating the ndarray.\n",
      "  return np.array(pose_data)\n"
     ]
    },
    {
     "name": "stdout",
     "output_type": "stream",
     "text": [
      "___________________________________\n"
     ]
    },
    {
     "name": "stderr",
     "output_type": "stream",
     "text": [
      "C:\\Users\\irdal\\AppData\\Local\\Temp\\ipykernel_30900\\2146178411.py:26: VisibleDeprecationWarning: Creating an ndarray from ragged nested sequences (which is a list-or-tuple of lists-or-tuples-or ndarrays with different lengths or shapes) is deprecated. If you meant to do this, you must specify 'dtype=object' when creating the ndarray.\n",
      "  gaze_data = np.array(gaze_data)\n",
      "C:\\Users\\irdal\\AppData\\Local\\Temp\\ipykernel_30900\\2146178411.py:44: VisibleDeprecationWarning: Creating an ndarray from ragged nested sequences (which is a list-or-tuple of lists-or-tuples-or ndarrays with different lengths or shapes) is deprecated. If you meant to do this, you must specify 'dtype=object' when creating the ndarray.\n",
      "  return np.array(pose_data)\n",
      "C:\\Users\\irdal\\AppData\\Local\\Temp\\ipykernel_30900\\2146178411.py:26: VisibleDeprecationWarning: Creating an ndarray from ragged nested sequences (which is a list-or-tuple of lists-or-tuples-or ndarrays with different lengths or shapes) is deprecated. If you meant to do this, you must specify 'dtype=object' when creating the ndarray.\n",
      "  gaze_data = np.array(gaze_data)\n"
     ]
    },
    {
     "name": "stdout",
     "output_type": "stream",
     "text": [
      "___________________________________\n"
     ]
    },
    {
     "name": "stderr",
     "output_type": "stream",
     "text": [
      "C:\\Users\\irdal\\AppData\\Local\\Temp\\ipykernel_30900\\2146178411.py:44: VisibleDeprecationWarning: Creating an ndarray from ragged nested sequences (which is a list-or-tuple of lists-or-tuples-or ndarrays with different lengths or shapes) is deprecated. If you meant to do this, you must specify 'dtype=object' when creating the ndarray.\n",
      "  return np.array(pose_data)\n",
      "C:\\Users\\irdal\\AppData\\Local\\Temp\\ipykernel_30900\\2146178411.py:26: VisibleDeprecationWarning: Creating an ndarray from ragged nested sequences (which is a list-or-tuple of lists-or-tuples-or ndarrays with different lengths or shapes) is deprecated. If you meant to do this, you must specify 'dtype=object' when creating the ndarray.\n",
      "  gaze_data = np.array(gaze_data)\n"
     ]
    },
    {
     "name": "stdout",
     "output_type": "stream",
     "text": [
      "___________________________________\n"
     ]
    },
    {
     "name": "stderr",
     "output_type": "stream",
     "text": [
      "C:\\Users\\irdal\\AppData\\Local\\Temp\\ipykernel_30900\\2146178411.py:44: VisibleDeprecationWarning: Creating an ndarray from ragged nested sequences (which is a list-or-tuple of lists-or-tuples-or ndarrays with different lengths or shapes) is deprecated. If you meant to do this, you must specify 'dtype=object' when creating the ndarray.\n",
      "  return np.array(pose_data)\n",
      " 32%|███▏      | 6/19 [00:08<00:17,  1.33s/it]"
     ]
    },
    {
     "name": "stdout",
     "output_type": "stream",
     "text": [
      "___________________________________\n"
     ]
    },
    {
     "name": "stderr",
     "output_type": "stream",
     "text": [
      "C:\\Users\\irdal\\AppData\\Local\\Temp\\ipykernel_30900\\2146178411.py:26: VisibleDeprecationWarning: Creating an ndarray from ragged nested sequences (which is a list-or-tuple of lists-or-tuples-or ndarrays with different lengths or shapes) is deprecated. If you meant to do this, you must specify 'dtype=object' when creating the ndarray.\n",
      "  gaze_data = np.array(gaze_data)\n",
      "C:\\Users\\irdal\\AppData\\Local\\Temp\\ipykernel_30900\\2146178411.py:44: VisibleDeprecationWarning: Creating an ndarray from ragged nested sequences (which is a list-or-tuple of lists-or-tuples-or ndarrays with different lengths or shapes) is deprecated. If you meant to do this, you must specify 'dtype=object' when creating the ndarray.\n",
      "  return np.array(pose_data)\n"
     ]
    },
    {
     "name": "stdout",
     "output_type": "stream",
     "text": [
      "___________________________________\n"
     ]
    },
    {
     "name": "stderr",
     "output_type": "stream",
     "text": [
      "C:\\Users\\irdal\\AppData\\Local\\Temp\\ipykernel_30900\\2146178411.py:26: VisibleDeprecationWarning: Creating an ndarray from ragged nested sequences (which is a list-or-tuple of lists-or-tuples-or ndarrays with different lengths or shapes) is deprecated. If you meant to do this, you must specify 'dtype=object' when creating the ndarray.\n",
      "  gaze_data = np.array(gaze_data)\n",
      "C:\\Users\\irdal\\AppData\\Local\\Temp\\ipykernel_30900\\2146178411.py:44: VisibleDeprecationWarning: Creating an ndarray from ragged nested sequences (which is a list-or-tuple of lists-or-tuples-or ndarrays with different lengths or shapes) is deprecated. If you meant to do this, you must specify 'dtype=object' when creating the ndarray.\n",
      "  return np.array(pose_data)\n",
      "C:\\Users\\irdal\\AppData\\Local\\Temp\\ipykernel_30900\\2146178411.py:26: VisibleDeprecationWarning: Creating an ndarray from ragged nested sequences (which is a list-or-tuple of lists-or-tuples-or ndarrays with different lengths or shapes) is deprecated. If you meant to do this, you must specify 'dtype=object' when creating the ndarray.\n",
      "  gaze_data = np.array(gaze_data)\n"
     ]
    },
    {
     "name": "stdout",
     "output_type": "stream",
     "text": [
      "___________________________________\n",
      "___________________________________\n"
     ]
    },
    {
     "name": "stderr",
     "output_type": "stream",
     "text": [
      "C:\\Users\\irdal\\AppData\\Local\\Temp\\ipykernel_30900\\2146178411.py:44: VisibleDeprecationWarning: Creating an ndarray from ragged nested sequences (which is a list-or-tuple of lists-or-tuples-or ndarrays with different lengths or shapes) is deprecated. If you meant to do this, you must specify 'dtype=object' when creating the ndarray.\n",
      "  return np.array(pose_data)\n",
      "C:\\Users\\irdal\\AppData\\Local\\Temp\\ipykernel_30900\\2146178411.py:26: VisibleDeprecationWarning: Creating an ndarray from ragged nested sequences (which is a list-or-tuple of lists-or-tuples-or ndarrays with different lengths or shapes) is deprecated. If you meant to do this, you must specify 'dtype=object' when creating the ndarray.\n",
      "  gaze_data = np.array(gaze_data)\n",
      "C:\\Users\\irdal\\AppData\\Local\\Temp\\ipykernel_30900\\2146178411.py:44: VisibleDeprecationWarning: Creating an ndarray from ragged nested sequences (which is a list-or-tuple of lists-or-tuples-or ndarrays with different lengths or shapes) is deprecated. If you meant to do this, you must specify 'dtype=object' when creating the ndarray.\n",
      "  return np.array(pose_data)\n",
      "C:\\Users\\irdal\\AppData\\Local\\Temp\\ipykernel_30900\\2146178411.py:26: VisibleDeprecationWarning: Creating an ndarray from ragged nested sequences (which is a list-or-tuple of lists-or-tuples-or ndarrays with different lengths or shapes) is deprecated. If you meant to do this, you must specify 'dtype=object' when creating the ndarray.\n",
      "  gaze_data = np.array(gaze_data)\n"
     ]
    },
    {
     "name": "stdout",
     "output_type": "stream",
     "text": [
      "___________________________________\n",
      "___________________________________\n"
     ]
    },
    {
     "name": "stderr",
     "output_type": "stream",
     "text": [
      "C:\\Users\\irdal\\AppData\\Local\\Temp\\ipykernel_30900\\2146178411.py:44: VisibleDeprecationWarning: Creating an ndarray from ragged nested sequences (which is a list-or-tuple of lists-or-tuples-or ndarrays with different lengths or shapes) is deprecated. If you meant to do this, you must specify 'dtype=object' when creating the ndarray.\n",
      "  return np.array(pose_data)\n",
      "C:\\Users\\irdal\\AppData\\Local\\Temp\\ipykernel_30900\\2146178411.py:26: VisibleDeprecationWarning: Creating an ndarray from ragged nested sequences (which is a list-or-tuple of lists-or-tuples-or ndarrays with different lengths or shapes) is deprecated. If you meant to do this, you must specify 'dtype=object' when creating the ndarray.\n",
      "  gaze_data = np.array(gaze_data)\n",
      "C:\\Users\\irdal\\AppData\\Local\\Temp\\ipykernel_30900\\2146178411.py:44: VisibleDeprecationWarning: Creating an ndarray from ragged nested sequences (which is a list-or-tuple of lists-or-tuples-or ndarrays with different lengths or shapes) is deprecated. If you meant to do this, you must specify 'dtype=object' when creating the ndarray.\n",
      "  return np.array(pose_data)\n"
     ]
    },
    {
     "name": "stdout",
     "output_type": "stream",
     "text": [
      "___________________________________\n",
      "___________________________________\n"
     ]
    },
    {
     "name": "stderr",
     "output_type": "stream",
     "text": [
      "C:\\Users\\irdal\\AppData\\Local\\Temp\\ipykernel_30900\\2146178411.py:26: VisibleDeprecationWarning: Creating an ndarray from ragged nested sequences (which is a list-or-tuple of lists-or-tuples-or ndarrays with different lengths or shapes) is deprecated. If you meant to do this, you must specify 'dtype=object' when creating the ndarray.\n",
      "  gaze_data = np.array(gaze_data)\n",
      "C:\\Users\\irdal\\AppData\\Local\\Temp\\ipykernel_30900\\2146178411.py:44: VisibleDeprecationWarning: Creating an ndarray from ragged nested sequences (which is a list-or-tuple of lists-or-tuples-or ndarrays with different lengths or shapes) is deprecated. If you meant to do this, you must specify 'dtype=object' when creating the ndarray.\n",
      "  return np.array(pose_data)\n",
      "C:\\Users\\irdal\\AppData\\Local\\Temp\\ipykernel_30900\\2146178411.py:26: VisibleDeprecationWarning: Creating an ndarray from ragged nested sequences (which is a list-or-tuple of lists-or-tuples-or ndarrays with different lengths or shapes) is deprecated. If you meant to do this, you must specify 'dtype=object' when creating the ndarray.\n",
      "  gaze_data = np.array(gaze_data)\n",
      "C:\\Users\\irdal\\AppData\\Local\\Temp\\ipykernel_30900\\2146178411.py:44: VisibleDeprecationWarning: Creating an ndarray from ragged nested sequences (which is a list-or-tuple of lists-or-tuples-or ndarrays with different lengths or shapes) is deprecated. If you meant to do this, you must specify 'dtype=object' when creating the ndarray.\n",
      "  return np.array(pose_data)\n",
      "C:\\Users\\irdal\\AppData\\Local\\Temp\\ipykernel_30900\\2146178411.py:26: VisibleDeprecationWarning: Creating an ndarray from ragged nested sequences (which is a list-or-tuple of lists-or-tuples-or ndarrays with different lengths or shapes) is deprecated. If you meant to do this, you must specify 'dtype=object' when creating the ndarray.\n",
      "  gaze_data = np.array(gaze_data)\n",
      "C:\\Users\\irdal\\AppData\\Local\\Temp\\ipykernel_30900\\2146178411.py:44: VisibleDeprecationWarning: Creating an ndarray from ragged nested sequences (which is a list-or-tuple of lists-or-tuples-or ndarrays with different lengths or shapes) is deprecated. If you meant to do this, you must specify 'dtype=object' when creating the ndarray.\n",
      "  return np.array(pose_data)\n"
     ]
    },
    {
     "name": "stdout",
     "output_type": "stream",
     "text": [
      "___________________________________\n",
      "___________________________________\n"
     ]
    },
    {
     "name": "stderr",
     "output_type": "stream",
     "text": [
      "C:\\Users\\irdal\\AppData\\Local\\Temp\\ipykernel_30900\\2146178411.py:26: VisibleDeprecationWarning: Creating an ndarray from ragged nested sequences (which is a list-or-tuple of lists-or-tuples-or ndarrays with different lengths or shapes) is deprecated. If you meant to do this, you must specify 'dtype=object' when creating the ndarray.\n",
      "  gaze_data = np.array(gaze_data)\n",
      "C:\\Users\\irdal\\AppData\\Local\\Temp\\ipykernel_30900\\2146178411.py:44: VisibleDeprecationWarning: Creating an ndarray from ragged nested sequences (which is a list-or-tuple of lists-or-tuples-or ndarrays with different lengths or shapes) is deprecated. If you meant to do this, you must specify 'dtype=object' when creating the ndarray.\n",
      "  return np.array(pose_data)\n",
      "C:\\Users\\irdal\\AppData\\Local\\Temp\\ipykernel_30900\\2146178411.py:26: VisibleDeprecationWarning: Creating an ndarray from ragged nested sequences (which is a list-or-tuple of lists-or-tuples-or ndarrays with different lengths or shapes) is deprecated. If you meant to do this, you must specify 'dtype=object' when creating the ndarray.\n",
      "  gaze_data = np.array(gaze_data)\n"
     ]
    },
    {
     "name": "stdout",
     "output_type": "stream",
     "text": [
      "___________________________________\n",
      "___________________________________\n"
     ]
    },
    {
     "name": "stderr",
     "output_type": "stream",
     "text": [
      "C:\\Users\\irdal\\AppData\\Local\\Temp\\ipykernel_30900\\2146178411.py:44: VisibleDeprecationWarning: Creating an ndarray from ragged nested sequences (which is a list-or-tuple of lists-or-tuples-or ndarrays with different lengths or shapes) is deprecated. If you meant to do this, you must specify 'dtype=object' when creating the ndarray.\n",
      "  return np.array(pose_data)\n",
      "C:\\Users\\irdal\\AppData\\Local\\Temp\\ipykernel_30900\\2146178411.py:26: VisibleDeprecationWarning: Creating an ndarray from ragged nested sequences (which is a list-or-tuple of lists-or-tuples-or ndarrays with different lengths or shapes) is deprecated. If you meant to do this, you must specify 'dtype=object' when creating the ndarray.\n",
      "  gaze_data = np.array(gaze_data)\n",
      "C:\\Users\\irdal\\AppData\\Local\\Temp\\ipykernel_30900\\2146178411.py:44: VisibleDeprecationWarning: Creating an ndarray from ragged nested sequences (which is a list-or-tuple of lists-or-tuples-or ndarrays with different lengths or shapes) is deprecated. If you meant to do this, you must specify 'dtype=object' when creating the ndarray.\n",
      "  return np.array(pose_data)\n",
      " 37%|███▋      | 7/19 [00:13<00:29,  2.43s/it]"
     ]
    },
    {
     "name": "stdout",
     "output_type": "stream",
     "text": [
      "___________________________________\n",
      "___________________________________\n"
     ]
    },
    {
     "name": "stderr",
     "output_type": "stream",
     "text": [
      "C:\\Users\\irdal\\AppData\\Local\\Temp\\ipykernel_30900\\2146178411.py:26: VisibleDeprecationWarning: Creating an ndarray from ragged nested sequences (which is a list-or-tuple of lists-or-tuples-or ndarrays with different lengths or shapes) is deprecated. If you meant to do this, you must specify 'dtype=object' when creating the ndarray.\n",
      "  gaze_data = np.array(gaze_data)\n",
      "C:\\Users\\irdal\\AppData\\Local\\Temp\\ipykernel_30900\\2146178411.py:44: VisibleDeprecationWarning: Creating an ndarray from ragged nested sequences (which is a list-or-tuple of lists-or-tuples-or ndarrays with different lengths or shapes) is deprecated. If you meant to do this, you must specify 'dtype=object' when creating the ndarray.\n",
      "  return np.array(pose_data)\n"
     ]
    },
    {
     "name": "stdout",
     "output_type": "stream",
     "text": [
      "___________________________________\n",
      "___________________________________\n"
     ]
    },
    {
     "name": "stderr",
     "output_type": "stream",
     "text": [
      "C:\\Users\\irdal\\AppData\\Local\\Temp\\ipykernel_30900\\2146178411.py:26: VisibleDeprecationWarning: Creating an ndarray from ragged nested sequences (which is a list-or-tuple of lists-or-tuples-or ndarrays with different lengths or shapes) is deprecated. If you meant to do this, you must specify 'dtype=object' when creating the ndarray.\n",
      "  gaze_data = np.array(gaze_data)\n",
      "C:\\Users\\irdal\\AppData\\Local\\Temp\\ipykernel_30900\\2146178411.py:44: VisibleDeprecationWarning: Creating an ndarray from ragged nested sequences (which is a list-or-tuple of lists-or-tuples-or ndarrays with different lengths or shapes) is deprecated. If you meant to do this, you must specify 'dtype=object' when creating the ndarray.\n",
      "  return np.array(pose_data)\n",
      "C:\\Users\\irdal\\AppData\\Local\\Temp\\ipykernel_30900\\2146178411.py:26: VisibleDeprecationWarning: Creating an ndarray from ragged nested sequences (which is a list-or-tuple of lists-or-tuples-or ndarrays with different lengths or shapes) is deprecated. If you meant to do this, you must specify 'dtype=object' when creating the ndarray.\n",
      "  gaze_data = np.array(gaze_data)\n",
      "C:\\Users\\irdal\\AppData\\Local\\Temp\\ipykernel_30900\\2146178411.py:44: VisibleDeprecationWarning: Creating an ndarray from ragged nested sequences (which is a list-or-tuple of lists-or-tuples-or ndarrays with different lengths or shapes) is deprecated. If you meant to do this, you must specify 'dtype=object' when creating the ndarray.\n",
      "  return np.array(pose_data)\n"
     ]
    },
    {
     "name": "stdout",
     "output_type": "stream",
     "text": [
      "___________________________________\n",
      "___________________________________\n"
     ]
    },
    {
     "name": "stderr",
     "output_type": "stream",
     "text": [
      "C:\\Users\\irdal\\AppData\\Local\\Temp\\ipykernel_30900\\2146178411.py:26: VisibleDeprecationWarning: Creating an ndarray from ragged nested sequences (which is a list-or-tuple of lists-or-tuples-or ndarrays with different lengths or shapes) is deprecated. If you meant to do this, you must specify 'dtype=object' when creating the ndarray.\n",
      "  gaze_data = np.array(gaze_data)\n",
      "C:\\Users\\irdal\\AppData\\Local\\Temp\\ipykernel_30900\\2146178411.py:44: VisibleDeprecationWarning: Creating an ndarray from ragged nested sequences (which is a list-or-tuple of lists-or-tuples-or ndarrays with different lengths or shapes) is deprecated. If you meant to do this, you must specify 'dtype=object' when creating the ndarray.\n",
      "  return np.array(pose_data)\n",
      "C:\\Users\\irdal\\AppData\\Local\\Temp\\ipykernel_30900\\2146178411.py:26: VisibleDeprecationWarning: Creating an ndarray from ragged nested sequences (which is a list-or-tuple of lists-or-tuples-or ndarrays with different lengths or shapes) is deprecated. If you meant to do this, you must specify 'dtype=object' when creating the ndarray.\n",
      "  gaze_data = np.array(gaze_data)\n",
      "C:\\Users\\irdal\\AppData\\Local\\Temp\\ipykernel_30900\\2146178411.py:44: VisibleDeprecationWarning: Creating an ndarray from ragged nested sequences (which is a list-or-tuple of lists-or-tuples-or ndarrays with different lengths or shapes) is deprecated. If you meant to do this, you must specify 'dtype=object' when creating the ndarray.\n",
      "  return np.array(pose_data)\n"
     ]
    },
    {
     "name": "stdout",
     "output_type": "stream",
     "text": [
      "___________________________________\n",
      "___________________________________\n"
     ]
    },
    {
     "name": "stderr",
     "output_type": "stream",
     "text": [
      "C:\\Users\\irdal\\AppData\\Local\\Temp\\ipykernel_30900\\2146178411.py:26: VisibleDeprecationWarning: Creating an ndarray from ragged nested sequences (which is a list-or-tuple of lists-or-tuples-or ndarrays with different lengths or shapes) is deprecated. If you meant to do this, you must specify 'dtype=object' when creating the ndarray.\n",
      "  gaze_data = np.array(gaze_data)\n",
      "C:\\Users\\irdal\\AppData\\Local\\Temp\\ipykernel_30900\\2146178411.py:44: VisibleDeprecationWarning: Creating an ndarray from ragged nested sequences (which is a list-or-tuple of lists-or-tuples-or ndarrays with different lengths or shapes) is deprecated. If you meant to do this, you must specify 'dtype=object' when creating the ndarray.\n",
      "  return np.array(pose_data)\n",
      "C:\\Users\\irdal\\AppData\\Local\\Temp\\ipykernel_30900\\2146178411.py:26: VisibleDeprecationWarning: Creating an ndarray from ragged nested sequences (which is a list-or-tuple of lists-or-tuples-or ndarrays with different lengths or shapes) is deprecated. If you meant to do this, you must specify 'dtype=object' when creating the ndarray.\n",
      "  gaze_data = np.array(gaze_data)\n",
      "C:\\Users\\irdal\\AppData\\Local\\Temp\\ipykernel_30900\\2146178411.py:44: VisibleDeprecationWarning: Creating an ndarray from ragged nested sequences (which is a list-or-tuple of lists-or-tuples-or ndarrays with different lengths or shapes) is deprecated. If you meant to do this, you must specify 'dtype=object' when creating the ndarray.\n",
      "  return np.array(pose_data)\n",
      "C:\\Users\\irdal\\AppData\\Local\\Temp\\ipykernel_30900\\2146178411.py:26: VisibleDeprecationWarning: Creating an ndarray from ragged nested sequences (which is a list-or-tuple of lists-or-tuples-or ndarrays with different lengths or shapes) is deprecated. If you meant to do this, you must specify 'dtype=object' when creating the ndarray.\n",
      "  gaze_data = np.array(gaze_data)\n",
      "C:\\Users\\irdal\\AppData\\Local\\Temp\\ipykernel_30900\\2146178411.py:44: VisibleDeprecationWarning: Creating an ndarray from ragged nested sequences (which is a list-or-tuple of lists-or-tuples-or ndarrays with different lengths or shapes) is deprecated. If you meant to do this, you must specify 'dtype=object' when creating the ndarray.\n",
      "  return np.array(pose_data)\n"
     ]
    },
    {
     "name": "stdout",
     "output_type": "stream",
     "text": [
      "___________________________________\n",
      "___________________________________\n"
     ]
    },
    {
     "name": "stderr",
     "output_type": "stream",
     "text": [
      " 42%|████▏     | 8/19 [00:14<00:24,  2.21s/it]"
     ]
    },
    {
     "name": "stdout",
     "output_type": "stream",
     "text": [
      "___________________________________\n",
      "___________________________________\n"
     ]
    },
    {
     "name": "stderr",
     "output_type": "stream",
     "text": [
      "C:\\Users\\irdal\\AppData\\Local\\Temp\\ipykernel_30900\\2146178411.py:26: VisibleDeprecationWarning: Creating an ndarray from ragged nested sequences (which is a list-or-tuple of lists-or-tuples-or ndarrays with different lengths or shapes) is deprecated. If you meant to do this, you must specify 'dtype=object' when creating the ndarray.\n",
      "  gaze_data = np.array(gaze_data)\n",
      "C:\\Users\\irdal\\AppData\\Local\\Temp\\ipykernel_30900\\2146178411.py:44: VisibleDeprecationWarning: Creating an ndarray from ragged nested sequences (which is a list-or-tuple of lists-or-tuples-or ndarrays with different lengths or shapes) is deprecated. If you meant to do this, you must specify 'dtype=object' when creating the ndarray.\n",
      "  return np.array(pose_data)\n",
      "C:\\Users\\irdal\\AppData\\Local\\Temp\\ipykernel_30900\\2146178411.py:26: VisibleDeprecationWarning: Creating an ndarray from ragged nested sequences (which is a list-or-tuple of lists-or-tuples-or ndarrays with different lengths or shapes) is deprecated. If you meant to do this, you must specify 'dtype=object' when creating the ndarray.\n",
      "  gaze_data = np.array(gaze_data)\n",
      "C:\\Users\\irdal\\AppData\\Local\\Temp\\ipykernel_30900\\2146178411.py:44: VisibleDeprecationWarning: Creating an ndarray from ragged nested sequences (which is a list-or-tuple of lists-or-tuples-or ndarrays with different lengths or shapes) is deprecated. If you meant to do this, you must specify 'dtype=object' when creating the ndarray.\n",
      "  return np.array(pose_data)\n",
      "C:\\Users\\irdal\\AppData\\Local\\Temp\\ipykernel_30900\\2146178411.py:26: VisibleDeprecationWarning: Creating an ndarray from ragged nested sequences (which is a list-or-tuple of lists-or-tuples-or ndarrays with different lengths or shapes) is deprecated. If you meant to do this, you must specify 'dtype=object' when creating the ndarray.\n",
      "  gaze_data = np.array(gaze_data)\n"
     ]
    },
    {
     "name": "stdout",
     "output_type": "stream",
     "text": [
      "___________________________________\n",
      "___________________________________\n"
     ]
    },
    {
     "name": "stderr",
     "output_type": "stream",
     "text": [
      "C:\\Users\\irdal\\AppData\\Local\\Temp\\ipykernel_30900\\2146178411.py:44: VisibleDeprecationWarning: Creating an ndarray from ragged nested sequences (which is a list-or-tuple of lists-or-tuples-or ndarrays with different lengths or shapes) is deprecated. If you meant to do this, you must specify 'dtype=object' when creating the ndarray.\n",
      "  return np.array(pose_data)\n",
      "C:\\Users\\irdal\\AppData\\Local\\Temp\\ipykernel_30900\\2146178411.py:26: VisibleDeprecationWarning: Creating an ndarray from ragged nested sequences (which is a list-or-tuple of lists-or-tuples-or ndarrays with different lengths or shapes) is deprecated. If you meant to do this, you must specify 'dtype=object' when creating the ndarray.\n",
      "  gaze_data = np.array(gaze_data)\n",
      "C:\\Users\\irdal\\AppData\\Local\\Temp\\ipykernel_30900\\2146178411.py:44: VisibleDeprecationWarning: Creating an ndarray from ragged nested sequences (which is a list-or-tuple of lists-or-tuples-or ndarrays with different lengths or shapes) is deprecated. If you meant to do this, you must specify 'dtype=object' when creating the ndarray.\n",
      "  return np.array(pose_data)\n"
     ]
    },
    {
     "name": "stdout",
     "output_type": "stream",
     "text": [
      "___________________________________\n"
     ]
    },
    {
     "name": "stderr",
     "output_type": "stream",
     "text": [
      " 47%|████▋     | 9/19 [00:16<00:21,  2.12s/it]"
     ]
    },
    {
     "name": "stdout",
     "output_type": "stream",
     "text": [
      "___________________________________\n",
      "___________________________________\n"
     ]
    },
    {
     "name": "stderr",
     "output_type": "stream",
     "text": [
      "C:\\Users\\irdal\\AppData\\Local\\Temp\\ipykernel_30900\\2146178411.py:26: VisibleDeprecationWarning: Creating an ndarray from ragged nested sequences (which is a list-or-tuple of lists-or-tuples-or ndarrays with different lengths or shapes) is deprecated. If you meant to do this, you must specify 'dtype=object' when creating the ndarray.\n",
      "  gaze_data = np.array(gaze_data)\n",
      "C:\\Users\\irdal\\AppData\\Local\\Temp\\ipykernel_30900\\2146178411.py:44: VisibleDeprecationWarning: Creating an ndarray from ragged nested sequences (which is a list-or-tuple of lists-or-tuples-or ndarrays with different lengths or shapes) is deprecated. If you meant to do this, you must specify 'dtype=object' when creating the ndarray.\n",
      "  return np.array(pose_data)\n",
      "C:\\Users\\irdal\\AppData\\Local\\Temp\\ipykernel_30900\\2146178411.py:26: VisibleDeprecationWarning: Creating an ndarray from ragged nested sequences (which is a list-or-tuple of lists-or-tuples-or ndarrays with different lengths or shapes) is deprecated. If you meant to do this, you must specify 'dtype=object' when creating the ndarray.\n",
      "  gaze_data = np.array(gaze_data)\n",
      "C:\\Users\\irdal\\AppData\\Local\\Temp\\ipykernel_30900\\2146178411.py:44: VisibleDeprecationWarning: Creating an ndarray from ragged nested sequences (which is a list-or-tuple of lists-or-tuples-or ndarrays with different lengths or shapes) is deprecated. If you meant to do this, you must specify 'dtype=object' when creating the ndarray.\n",
      "  return np.array(pose_data)\n",
      "C:\\Users\\irdal\\AppData\\Local\\Temp\\ipykernel_30900\\2146178411.py:26: VisibleDeprecationWarning: Creating an ndarray from ragged nested sequences (which is a list-or-tuple of lists-or-tuples-or ndarrays with different lengths or shapes) is deprecated. If you meant to do this, you must specify 'dtype=object' when creating the ndarray.\n",
      "  gaze_data = np.array(gaze_data)\n"
     ]
    },
    {
     "name": "stdout",
     "output_type": "stream",
     "text": [
      "___________________________________\n",
      "___________________________________\n"
     ]
    },
    {
     "name": "stderr",
     "output_type": "stream",
     "text": [
      "C:\\Users\\irdal\\AppData\\Local\\Temp\\ipykernel_30900\\2146178411.py:44: VisibleDeprecationWarning: Creating an ndarray from ragged nested sequences (which is a list-or-tuple of lists-or-tuples-or ndarrays with different lengths or shapes) is deprecated. If you meant to do this, you must specify 'dtype=object' when creating the ndarray.\n",
      "  return np.array(pose_data)\n",
      "C:\\Users\\irdal\\AppData\\Local\\Temp\\ipykernel_30900\\2146178411.py:26: VisibleDeprecationWarning: Creating an ndarray from ragged nested sequences (which is a list-or-tuple of lists-or-tuples-or ndarrays with different lengths or shapes) is deprecated. If you meant to do this, you must specify 'dtype=object' when creating the ndarray.\n",
      "  gaze_data = np.array(gaze_data)\n",
      "C:\\Users\\irdal\\AppData\\Local\\Temp\\ipykernel_30900\\2146178411.py:44: VisibleDeprecationWarning: Creating an ndarray from ragged nested sequences (which is a list-or-tuple of lists-or-tuples-or ndarrays with different lengths or shapes) is deprecated. If you meant to do this, you must specify 'dtype=object' when creating the ndarray.\n",
      "  return np.array(pose_data)\n",
      " 53%|█████▎    | 10/19 [00:18<00:17,  1.99s/it]C:\\Users\\irdal\\AppData\\Local\\Temp\\ipykernel_30900\\2146178411.py:26: VisibleDeprecationWarning: Creating an ndarray from ragged nested sequences (which is a list-or-tuple of lists-or-tuples-or ndarrays with different lengths or shapes) is deprecated. If you meant to do this, you must specify 'dtype=object' when creating the ndarray.\n",
      "  gaze_data = np.array(gaze_data)\n"
     ]
    },
    {
     "name": "stdout",
     "output_type": "stream",
     "text": [
      "___________________________________\n"
     ]
    },
    {
     "name": "stderr",
     "output_type": "stream",
     "text": [
      "C:\\Users\\irdal\\AppData\\Local\\Temp\\ipykernel_30900\\2146178411.py:44: VisibleDeprecationWarning: Creating an ndarray from ragged nested sequences (which is a list-or-tuple of lists-or-tuples-or ndarrays with different lengths or shapes) is deprecated. If you meant to do this, you must specify 'dtype=object' when creating the ndarray.\n",
      "  return np.array(pose_data)\n",
      "C:\\Users\\irdal\\AppData\\Local\\Temp\\ipykernel_30900\\2146178411.py:26: VisibleDeprecationWarning: Creating an ndarray from ragged nested sequences (which is a list-or-tuple of lists-or-tuples-or ndarrays with different lengths or shapes) is deprecated. If you meant to do this, you must specify 'dtype=object' when creating the ndarray.\n",
      "  gaze_data = np.array(gaze_data)\n"
     ]
    },
    {
     "name": "stdout",
     "output_type": "stream",
     "text": [
      "___________________________________\n"
     ]
    },
    {
     "name": "stderr",
     "output_type": "stream",
     "text": [
      "C:\\Users\\irdal\\AppData\\Local\\Temp\\ipykernel_30900\\2146178411.py:44: VisibleDeprecationWarning: Creating an ndarray from ragged nested sequences (which is a list-or-tuple of lists-or-tuples-or ndarrays with different lengths or shapes) is deprecated. If you meant to do this, you must specify 'dtype=object' when creating the ndarray.\n",
      "  return np.array(pose_data)\n",
      "C:\\Users\\irdal\\AppData\\Local\\Temp\\ipykernel_30900\\2146178411.py:26: VisibleDeprecationWarning: Creating an ndarray from ragged nested sequences (which is a list-or-tuple of lists-or-tuples-or ndarrays with different lengths or shapes) is deprecated. If you meant to do this, you must specify 'dtype=object' when creating the ndarray.\n",
      "  gaze_data = np.array(gaze_data)\n"
     ]
    },
    {
     "name": "stdout",
     "output_type": "stream",
     "text": [
      "___________________________________\n"
     ]
    },
    {
     "name": "stderr",
     "output_type": "stream",
     "text": [
      "C:\\Users\\irdal\\AppData\\Local\\Temp\\ipykernel_30900\\2146178411.py:44: VisibleDeprecationWarning: Creating an ndarray from ragged nested sequences (which is a list-or-tuple of lists-or-tuples-or ndarrays with different lengths or shapes) is deprecated. If you meant to do this, you must specify 'dtype=object' when creating the ndarray.\n",
      "  return np.array(pose_data)\n",
      "C:\\Users\\irdal\\AppData\\Local\\Temp\\ipykernel_30900\\2146178411.py:26: VisibleDeprecationWarning: Creating an ndarray from ragged nested sequences (which is a list-or-tuple of lists-or-tuples-or ndarrays with different lengths or shapes) is deprecated. If you meant to do this, you must specify 'dtype=object' when creating the ndarray.\n",
      "  gaze_data = np.array(gaze_data)\n"
     ]
    },
    {
     "name": "stdout",
     "output_type": "stream",
     "text": [
      "___________________________________\n"
     ]
    },
    {
     "name": "stderr",
     "output_type": "stream",
     "text": [
      "C:\\Users\\irdal\\AppData\\Local\\Temp\\ipykernel_30900\\2146178411.py:44: VisibleDeprecationWarning: Creating an ndarray from ragged nested sequences (which is a list-or-tuple of lists-or-tuples-or ndarrays with different lengths or shapes) is deprecated. If you meant to do this, you must specify 'dtype=object' when creating the ndarray.\n",
      "  return np.array(pose_data)\n",
      "C:\\Users\\irdal\\AppData\\Local\\Temp\\ipykernel_30900\\2146178411.py:26: VisibleDeprecationWarning: Creating an ndarray from ragged nested sequences (which is a list-or-tuple of lists-or-tuples-or ndarrays with different lengths or shapes) is deprecated. If you meant to do this, you must specify 'dtype=object' when creating the ndarray.\n",
      "  gaze_data = np.array(gaze_data)\n"
     ]
    },
    {
     "name": "stdout",
     "output_type": "stream",
     "text": [
      "___________________________________\n"
     ]
    },
    {
     "name": "stderr",
     "output_type": "stream",
     "text": [
      "C:\\Users\\irdal\\AppData\\Local\\Temp\\ipykernel_30900\\2146178411.py:44: VisibleDeprecationWarning: Creating an ndarray from ragged nested sequences (which is a list-or-tuple of lists-or-tuples-or ndarrays with different lengths or shapes) is deprecated. If you meant to do this, you must specify 'dtype=object' when creating the ndarray.\n",
      "  return np.array(pose_data)\n"
     ]
    },
    {
     "name": "stdout",
     "output_type": "stream",
     "text": [
      "___________________________________\n"
     ]
    },
    {
     "name": "stderr",
     "output_type": "stream",
     "text": [
      "C:\\Users\\irdal\\AppData\\Local\\Temp\\ipykernel_30900\\2146178411.py:26: VisibleDeprecationWarning: Creating an ndarray from ragged nested sequences (which is a list-or-tuple of lists-or-tuples-or ndarrays with different lengths or shapes) is deprecated. If you meant to do this, you must specify 'dtype=object' when creating the ndarray.\n",
      "  gaze_data = np.array(gaze_data)\n",
      "C:\\Users\\irdal\\AppData\\Local\\Temp\\ipykernel_30900\\2146178411.py:44: VisibleDeprecationWarning: Creating an ndarray from ragged nested sequences (which is a list-or-tuple of lists-or-tuples-or ndarrays with different lengths or shapes) is deprecated. If you meant to do this, you must specify 'dtype=object' when creating the ndarray.\n",
      "  return np.array(pose_data)\n",
      "C:\\Users\\irdal\\AppData\\Local\\Temp\\ipykernel_30900\\2146178411.py:26: VisibleDeprecationWarning: Creating an ndarray from ragged nested sequences (which is a list-or-tuple of lists-or-tuples-or ndarrays with different lengths or shapes) is deprecated. If you meant to do this, you must specify 'dtype=object' when creating the ndarray.\n",
      "  gaze_data = np.array(gaze_data)\n"
     ]
    },
    {
     "name": "stdout",
     "output_type": "stream",
     "text": [
      "___________________________________\n"
     ]
    },
    {
     "name": "stderr",
     "output_type": "stream",
     "text": [
      "C:\\Users\\irdal\\AppData\\Local\\Temp\\ipykernel_30900\\2146178411.py:44: VisibleDeprecationWarning: Creating an ndarray from ragged nested sequences (which is a list-or-tuple of lists-or-tuples-or ndarrays with different lengths or shapes) is deprecated. If you meant to do this, you must specify 'dtype=object' when creating the ndarray.\n",
      "  return np.array(pose_data)\n"
     ]
    },
    {
     "name": "stdout",
     "output_type": "stream",
     "text": [
      "___________________________________\n"
     ]
    },
    {
     "name": "stderr",
     "output_type": "stream",
     "text": [
      "C:\\Users\\irdal\\AppData\\Local\\Temp\\ipykernel_30900\\2146178411.py:26: VisibleDeprecationWarning: Creating an ndarray from ragged nested sequences (which is a list-or-tuple of lists-or-tuples-or ndarrays with different lengths or shapes) is deprecated. If you meant to do this, you must specify 'dtype=object' when creating the ndarray.\n",
      "  gaze_data = np.array(gaze_data)\n",
      "C:\\Users\\irdal\\AppData\\Local\\Temp\\ipykernel_30900\\2146178411.py:44: VisibleDeprecationWarning: Creating an ndarray from ragged nested sequences (which is a list-or-tuple of lists-or-tuples-or ndarrays with different lengths or shapes) is deprecated. If you meant to do this, you must specify 'dtype=object' when creating the ndarray.\n",
      "  return np.array(pose_data)\n",
      "C:\\Users\\irdal\\AppData\\Local\\Temp\\ipykernel_30900\\2146178411.py:26: VisibleDeprecationWarning: Creating an ndarray from ragged nested sequences (which is a list-or-tuple of lists-or-tuples-or ndarrays with different lengths or shapes) is deprecated. If you meant to do this, you must specify 'dtype=object' when creating the ndarray.\n",
      "  gaze_data = np.array(gaze_data)\n"
     ]
    },
    {
     "name": "stdout",
     "output_type": "stream",
     "text": [
      "___________________________________\n",
      "___________________________________\n"
     ]
    },
    {
     "name": "stderr",
     "output_type": "stream",
     "text": [
      "C:\\Users\\irdal\\AppData\\Local\\Temp\\ipykernel_30900\\2146178411.py:44: VisibleDeprecationWarning: Creating an ndarray from ragged nested sequences (which is a list-or-tuple of lists-or-tuples-or ndarrays with different lengths or shapes) is deprecated. If you meant to do this, you must specify 'dtype=object' when creating the ndarray.\n",
      "  return np.array(pose_data)\n",
      " 58%|█████▊    | 11/19 [00:21<00:18,  2.36s/it]"
     ]
    },
    {
     "name": "stdout",
     "output_type": "stream",
     "text": [
      "___________________________________\n"
     ]
    },
    {
     "name": "stderr",
     "output_type": "stream",
     "text": [
      "C:\\Users\\irdal\\AppData\\Local\\Temp\\ipykernel_30900\\2146178411.py:26: VisibleDeprecationWarning: Creating an ndarray from ragged nested sequences (which is a list-or-tuple of lists-or-tuples-or ndarrays with different lengths or shapes) is deprecated. If you meant to do this, you must specify 'dtype=object' when creating the ndarray.\n",
      "  gaze_data = np.array(gaze_data)\n",
      "C:\\Users\\irdal\\AppData\\Local\\Temp\\ipykernel_30900\\2146178411.py:44: VisibleDeprecationWarning: Creating an ndarray from ragged nested sequences (which is a list-or-tuple of lists-or-tuples-or ndarrays with different lengths or shapes) is deprecated. If you meant to do this, you must specify 'dtype=object' when creating the ndarray.\n",
      "  return np.array(pose_data)\n",
      "C:\\Users\\irdal\\AppData\\Local\\Temp\\ipykernel_30900\\2146178411.py:26: VisibleDeprecationWarning: Creating an ndarray from ragged nested sequences (which is a list-or-tuple of lists-or-tuples-or ndarrays with different lengths or shapes) is deprecated. If you meant to do this, you must specify 'dtype=object' when creating the ndarray.\n",
      "  gaze_data = np.array(gaze_data)\n"
     ]
    },
    {
     "name": "stdout",
     "output_type": "stream",
     "text": [
      "___________________________________\n"
     ]
    },
    {
     "name": "stderr",
     "output_type": "stream",
     "text": [
      "C:\\Users\\irdal\\AppData\\Local\\Temp\\ipykernel_30900\\2146178411.py:44: VisibleDeprecationWarning: Creating an ndarray from ragged nested sequences (which is a list-or-tuple of lists-or-tuples-or ndarrays with different lengths or shapes) is deprecated. If you meant to do this, you must specify 'dtype=object' when creating the ndarray.\n",
      "  return np.array(pose_data)\n"
     ]
    },
    {
     "name": "stdout",
     "output_type": "stream",
     "text": [
      "___________________________________\n"
     ]
    },
    {
     "name": "stderr",
     "output_type": "stream",
     "text": [
      "C:\\Users\\irdal\\AppData\\Local\\Temp\\ipykernel_30900\\2146178411.py:26: VisibleDeprecationWarning: Creating an ndarray from ragged nested sequences (which is a list-or-tuple of lists-or-tuples-or ndarrays with different lengths or shapes) is deprecated. If you meant to do this, you must specify 'dtype=object' when creating the ndarray.\n",
      "  gaze_data = np.array(gaze_data)\n",
      "C:\\Users\\irdal\\AppData\\Local\\Temp\\ipykernel_30900\\2146178411.py:44: VisibleDeprecationWarning: Creating an ndarray from ragged nested sequences (which is a list-or-tuple of lists-or-tuples-or ndarrays with different lengths or shapes) is deprecated. If you meant to do this, you must specify 'dtype=object' when creating the ndarray.\n",
      "  return np.array(pose_data)\n"
     ]
    },
    {
     "name": "stdout",
     "output_type": "stream",
     "text": [
      "___________________________________\n"
     ]
    },
    {
     "name": "stderr",
     "output_type": "stream",
     "text": [
      "C:\\Users\\irdal\\AppData\\Local\\Temp\\ipykernel_30900\\2146178411.py:26: VisibleDeprecationWarning: Creating an ndarray from ragged nested sequences (which is a list-or-tuple of lists-or-tuples-or ndarrays with different lengths or shapes) is deprecated. If you meant to do this, you must specify 'dtype=object' when creating the ndarray.\n",
      "  gaze_data = np.array(gaze_data)\n",
      "C:\\Users\\irdal\\AppData\\Local\\Temp\\ipykernel_30900\\2146178411.py:44: VisibleDeprecationWarning: Creating an ndarray from ragged nested sequences (which is a list-or-tuple of lists-or-tuples-or ndarrays with different lengths or shapes) is deprecated. If you meant to do this, you must specify 'dtype=object' when creating the ndarray.\n",
      "  return np.array(pose_data)\n"
     ]
    },
    {
     "name": "stdout",
     "output_type": "stream",
     "text": [
      "___________________________________\n"
     ]
    },
    {
     "name": "stderr",
     "output_type": "stream",
     "text": [
      "C:\\Users\\irdal\\AppData\\Local\\Temp\\ipykernel_30900\\2146178411.py:26: VisibleDeprecationWarning: Creating an ndarray from ragged nested sequences (which is a list-or-tuple of lists-or-tuples-or ndarrays with different lengths or shapes) is deprecated. If you meant to do this, you must specify 'dtype=object' when creating the ndarray.\n",
      "  gaze_data = np.array(gaze_data)\n",
      "C:\\Users\\irdal\\AppData\\Local\\Temp\\ipykernel_30900\\2146178411.py:44: VisibleDeprecationWarning: Creating an ndarray from ragged nested sequences (which is a list-or-tuple of lists-or-tuples-or ndarrays with different lengths or shapes) is deprecated. If you meant to do this, you must specify 'dtype=object' when creating the ndarray.\n",
      "  return np.array(pose_data)\n"
     ]
    },
    {
     "name": "stdout",
     "output_type": "stream",
     "text": [
      "___________________________________\n"
     ]
    },
    {
     "name": "stderr",
     "output_type": "stream",
     "text": [
      "C:\\Users\\irdal\\AppData\\Local\\Temp\\ipykernel_30900\\2146178411.py:26: VisibleDeprecationWarning: Creating an ndarray from ragged nested sequences (which is a list-or-tuple of lists-or-tuples-or ndarrays with different lengths or shapes) is deprecated. If you meant to do this, you must specify 'dtype=object' when creating the ndarray.\n",
      "  gaze_data = np.array(gaze_data)\n",
      "C:\\Users\\irdal\\AppData\\Local\\Temp\\ipykernel_30900\\2146178411.py:44: VisibleDeprecationWarning: Creating an ndarray from ragged nested sequences (which is a list-or-tuple of lists-or-tuples-or ndarrays with different lengths or shapes) is deprecated. If you meant to do this, you must specify 'dtype=object' when creating the ndarray.\n",
      "  return np.array(pose_data)\n"
     ]
    },
    {
     "name": "stdout",
     "output_type": "stream",
     "text": [
      "___________________________________\n"
     ]
    },
    {
     "name": "stderr",
     "output_type": "stream",
     "text": [
      "C:\\Users\\irdal\\AppData\\Local\\Temp\\ipykernel_30900\\2146178411.py:26: VisibleDeprecationWarning: Creating an ndarray from ragged nested sequences (which is a list-or-tuple of lists-or-tuples-or ndarrays with different lengths or shapes) is deprecated. If you meant to do this, you must specify 'dtype=object' when creating the ndarray.\n",
      "  gaze_data = np.array(gaze_data)\n",
      "C:\\Users\\irdal\\AppData\\Local\\Temp\\ipykernel_30900\\2146178411.py:44: VisibleDeprecationWarning: Creating an ndarray from ragged nested sequences (which is a list-or-tuple of lists-or-tuples-or ndarrays with different lengths or shapes) is deprecated. If you meant to do this, you must specify 'dtype=object' when creating the ndarray.\n",
      "  return np.array(pose_data)\n"
     ]
    },
    {
     "name": "stdout",
     "output_type": "stream",
     "text": [
      "___________________________________\n"
     ]
    },
    {
     "name": "stderr",
     "output_type": "stream",
     "text": [
      "C:\\Users\\irdal\\AppData\\Local\\Temp\\ipykernel_30900\\2146178411.py:26: VisibleDeprecationWarning: Creating an ndarray from ragged nested sequences (which is a list-or-tuple of lists-or-tuples-or ndarrays with different lengths or shapes) is deprecated. If you meant to do this, you must specify 'dtype=object' when creating the ndarray.\n",
      "  gaze_data = np.array(gaze_data)\n",
      "C:\\Users\\irdal\\AppData\\Local\\Temp\\ipykernel_30900\\2146178411.py:44: VisibleDeprecationWarning: Creating an ndarray from ragged nested sequences (which is a list-or-tuple of lists-or-tuples-or ndarrays with different lengths or shapes) is deprecated. If you meant to do this, you must specify 'dtype=object' when creating the ndarray.\n",
      "  return np.array(pose_data)\n",
      " 63%|██████▎   | 12/19 [00:25<00:18,  2.65s/it]"
     ]
    },
    {
     "name": "stdout",
     "output_type": "stream",
     "text": [
      "___________________________________\n"
     ]
    },
    {
     "name": "stderr",
     "output_type": "stream",
     "text": [
      "C:\\Users\\irdal\\AppData\\Local\\Temp\\ipykernel_30900\\2146178411.py:26: VisibleDeprecationWarning: Creating an ndarray from ragged nested sequences (which is a list-or-tuple of lists-or-tuples-or ndarrays with different lengths or shapes) is deprecated. If you meant to do this, you must specify 'dtype=object' when creating the ndarray.\n",
      "  gaze_data = np.array(gaze_data)\n",
      "C:\\Users\\irdal\\AppData\\Local\\Temp\\ipykernel_30900\\2146178411.py:44: VisibleDeprecationWarning: Creating an ndarray from ragged nested sequences (which is a list-or-tuple of lists-or-tuples-or ndarrays with different lengths or shapes) is deprecated. If you meant to do this, you must specify 'dtype=object' when creating the ndarray.\n",
      "  return np.array(pose_data)\n"
     ]
    },
    {
     "name": "stdout",
     "output_type": "stream",
     "text": [
      "___________________________________\n"
     ]
    },
    {
     "name": "stderr",
     "output_type": "stream",
     "text": [
      "C:\\Users\\irdal\\AppData\\Local\\Temp\\ipykernel_30900\\2146178411.py:26: VisibleDeprecationWarning: Creating an ndarray from ragged nested sequences (which is a list-or-tuple of lists-or-tuples-or ndarrays with different lengths or shapes) is deprecated. If you meant to do this, you must specify 'dtype=object' when creating the ndarray.\n",
      "  gaze_data = np.array(gaze_data)\n",
      "C:\\Users\\irdal\\AppData\\Local\\Temp\\ipykernel_30900\\2146178411.py:44: VisibleDeprecationWarning: Creating an ndarray from ragged nested sequences (which is a list-or-tuple of lists-or-tuples-or ndarrays with different lengths or shapes) is deprecated. If you meant to do this, you must specify 'dtype=object' when creating the ndarray.\n",
      "  return np.array(pose_data)\n"
     ]
    },
    {
     "name": "stdout",
     "output_type": "stream",
     "text": [
      "___________________________________\n"
     ]
    },
    {
     "name": "stderr",
     "output_type": "stream",
     "text": [
      "C:\\Users\\irdal\\AppData\\Local\\Temp\\ipykernel_30900\\2146178411.py:26: VisibleDeprecationWarning: Creating an ndarray from ragged nested sequences (which is a list-or-tuple of lists-or-tuples-or ndarrays with different lengths or shapes) is deprecated. If you meant to do this, you must specify 'dtype=object' when creating the ndarray.\n",
      "  gaze_data = np.array(gaze_data)\n",
      "C:\\Users\\irdal\\AppData\\Local\\Temp\\ipykernel_30900\\2146178411.py:44: VisibleDeprecationWarning: Creating an ndarray from ragged nested sequences (which is a list-or-tuple of lists-or-tuples-or ndarrays with different lengths or shapes) is deprecated. If you meant to do this, you must specify 'dtype=object' when creating the ndarray.\n",
      "  return np.array(pose_data)\n"
     ]
    },
    {
     "name": "stdout",
     "output_type": "stream",
     "text": [
      "___________________________________\n"
     ]
    },
    {
     "name": "stderr",
     "output_type": "stream",
     "text": [
      " 68%|██████▊   | 13/19 [00:26<00:14,  2.37s/it]C:\\Users\\irdal\\AppData\\Local\\Temp\\ipykernel_30900\\2146178411.py:26: VisibleDeprecationWarning: Creating an ndarray from ragged nested sequences (which is a list-or-tuple of lists-or-tuples-or ndarrays with different lengths or shapes) is deprecated. If you meant to do this, you must specify 'dtype=object' when creating the ndarray.\n",
      "  gaze_data = np.array(gaze_data)\n",
      "C:\\Users\\irdal\\AppData\\Local\\Temp\\ipykernel_30900\\2146178411.py:44: VisibleDeprecationWarning: Creating an ndarray from ragged nested sequences (which is a list-or-tuple of lists-or-tuples-or ndarrays with different lengths or shapes) is deprecated. If you meant to do this, you must specify 'dtype=object' when creating the ndarray.\n",
      "  return np.array(pose_data)\n"
     ]
    },
    {
     "name": "stdout",
     "output_type": "stream",
     "text": [
      "___________________________________\n"
     ]
    },
    {
     "name": "stderr",
     "output_type": "stream",
     "text": [
      "C:\\Users\\irdal\\AppData\\Local\\Temp\\ipykernel_30900\\2146178411.py:26: VisibleDeprecationWarning: Creating an ndarray from ragged nested sequences (which is a list-or-tuple of lists-or-tuples-or ndarrays with different lengths or shapes) is deprecated. If you meant to do this, you must specify 'dtype=object' when creating the ndarray.\n",
      "  gaze_data = np.array(gaze_data)\n",
      "C:\\Users\\irdal\\AppData\\Local\\Temp\\ipykernel_30900\\2146178411.py:44: VisibleDeprecationWarning: Creating an ndarray from ragged nested sequences (which is a list-or-tuple of lists-or-tuples-or ndarrays with different lengths or shapes) is deprecated. If you meant to do this, you must specify 'dtype=object' when creating the ndarray.\n",
      "  return np.array(pose_data)\n"
     ]
    },
    {
     "name": "stdout",
     "output_type": "stream",
     "text": [
      "___________________________________\n"
     ]
    },
    {
     "name": "stderr",
     "output_type": "stream",
     "text": [
      "C:\\Users\\irdal\\AppData\\Local\\Temp\\ipykernel_30900\\2146178411.py:26: VisibleDeprecationWarning: Creating an ndarray from ragged nested sequences (which is a list-or-tuple of lists-or-tuples-or ndarrays with different lengths or shapes) is deprecated. If you meant to do this, you must specify 'dtype=object' when creating the ndarray.\n",
      "  gaze_data = np.array(gaze_data)\n",
      "C:\\Users\\irdal\\AppData\\Local\\Temp\\ipykernel_30900\\2146178411.py:44: VisibleDeprecationWarning: Creating an ndarray from ragged nested sequences (which is a list-or-tuple of lists-or-tuples-or ndarrays with different lengths or shapes) is deprecated. If you meant to do this, you must specify 'dtype=object' when creating the ndarray.\n",
      "  return np.array(pose_data)\n"
     ]
    },
    {
     "name": "stdout",
     "output_type": "stream",
     "text": [
      "___________________________________\n"
     ]
    },
    {
     "name": "stderr",
     "output_type": "stream",
     "text": [
      "C:\\Users\\irdal\\AppData\\Local\\Temp\\ipykernel_30900\\2146178411.py:26: VisibleDeprecationWarning: Creating an ndarray from ragged nested sequences (which is a list-or-tuple of lists-or-tuples-or ndarrays with different lengths or shapes) is deprecated. If you meant to do this, you must specify 'dtype=object' when creating the ndarray.\n",
      "  gaze_data = np.array(gaze_data)\n",
      "C:\\Users\\irdal\\AppData\\Local\\Temp\\ipykernel_30900\\2146178411.py:44: VisibleDeprecationWarning: Creating an ndarray from ragged nested sequences (which is a list-or-tuple of lists-or-tuples-or ndarrays with different lengths or shapes) is deprecated. If you meant to do this, you must specify 'dtype=object' when creating the ndarray.\n",
      "  return np.array(pose_data)\n"
     ]
    },
    {
     "name": "stdout",
     "output_type": "stream",
     "text": [
      "___________________________________\n"
     ]
    },
    {
     "name": "stderr",
     "output_type": "stream",
     "text": [
      "C:\\Users\\irdal\\AppData\\Local\\Temp\\ipykernel_30900\\2146178411.py:26: VisibleDeprecationWarning: Creating an ndarray from ragged nested sequences (which is a list-or-tuple of lists-or-tuples-or ndarrays with different lengths or shapes) is deprecated. If you meant to do this, you must specify 'dtype=object' when creating the ndarray.\n",
      "  gaze_data = np.array(gaze_data)\n",
      "C:\\Users\\irdal\\AppData\\Local\\Temp\\ipykernel_30900\\2146178411.py:44: VisibleDeprecationWarning: Creating an ndarray from ragged nested sequences (which is a list-or-tuple of lists-or-tuples-or ndarrays with different lengths or shapes) is deprecated. If you meant to do this, you must specify 'dtype=object' when creating the ndarray.\n",
      "  return np.array(pose_data)\n"
     ]
    },
    {
     "name": "stdout",
     "output_type": "stream",
     "text": [
      "___________________________________\n"
     ]
    },
    {
     "name": "stderr",
     "output_type": "stream",
     "text": [
      "C:\\Users\\irdal\\AppData\\Local\\Temp\\ipykernel_30900\\2146178411.py:26: VisibleDeprecationWarning: Creating an ndarray from ragged nested sequences (which is a list-or-tuple of lists-or-tuples-or ndarrays with different lengths or shapes) is deprecated. If you meant to do this, you must specify 'dtype=object' when creating the ndarray.\n",
      "  gaze_data = np.array(gaze_data)\n",
      "C:\\Users\\irdal\\AppData\\Local\\Temp\\ipykernel_30900\\2146178411.py:44: VisibleDeprecationWarning: Creating an ndarray from ragged nested sequences (which is a list-or-tuple of lists-or-tuples-or ndarrays with different lengths or shapes) is deprecated. If you meant to do this, you must specify 'dtype=object' when creating the ndarray.\n",
      "  return np.array(pose_data)\n"
     ]
    },
    {
     "name": "stdout",
     "output_type": "stream",
     "text": [
      "___________________________________\n"
     ]
    },
    {
     "name": "stderr",
     "output_type": "stream",
     "text": [
      "C:\\Users\\irdal\\AppData\\Local\\Temp\\ipykernel_30900\\2146178411.py:26: VisibleDeprecationWarning: Creating an ndarray from ragged nested sequences (which is a list-or-tuple of lists-or-tuples-or ndarrays with different lengths or shapes) is deprecated. If you meant to do this, you must specify 'dtype=object' when creating the ndarray.\n",
      "  gaze_data = np.array(gaze_data)\n",
      "C:\\Users\\irdal\\AppData\\Local\\Temp\\ipykernel_30900\\2146178411.py:44: VisibleDeprecationWarning: Creating an ndarray from ragged nested sequences (which is a list-or-tuple of lists-or-tuples-or ndarrays with different lengths or shapes) is deprecated. If you meant to do this, you must specify 'dtype=object' when creating the ndarray.\n",
      "  return np.array(pose_data)\n",
      " 74%|███████▎  | 14/19 [00:30<00:13,  2.73s/it]"
     ]
    },
    {
     "name": "stdout",
     "output_type": "stream",
     "text": [
      "___________________________________\n"
     ]
    },
    {
     "name": "stderr",
     "output_type": "stream",
     "text": [
      "C:\\Users\\irdal\\AppData\\Local\\Temp\\ipykernel_30900\\2146178411.py:26: VisibleDeprecationWarning: Creating an ndarray from ragged nested sequences (which is a list-or-tuple of lists-or-tuples-or ndarrays with different lengths or shapes) is deprecated. If you meant to do this, you must specify 'dtype=object' when creating the ndarray.\n",
      "  gaze_data = np.array(gaze_data)\n",
      "C:\\Users\\irdal\\AppData\\Local\\Temp\\ipykernel_30900\\2146178411.py:44: VisibleDeprecationWarning: Creating an ndarray from ragged nested sequences (which is a list-or-tuple of lists-or-tuples-or ndarrays with different lengths or shapes) is deprecated. If you meant to do this, you must specify 'dtype=object' when creating the ndarray.\n",
      "  return np.array(pose_data)\n"
     ]
    },
    {
     "name": "stdout",
     "output_type": "stream",
     "text": [
      "___________________________________\n"
     ]
    },
    {
     "name": "stderr",
     "output_type": "stream",
     "text": [
      "C:\\Users\\irdal\\AppData\\Local\\Temp\\ipykernel_30900\\2146178411.py:26: VisibleDeprecationWarning: Creating an ndarray from ragged nested sequences (which is a list-or-tuple of lists-or-tuples-or ndarrays with different lengths or shapes) is deprecated. If you meant to do this, you must specify 'dtype=object' when creating the ndarray.\n",
      "  gaze_data = np.array(gaze_data)\n",
      "C:\\Users\\irdal\\AppData\\Local\\Temp\\ipykernel_30900\\2146178411.py:44: VisibleDeprecationWarning: Creating an ndarray from ragged nested sequences (which is a list-or-tuple of lists-or-tuples-or ndarrays with different lengths or shapes) is deprecated. If you meant to do this, you must specify 'dtype=object' when creating the ndarray.\n",
      "  return np.array(pose_data)\n"
     ]
    },
    {
     "name": "stdout",
     "output_type": "stream",
     "text": [
      "___________________________________\n"
     ]
    },
    {
     "name": "stderr",
     "output_type": "stream",
     "text": [
      "C:\\Users\\irdal\\AppData\\Local\\Temp\\ipykernel_30900\\2146178411.py:26: VisibleDeprecationWarning: Creating an ndarray from ragged nested sequences (which is a list-or-tuple of lists-or-tuples-or ndarrays with different lengths or shapes) is deprecated. If you meant to do this, you must specify 'dtype=object' when creating the ndarray.\n",
      "  gaze_data = np.array(gaze_data)\n",
      "C:\\Users\\irdal\\AppData\\Local\\Temp\\ipykernel_30900\\2146178411.py:44: VisibleDeprecationWarning: Creating an ndarray from ragged nested sequences (which is a list-or-tuple of lists-or-tuples-or ndarrays with different lengths or shapes) is deprecated. If you meant to do this, you must specify 'dtype=object' when creating the ndarray.\n",
      "  return np.array(pose_data)\n"
     ]
    },
    {
     "name": "stdout",
     "output_type": "stream",
     "text": [
      "___________________________________\n"
     ]
    },
    {
     "name": "stderr",
     "output_type": "stream",
     "text": [
      "C:\\Users\\irdal\\AppData\\Local\\Temp\\ipykernel_30900\\2146178411.py:26: VisibleDeprecationWarning: Creating an ndarray from ragged nested sequences (which is a list-or-tuple of lists-or-tuples-or ndarrays with different lengths or shapes) is deprecated. If you meant to do this, you must specify 'dtype=object' when creating the ndarray.\n",
      "  gaze_data = np.array(gaze_data)\n",
      "C:\\Users\\irdal\\AppData\\Local\\Temp\\ipykernel_30900\\2146178411.py:44: VisibleDeprecationWarning: Creating an ndarray from ragged nested sequences (which is a list-or-tuple of lists-or-tuples-or ndarrays with different lengths or shapes) is deprecated. If you meant to do this, you must specify 'dtype=object' when creating the ndarray.\n",
      "  return np.array(pose_data)\n"
     ]
    },
    {
     "name": "stdout",
     "output_type": "stream",
     "text": [
      "___________________________________\n",
      "___________________________________\n"
     ]
    },
    {
     "name": "stderr",
     "output_type": "stream",
     "text": [
      "C:\\Users\\irdal\\AppData\\Local\\Temp\\ipykernel_30900\\2146178411.py:26: VisibleDeprecationWarning: Creating an ndarray from ragged nested sequences (which is a list-or-tuple of lists-or-tuples-or ndarrays with different lengths or shapes) is deprecated. If you meant to do this, you must specify 'dtype=object' when creating the ndarray.\n",
      "  gaze_data = np.array(gaze_data)\n",
      "C:\\Users\\irdal\\AppData\\Local\\Temp\\ipykernel_30900\\2146178411.py:44: VisibleDeprecationWarning: Creating an ndarray from ragged nested sequences (which is a list-or-tuple of lists-or-tuples-or ndarrays with different lengths or shapes) is deprecated. If you meant to do this, you must specify 'dtype=object' when creating the ndarray.\n",
      "  return np.array(pose_data)\n",
      "C:\\Users\\irdal\\AppData\\Local\\Temp\\ipykernel_30900\\2146178411.py:26: VisibleDeprecationWarning: Creating an ndarray from ragged nested sequences (which is a list-or-tuple of lists-or-tuples-or ndarrays with different lengths or shapes) is deprecated. If you meant to do this, you must specify 'dtype=object' when creating the ndarray.\n",
      "  gaze_data = np.array(gaze_data)\n",
      "C:\\Users\\irdal\\AppData\\Local\\Temp\\ipykernel_30900\\2146178411.py:44: VisibleDeprecationWarning: Creating an ndarray from ragged nested sequences (which is a list-or-tuple of lists-or-tuples-or ndarrays with different lengths or shapes) is deprecated. If you meant to do this, you must specify 'dtype=object' when creating the ndarray.\n",
      "  return np.array(pose_data)\n",
      " 79%|███████▉  | 15/19 [00:33<00:11,  2.88s/it]"
     ]
    },
    {
     "name": "stdout",
     "output_type": "stream",
     "text": [
      "___________________________________\n"
     ]
    },
    {
     "name": "stderr",
     "output_type": "stream",
     "text": [
      "C:\\Users\\irdal\\AppData\\Local\\Temp\\ipykernel_30900\\2146178411.py:26: VisibleDeprecationWarning: Creating an ndarray from ragged nested sequences (which is a list-or-tuple of lists-or-tuples-or ndarrays with different lengths or shapes) is deprecated. If you meant to do this, you must specify 'dtype=object' when creating the ndarray.\n",
      "  gaze_data = np.array(gaze_data)\n",
      "C:\\Users\\irdal\\AppData\\Local\\Temp\\ipykernel_30900\\2146178411.py:44: VisibleDeprecationWarning: Creating an ndarray from ragged nested sequences (which is a list-or-tuple of lists-or-tuples-or ndarrays with different lengths or shapes) is deprecated. If you meant to do this, you must specify 'dtype=object' when creating the ndarray.\n",
      "  return np.array(pose_data)\n"
     ]
    },
    {
     "name": "stdout",
     "output_type": "stream",
     "text": [
      "___________________________________\n"
     ]
    },
    {
     "name": "stderr",
     "output_type": "stream",
     "text": [
      "C:\\Users\\irdal\\AppData\\Local\\Temp\\ipykernel_30900\\2146178411.py:26: VisibleDeprecationWarning: Creating an ndarray from ragged nested sequences (which is a list-or-tuple of lists-or-tuples-or ndarrays with different lengths or shapes) is deprecated. If you meant to do this, you must specify 'dtype=object' when creating the ndarray.\n",
      "  gaze_data = np.array(gaze_data)\n",
      "C:\\Users\\irdal\\AppData\\Local\\Temp\\ipykernel_30900\\2146178411.py:44: VisibleDeprecationWarning: Creating an ndarray from ragged nested sequences (which is a list-or-tuple of lists-or-tuples-or ndarrays with different lengths or shapes) is deprecated. If you meant to do this, you must specify 'dtype=object' when creating the ndarray.\n",
      "  return np.array(pose_data)\n"
     ]
    },
    {
     "name": "stdout",
     "output_type": "stream",
     "text": [
      "___________________________________\n"
     ]
    },
    {
     "name": "stderr",
     "output_type": "stream",
     "text": [
      "C:\\Users\\irdal\\AppData\\Local\\Temp\\ipykernel_30900\\2146178411.py:26: VisibleDeprecationWarning: Creating an ndarray from ragged nested sequences (which is a list-or-tuple of lists-or-tuples-or ndarrays with different lengths or shapes) is deprecated. If you meant to do this, you must specify 'dtype=object' when creating the ndarray.\n",
      "  gaze_data = np.array(gaze_data)\n",
      "C:\\Users\\irdal\\AppData\\Local\\Temp\\ipykernel_30900\\2146178411.py:44: VisibleDeprecationWarning: Creating an ndarray from ragged nested sequences (which is a list-or-tuple of lists-or-tuples-or ndarrays with different lengths or shapes) is deprecated. If you meant to do this, you must specify 'dtype=object' when creating the ndarray.\n",
      "  return np.array(pose_data)\n"
     ]
    },
    {
     "name": "stdout",
     "output_type": "stream",
     "text": [
      "___________________________________\n"
     ]
    },
    {
     "name": "stderr",
     "output_type": "stream",
     "text": [
      "C:\\Users\\irdal\\AppData\\Local\\Temp\\ipykernel_30900\\2146178411.py:26: VisibleDeprecationWarning: Creating an ndarray from ragged nested sequences (which is a list-or-tuple of lists-or-tuples-or ndarrays with different lengths or shapes) is deprecated. If you meant to do this, you must specify 'dtype=object' when creating the ndarray.\n",
      "  gaze_data = np.array(gaze_data)\n",
      "C:\\Users\\irdal\\AppData\\Local\\Temp\\ipykernel_30900\\2146178411.py:44: VisibleDeprecationWarning: Creating an ndarray from ragged nested sequences (which is a list-or-tuple of lists-or-tuples-or ndarrays with different lengths or shapes) is deprecated. If you meant to do this, you must specify 'dtype=object' when creating the ndarray.\n",
      "  return np.array(pose_data)\n"
     ]
    },
    {
     "name": "stdout",
     "output_type": "stream",
     "text": [
      "___________________________________\n"
     ]
    },
    {
     "name": "stderr",
     "output_type": "stream",
     "text": [
      "C:\\Users\\irdal\\AppData\\Local\\Temp\\ipykernel_30900\\2146178411.py:26: VisibleDeprecationWarning: Creating an ndarray from ragged nested sequences (which is a list-or-tuple of lists-or-tuples-or ndarrays with different lengths or shapes) is deprecated. If you meant to do this, you must specify 'dtype=object' when creating the ndarray.\n",
      "  gaze_data = np.array(gaze_data)\n",
      "C:\\Users\\irdal\\AppData\\Local\\Temp\\ipykernel_30900\\2146178411.py:44: VisibleDeprecationWarning: Creating an ndarray from ragged nested sequences (which is a list-or-tuple of lists-or-tuples-or ndarrays with different lengths or shapes) is deprecated. If you meant to do this, you must specify 'dtype=object' when creating the ndarray.\n",
      "  return np.array(pose_data)\n"
     ]
    },
    {
     "name": "stdout",
     "output_type": "stream",
     "text": [
      "___________________________________\n"
     ]
    },
    {
     "name": "stderr",
     "output_type": "stream",
     "text": [
      "C:\\Users\\irdal\\AppData\\Local\\Temp\\ipykernel_30900\\2146178411.py:26: VisibleDeprecationWarning: Creating an ndarray from ragged nested sequences (which is a list-or-tuple of lists-or-tuples-or ndarrays with different lengths or shapes) is deprecated. If you meant to do this, you must specify 'dtype=object' when creating the ndarray.\n",
      "  gaze_data = np.array(gaze_data)\n",
      "C:\\Users\\irdal\\AppData\\Local\\Temp\\ipykernel_30900\\2146178411.py:44: VisibleDeprecationWarning: Creating an ndarray from ragged nested sequences (which is a list-or-tuple of lists-or-tuples-or ndarrays with different lengths or shapes) is deprecated. If you meant to do this, you must specify 'dtype=object' when creating the ndarray.\n",
      "  return np.array(pose_data)\n"
     ]
    },
    {
     "name": "stdout",
     "output_type": "stream",
     "text": [
      "___________________________________\n"
     ]
    },
    {
     "name": "stderr",
     "output_type": "stream",
     "text": [
      "C:\\Users\\irdal\\AppData\\Local\\Temp\\ipykernel_30900\\2146178411.py:26: VisibleDeprecationWarning: Creating an ndarray from ragged nested sequences (which is a list-or-tuple of lists-or-tuples-or ndarrays with different lengths or shapes) is deprecated. If you meant to do this, you must specify 'dtype=object' when creating the ndarray.\n",
      "  gaze_data = np.array(gaze_data)\n",
      "C:\\Users\\irdal\\AppData\\Local\\Temp\\ipykernel_30900\\2146178411.py:44: VisibleDeprecationWarning: Creating an ndarray from ragged nested sequences (which is a list-or-tuple of lists-or-tuples-or ndarrays with different lengths or shapes) is deprecated. If you meant to do this, you must specify 'dtype=object' when creating the ndarray.\n",
      "  return np.array(pose_data)\n"
     ]
    },
    {
     "name": "stdout",
     "output_type": "stream",
     "text": [
      "___________________________________\n"
     ]
    },
    {
     "name": "stderr",
     "output_type": "stream",
     "text": [
      "C:\\Users\\irdal\\AppData\\Local\\Temp\\ipykernel_30900\\2146178411.py:26: VisibleDeprecationWarning: Creating an ndarray from ragged nested sequences (which is a list-or-tuple of lists-or-tuples-or ndarrays with different lengths or shapes) is deprecated. If you meant to do this, you must specify 'dtype=object' when creating the ndarray.\n",
      "  gaze_data = np.array(gaze_data)\n",
      "C:\\Users\\irdal\\AppData\\Local\\Temp\\ipykernel_30900\\2146178411.py:44: VisibleDeprecationWarning: Creating an ndarray from ragged nested sequences (which is a list-or-tuple of lists-or-tuples-or ndarrays with different lengths or shapes) is deprecated. If you meant to do this, you must specify 'dtype=object' when creating the ndarray.\n",
      "  return np.array(pose_data)\n"
     ]
    },
    {
     "name": "stdout",
     "output_type": "stream",
     "text": [
      "___________________________________\n"
     ]
    },
    {
     "name": "stderr",
     "output_type": "stream",
     "text": [
      "C:\\Users\\irdal\\AppData\\Local\\Temp\\ipykernel_30900\\2146178411.py:26: VisibleDeprecationWarning: Creating an ndarray from ragged nested sequences (which is a list-or-tuple of lists-or-tuples-or ndarrays with different lengths or shapes) is deprecated. If you meant to do this, you must specify 'dtype=object' when creating the ndarray.\n",
      "  gaze_data = np.array(gaze_data)\n",
      "C:\\Users\\irdal\\AppData\\Local\\Temp\\ipykernel_30900\\2146178411.py:44: VisibleDeprecationWarning: Creating an ndarray from ragged nested sequences (which is a list-or-tuple of lists-or-tuples-or ndarrays with different lengths or shapes) is deprecated. If you meant to do this, you must specify 'dtype=object' when creating the ndarray.\n",
      "  return np.array(pose_data)\n"
     ]
    },
    {
     "name": "stdout",
     "output_type": "stream",
     "text": [
      "___________________________________\n"
     ]
    },
    {
     "name": "stderr",
     "output_type": "stream",
     "text": [
      "C:\\Users\\irdal\\AppData\\Local\\Temp\\ipykernel_30900\\2146178411.py:26: VisibleDeprecationWarning: Creating an ndarray from ragged nested sequences (which is a list-or-tuple of lists-or-tuples-or ndarrays with different lengths or shapes) is deprecated. If you meant to do this, you must specify 'dtype=object' when creating the ndarray.\n",
      "  gaze_data = np.array(gaze_data)\n",
      "C:\\Users\\irdal\\AppData\\Local\\Temp\\ipykernel_30900\\2146178411.py:44: VisibleDeprecationWarning: Creating an ndarray from ragged nested sequences (which is a list-or-tuple of lists-or-tuples-or ndarrays with different lengths or shapes) is deprecated. If you meant to do this, you must specify 'dtype=object' when creating the ndarray.\n",
      "  return np.array(pose_data)\n"
     ]
    },
    {
     "name": "stdout",
     "output_type": "stream",
     "text": [
      "___________________________________\n"
     ]
    },
    {
     "name": "stderr",
     "output_type": "stream",
     "text": [
      "C:\\Users\\irdal\\AppData\\Local\\Temp\\ipykernel_30900\\2146178411.py:26: VisibleDeprecationWarning: Creating an ndarray from ragged nested sequences (which is a list-or-tuple of lists-or-tuples-or ndarrays with different lengths or shapes) is deprecated. If you meant to do this, you must specify 'dtype=object' when creating the ndarray.\n",
      "  gaze_data = np.array(gaze_data)\n",
      "C:\\Users\\irdal\\AppData\\Local\\Temp\\ipykernel_30900\\2146178411.py:44: VisibleDeprecationWarning: Creating an ndarray from ragged nested sequences (which is a list-or-tuple of lists-or-tuples-or ndarrays with different lengths or shapes) is deprecated. If you meant to do this, you must specify 'dtype=object' when creating the ndarray.\n",
      "  return np.array(pose_data)\n",
      " 84%|████████▍ | 16/19 [00:38<00:10,  3.53s/it]"
     ]
    },
    {
     "name": "stdout",
     "output_type": "stream",
     "text": [
      "___________________________________\n",
      "___________________________________\n"
     ]
    },
    {
     "name": "stderr",
     "output_type": "stream",
     "text": [
      "C:\\Users\\irdal\\AppData\\Local\\Temp\\ipykernel_30900\\2146178411.py:26: VisibleDeprecationWarning: Creating an ndarray from ragged nested sequences (which is a list-or-tuple of lists-or-tuples-or ndarrays with different lengths or shapes) is deprecated. If you meant to do this, you must specify 'dtype=object' when creating the ndarray.\n",
      "  gaze_data = np.array(gaze_data)\n",
      "C:\\Users\\irdal\\AppData\\Local\\Temp\\ipykernel_30900\\2146178411.py:44: VisibleDeprecationWarning: Creating an ndarray from ragged nested sequences (which is a list-or-tuple of lists-or-tuples-or ndarrays with different lengths or shapes) is deprecated. If you meant to do this, you must specify 'dtype=object' when creating the ndarray.\n",
      "  return np.array(pose_data)\n"
     ]
    },
    {
     "name": "stdout",
     "output_type": "stream",
     "text": [
      "___________________________________\n"
     ]
    },
    {
     "name": "stderr",
     "output_type": "stream",
     "text": [
      "C:\\Users\\irdal\\AppData\\Local\\Temp\\ipykernel_30900\\2146178411.py:26: VisibleDeprecationWarning: Creating an ndarray from ragged nested sequences (which is a list-or-tuple of lists-or-tuples-or ndarrays with different lengths or shapes) is deprecated. If you meant to do this, you must specify 'dtype=object' when creating the ndarray.\n",
      "  gaze_data = np.array(gaze_data)\n",
      "C:\\Users\\irdal\\AppData\\Local\\Temp\\ipykernel_30900\\2146178411.py:44: VisibleDeprecationWarning: Creating an ndarray from ragged nested sequences (which is a list-or-tuple of lists-or-tuples-or ndarrays with different lengths or shapes) is deprecated. If you meant to do this, you must specify 'dtype=object' when creating the ndarray.\n",
      "  return np.array(pose_data)\n"
     ]
    },
    {
     "name": "stdout",
     "output_type": "stream",
     "text": [
      "___________________________________\n"
     ]
    },
    {
     "name": "stderr",
     "output_type": "stream",
     "text": [
      "C:\\Users\\irdal\\AppData\\Local\\Temp\\ipykernel_30900\\2146178411.py:26: VisibleDeprecationWarning: Creating an ndarray from ragged nested sequences (which is a list-or-tuple of lists-or-tuples-or ndarrays with different lengths or shapes) is deprecated. If you meant to do this, you must specify 'dtype=object' when creating the ndarray.\n",
      "  gaze_data = np.array(gaze_data)\n",
      "C:\\Users\\irdal\\AppData\\Local\\Temp\\ipykernel_30900\\2146178411.py:44: VisibleDeprecationWarning: Creating an ndarray from ragged nested sequences (which is a list-or-tuple of lists-or-tuples-or ndarrays with different lengths or shapes) is deprecated. If you meant to do this, you must specify 'dtype=object' when creating the ndarray.\n",
      "  return np.array(pose_data)\n"
     ]
    },
    {
     "name": "stdout",
     "output_type": "stream",
     "text": [
      "___________________________________\n"
     ]
    },
    {
     "name": "stderr",
     "output_type": "stream",
     "text": [
      "C:\\Users\\irdal\\AppData\\Local\\Temp\\ipykernel_30900\\2146178411.py:26: VisibleDeprecationWarning: Creating an ndarray from ragged nested sequences (which is a list-or-tuple of lists-or-tuples-or ndarrays with different lengths or shapes) is deprecated. If you meant to do this, you must specify 'dtype=object' when creating the ndarray.\n",
      "  gaze_data = np.array(gaze_data)\n",
      "C:\\Users\\irdal\\AppData\\Local\\Temp\\ipykernel_30900\\2146178411.py:44: VisibleDeprecationWarning: Creating an ndarray from ragged nested sequences (which is a list-or-tuple of lists-or-tuples-or ndarrays with different lengths or shapes) is deprecated. If you meant to do this, you must specify 'dtype=object' when creating the ndarray.\n",
      "  return np.array(pose_data)\n"
     ]
    },
    {
     "name": "stdout",
     "output_type": "stream",
     "text": [
      "___________________________________\n"
     ]
    },
    {
     "name": "stderr",
     "output_type": "stream",
     "text": [
      "C:\\Users\\irdal\\AppData\\Local\\Temp\\ipykernel_30900\\2146178411.py:26: VisibleDeprecationWarning: Creating an ndarray from ragged nested sequences (which is a list-or-tuple of lists-or-tuples-or ndarrays with different lengths or shapes) is deprecated. If you meant to do this, you must specify 'dtype=object' when creating the ndarray.\n",
      "  gaze_data = np.array(gaze_data)\n",
      "C:\\Users\\irdal\\AppData\\Local\\Temp\\ipykernel_30900\\2146178411.py:44: VisibleDeprecationWarning: Creating an ndarray from ragged nested sequences (which is a list-or-tuple of lists-or-tuples-or ndarrays with different lengths or shapes) is deprecated. If you meant to do this, you must specify 'dtype=object' when creating the ndarray.\n",
      "  return np.array(pose_data)\n"
     ]
    },
    {
     "name": "stdout",
     "output_type": "stream",
     "text": [
      "___________________________________\n"
     ]
    },
    {
     "name": "stderr",
     "output_type": "stream",
     "text": [
      "C:\\Users\\irdal\\AppData\\Local\\Temp\\ipykernel_30900\\2146178411.py:26: VisibleDeprecationWarning: Creating an ndarray from ragged nested sequences (which is a list-or-tuple of lists-or-tuples-or ndarrays with different lengths or shapes) is deprecated. If you meant to do this, you must specify 'dtype=object' when creating the ndarray.\n",
      "  gaze_data = np.array(gaze_data)\n",
      "C:\\Users\\irdal\\AppData\\Local\\Temp\\ipykernel_30900\\2146178411.py:44: VisibleDeprecationWarning: Creating an ndarray from ragged nested sequences (which is a list-or-tuple of lists-or-tuples-or ndarrays with different lengths or shapes) is deprecated. If you meant to do this, you must specify 'dtype=object' when creating the ndarray.\n",
      "  return np.array(pose_data)\n"
     ]
    },
    {
     "name": "stdout",
     "output_type": "stream",
     "text": [
      "___________________________________\n"
     ]
    },
    {
     "name": "stderr",
     "output_type": "stream",
     "text": [
      "C:\\Users\\irdal\\AppData\\Local\\Temp\\ipykernel_30900\\2146178411.py:26: VisibleDeprecationWarning: Creating an ndarray from ragged nested sequences (which is a list-or-tuple of lists-or-tuples-or ndarrays with different lengths or shapes) is deprecated. If you meant to do this, you must specify 'dtype=object' when creating the ndarray.\n",
      "  gaze_data = np.array(gaze_data)\n",
      "C:\\Users\\irdal\\AppData\\Local\\Temp\\ipykernel_30900\\2146178411.py:44: VisibleDeprecationWarning: Creating an ndarray from ragged nested sequences (which is a list-or-tuple of lists-or-tuples-or ndarrays with different lengths or shapes) is deprecated. If you meant to do this, you must specify 'dtype=object' when creating the ndarray.\n",
      "  return np.array(pose_data)\n"
     ]
    },
    {
     "name": "stdout",
     "output_type": "stream",
     "text": [
      "___________________________________\n"
     ]
    },
    {
     "name": "stderr",
     "output_type": "stream",
     "text": [
      "C:\\Users\\irdal\\AppData\\Local\\Temp\\ipykernel_30900\\2146178411.py:26: VisibleDeprecationWarning: Creating an ndarray from ragged nested sequences (which is a list-or-tuple of lists-or-tuples-or ndarrays with different lengths or shapes) is deprecated. If you meant to do this, you must specify 'dtype=object' when creating the ndarray.\n",
      "  gaze_data = np.array(gaze_data)\n",
      "C:\\Users\\irdal\\AppData\\Local\\Temp\\ipykernel_30900\\2146178411.py:44: VisibleDeprecationWarning: Creating an ndarray from ragged nested sequences (which is a list-or-tuple of lists-or-tuples-or ndarrays with different lengths or shapes) is deprecated. If you meant to do this, you must specify 'dtype=object' when creating the ndarray.\n",
      "  return np.array(pose_data)\n"
     ]
    },
    {
     "name": "stdout",
     "output_type": "stream",
     "text": [
      "___________________________________\n"
     ]
    },
    {
     "name": "stderr",
     "output_type": "stream",
     "text": [
      "C:\\Users\\irdal\\AppData\\Local\\Temp\\ipykernel_30900\\2146178411.py:26: VisibleDeprecationWarning: Creating an ndarray from ragged nested sequences (which is a list-or-tuple of lists-or-tuples-or ndarrays with different lengths or shapes) is deprecated. If you meant to do this, you must specify 'dtype=object' when creating the ndarray.\n",
      "  gaze_data = np.array(gaze_data)\n",
      "C:\\Users\\irdal\\AppData\\Local\\Temp\\ipykernel_30900\\2146178411.py:44: VisibleDeprecationWarning: Creating an ndarray from ragged nested sequences (which is a list-or-tuple of lists-or-tuples-or ndarrays with different lengths or shapes) is deprecated. If you meant to do this, you must specify 'dtype=object' when creating the ndarray.\n",
      "  return np.array(pose_data)\n"
     ]
    },
    {
     "name": "stdout",
     "output_type": "stream",
     "text": [
      "___________________________________\n"
     ]
    },
    {
     "name": "stderr",
     "output_type": "stream",
     "text": [
      "C:\\Users\\irdal\\AppData\\Local\\Temp\\ipykernel_30900\\2146178411.py:26: VisibleDeprecationWarning: Creating an ndarray from ragged nested sequences (which is a list-or-tuple of lists-or-tuples-or ndarrays with different lengths or shapes) is deprecated. If you meant to do this, you must specify 'dtype=object' when creating the ndarray.\n",
      "  gaze_data = np.array(gaze_data)\n",
      "C:\\Users\\irdal\\AppData\\Local\\Temp\\ipykernel_30900\\2146178411.py:44: VisibleDeprecationWarning: Creating an ndarray from ragged nested sequences (which is a list-or-tuple of lists-or-tuples-or ndarrays with different lengths or shapes) is deprecated. If you meant to do this, you must specify 'dtype=object' when creating the ndarray.\n",
      "  return np.array(pose_data)\n"
     ]
    },
    {
     "name": "stdout",
     "output_type": "stream",
     "text": [
      "___________________________________\n"
     ]
    },
    {
     "name": "stderr",
     "output_type": "stream",
     "text": [
      " 89%|████████▉ | 17/19 [00:42<00:07,  3.72s/it]"
     ]
    },
    {
     "name": "stdout",
     "output_type": "stream",
     "text": [
      "___________________________________\n"
     ]
    },
    {
     "name": "stderr",
     "output_type": "stream",
     "text": [
      "C:\\Users\\irdal\\AppData\\Local\\Temp\\ipykernel_30900\\2146178411.py:26: VisibleDeprecationWarning: Creating an ndarray from ragged nested sequences (which is a list-or-tuple of lists-or-tuples-or ndarrays with different lengths or shapes) is deprecated. If you meant to do this, you must specify 'dtype=object' when creating the ndarray.\n",
      "  gaze_data = np.array(gaze_data)\n",
      "C:\\Users\\irdal\\AppData\\Local\\Temp\\ipykernel_30900\\2146178411.py:44: VisibleDeprecationWarning: Creating an ndarray from ragged nested sequences (which is a list-or-tuple of lists-or-tuples-or ndarrays with different lengths or shapes) is deprecated. If you meant to do this, you must specify 'dtype=object' when creating the ndarray.\n",
      "  return np.array(pose_data)\n",
      "C:\\Users\\irdal\\AppData\\Local\\Temp\\ipykernel_30900\\2146178411.py:26: VisibleDeprecationWarning: Creating an ndarray from ragged nested sequences (which is a list-or-tuple of lists-or-tuples-or ndarrays with different lengths or shapes) is deprecated. If you meant to do this, you must specify 'dtype=object' when creating the ndarray.\n",
      "  gaze_data = np.array(gaze_data)\n"
     ]
    },
    {
     "name": "stdout",
     "output_type": "stream",
     "text": [
      "___________________________________\n"
     ]
    },
    {
     "name": "stderr",
     "output_type": "stream",
     "text": [
      "C:\\Users\\irdal\\AppData\\Local\\Temp\\ipykernel_30900\\2146178411.py:44: VisibleDeprecationWarning: Creating an ndarray from ragged nested sequences (which is a list-or-tuple of lists-or-tuples-or ndarrays with different lengths or shapes) is deprecated. If you meant to do this, you must specify 'dtype=object' when creating the ndarray.\n",
      "  return np.array(pose_data)\n",
      "C:\\Users\\irdal\\AppData\\Local\\Temp\\ipykernel_30900\\2146178411.py:26: VisibleDeprecationWarning: Creating an ndarray from ragged nested sequences (which is a list-or-tuple of lists-or-tuples-or ndarrays with different lengths or shapes) is deprecated. If you meant to do this, you must specify 'dtype=object' when creating the ndarray.\n",
      "  gaze_data = np.array(gaze_data)\n"
     ]
    },
    {
     "name": "stdout",
     "output_type": "stream",
     "text": [
      "___________________________________\n"
     ]
    },
    {
     "name": "stderr",
     "output_type": "stream",
     "text": [
      "C:\\Users\\irdal\\AppData\\Local\\Temp\\ipykernel_30900\\2146178411.py:44: VisibleDeprecationWarning: Creating an ndarray from ragged nested sequences (which is a list-or-tuple of lists-or-tuples-or ndarrays with different lengths or shapes) is deprecated. If you meant to do this, you must specify 'dtype=object' when creating the ndarray.\n",
      "  return np.array(pose_data)\n",
      "C:\\Users\\irdal\\AppData\\Local\\Temp\\ipykernel_30900\\2146178411.py:26: VisibleDeprecationWarning: Creating an ndarray from ragged nested sequences (which is a list-or-tuple of lists-or-tuples-or ndarrays with different lengths or shapes) is deprecated. If you meant to do this, you must specify 'dtype=object' when creating the ndarray.\n",
      "  gaze_data = np.array(gaze_data)\n"
     ]
    },
    {
     "name": "stdout",
     "output_type": "stream",
     "text": [
      "___________________________________\n"
     ]
    },
    {
     "name": "stderr",
     "output_type": "stream",
     "text": [
      "C:\\Users\\irdal\\AppData\\Local\\Temp\\ipykernel_30900\\2146178411.py:44: VisibleDeprecationWarning: Creating an ndarray from ragged nested sequences (which is a list-or-tuple of lists-or-tuples-or ndarrays with different lengths or shapes) is deprecated. If you meant to do this, you must specify 'dtype=object' when creating the ndarray.\n",
      "  return np.array(pose_data)\n",
      "C:\\Users\\irdal\\AppData\\Local\\Temp\\ipykernel_30900\\2146178411.py:26: VisibleDeprecationWarning: Creating an ndarray from ragged nested sequences (which is a list-or-tuple of lists-or-tuples-or ndarrays with different lengths or shapes) is deprecated. If you meant to do this, you must specify 'dtype=object' when creating the ndarray.\n",
      "  gaze_data = np.array(gaze_data)\n"
     ]
    },
    {
     "name": "stdout",
     "output_type": "stream",
     "text": [
      "___________________________________\n"
     ]
    },
    {
     "name": "stderr",
     "output_type": "stream",
     "text": [
      "C:\\Users\\irdal\\AppData\\Local\\Temp\\ipykernel_30900\\2146178411.py:44: VisibleDeprecationWarning: Creating an ndarray from ragged nested sequences (which is a list-or-tuple of lists-or-tuples-or ndarrays with different lengths or shapes) is deprecated. If you meant to do this, you must specify 'dtype=object' when creating the ndarray.\n",
      "  return np.array(pose_data)\n"
     ]
    },
    {
     "name": "stdout",
     "output_type": "stream",
     "text": [
      "___________________________________\n"
     ]
    },
    {
     "name": "stderr",
     "output_type": "stream",
     "text": [
      "C:\\Users\\irdal\\AppData\\Local\\Temp\\ipykernel_30900\\2146178411.py:26: VisibleDeprecationWarning: Creating an ndarray from ragged nested sequences (which is a list-or-tuple of lists-or-tuples-or ndarrays with different lengths or shapes) is deprecated. If you meant to do this, you must specify 'dtype=object' when creating the ndarray.\n",
      "  gaze_data = np.array(gaze_data)\n",
      "C:\\Users\\irdal\\AppData\\Local\\Temp\\ipykernel_30900\\2146178411.py:44: VisibleDeprecationWarning: Creating an ndarray from ragged nested sequences (which is a list-or-tuple of lists-or-tuples-or ndarrays with different lengths or shapes) is deprecated. If you meant to do this, you must specify 'dtype=object' when creating the ndarray.\n",
      "  return np.array(pose_data)\n"
     ]
    },
    {
     "name": "stdout",
     "output_type": "stream",
     "text": [
      "___________________________________\n"
     ]
    },
    {
     "name": "stderr",
     "output_type": "stream",
     "text": [
      "C:\\Users\\irdal\\AppData\\Local\\Temp\\ipykernel_30900\\2146178411.py:26: VisibleDeprecationWarning: Creating an ndarray from ragged nested sequences (which is a list-or-tuple of lists-or-tuples-or ndarrays with different lengths or shapes) is deprecated. If you meant to do this, you must specify 'dtype=object' when creating the ndarray.\n",
      "  gaze_data = np.array(gaze_data)\n",
      "C:\\Users\\irdal\\AppData\\Local\\Temp\\ipykernel_30900\\2146178411.py:44: VisibleDeprecationWarning: Creating an ndarray from ragged nested sequences (which is a list-or-tuple of lists-or-tuples-or ndarrays with different lengths or shapes) is deprecated. If you meant to do this, you must specify 'dtype=object' when creating the ndarray.\n",
      "  return np.array(pose_data)\n"
     ]
    },
    {
     "name": "stdout",
     "output_type": "stream",
     "text": [
      "___________________________________\n"
     ]
    },
    {
     "name": "stderr",
     "output_type": "stream",
     "text": [
      "C:\\Users\\irdal\\AppData\\Local\\Temp\\ipykernel_30900\\2146178411.py:26: VisibleDeprecationWarning: Creating an ndarray from ragged nested sequences (which is a list-or-tuple of lists-or-tuples-or ndarrays with different lengths or shapes) is deprecated. If you meant to do this, you must specify 'dtype=object' when creating the ndarray.\n",
      "  gaze_data = np.array(gaze_data)\n",
      "C:\\Users\\irdal\\AppData\\Local\\Temp\\ipykernel_30900\\2146178411.py:44: VisibleDeprecationWarning: Creating an ndarray from ragged nested sequences (which is a list-or-tuple of lists-or-tuples-or ndarrays with different lengths or shapes) is deprecated. If you meant to do this, you must specify 'dtype=object' when creating the ndarray.\n",
      "  return np.array(pose_data)\n"
     ]
    },
    {
     "name": "stdout",
     "output_type": "stream",
     "text": [
      "___________________________________\n"
     ]
    },
    {
     "name": "stderr",
     "output_type": "stream",
     "text": [
      "C:\\Users\\irdal\\AppData\\Local\\Temp\\ipykernel_30900\\2146178411.py:26: VisibleDeprecationWarning: Creating an ndarray from ragged nested sequences (which is a list-or-tuple of lists-or-tuples-or ndarrays with different lengths or shapes) is deprecated. If you meant to do this, you must specify 'dtype=object' when creating the ndarray.\n",
      "  gaze_data = np.array(gaze_data)\n",
      "C:\\Users\\irdal\\AppData\\Local\\Temp\\ipykernel_30900\\2146178411.py:44: VisibleDeprecationWarning: Creating an ndarray from ragged nested sequences (which is a list-or-tuple of lists-or-tuples-or ndarrays with different lengths or shapes) is deprecated. If you meant to do this, you must specify 'dtype=object' when creating the ndarray.\n",
      "  return np.array(pose_data)\n"
     ]
    },
    {
     "name": "stdout",
     "output_type": "stream",
     "text": [
      "___________________________________\n"
     ]
    },
    {
     "name": "stderr",
     "output_type": "stream",
     "text": [
      "C:\\Users\\irdal\\AppData\\Local\\Temp\\ipykernel_30900\\2146178411.py:26: VisibleDeprecationWarning: Creating an ndarray from ragged nested sequences (which is a list-or-tuple of lists-or-tuples-or ndarrays with different lengths or shapes) is deprecated. If you meant to do this, you must specify 'dtype=object' when creating the ndarray.\n",
      "  gaze_data = np.array(gaze_data)\n",
      "C:\\Users\\irdal\\AppData\\Local\\Temp\\ipykernel_30900\\2146178411.py:44: VisibleDeprecationWarning: Creating an ndarray from ragged nested sequences (which is a list-or-tuple of lists-or-tuples-or ndarrays with different lengths or shapes) is deprecated. If you meant to do this, you must specify 'dtype=object' when creating the ndarray.\n",
      "  return np.array(pose_data)\n",
      " 95%|█████████▍| 18/19 [00:45<00:03,  3.40s/it]"
     ]
    },
    {
     "name": "stdout",
     "output_type": "stream",
     "text": [
      "___________________________________\n"
     ]
    },
    {
     "name": "stderr",
     "output_type": "stream",
     "text": [
      "C:\\Users\\irdal\\AppData\\Local\\Temp\\ipykernel_30900\\2146178411.py:26: VisibleDeprecationWarning: Creating an ndarray from ragged nested sequences (which is a list-or-tuple of lists-or-tuples-or ndarrays with different lengths or shapes) is deprecated. If you meant to do this, you must specify 'dtype=object' when creating the ndarray.\n",
      "  gaze_data = np.array(gaze_data)\n",
      "C:\\Users\\irdal\\AppData\\Local\\Temp\\ipykernel_30900\\2146178411.py:44: VisibleDeprecationWarning: Creating an ndarray from ragged nested sequences (which is a list-or-tuple of lists-or-tuples-or ndarrays with different lengths or shapes) is deprecated. If you meant to do this, you must specify 'dtype=object' when creating the ndarray.\n",
      "  return np.array(pose_data)\n"
     ]
    },
    {
     "name": "stdout",
     "output_type": "stream",
     "text": [
      "___________________________________\n"
     ]
    },
    {
     "name": "stderr",
     "output_type": "stream",
     "text": [
      "C:\\Users\\irdal\\AppData\\Local\\Temp\\ipykernel_30900\\2146178411.py:26: VisibleDeprecationWarning: Creating an ndarray from ragged nested sequences (which is a list-or-tuple of lists-or-tuples-or ndarrays with different lengths or shapes) is deprecated. If you meant to do this, you must specify 'dtype=object' when creating the ndarray.\n",
      "  gaze_data = np.array(gaze_data)\n",
      "C:\\Users\\irdal\\AppData\\Local\\Temp\\ipykernel_30900\\2146178411.py:44: VisibleDeprecationWarning: Creating an ndarray from ragged nested sequences (which is a list-or-tuple of lists-or-tuples-or ndarrays with different lengths or shapes) is deprecated. If you meant to do this, you must specify 'dtype=object' when creating the ndarray.\n",
      "  return np.array(pose_data)\n"
     ]
    },
    {
     "name": "stdout",
     "output_type": "stream",
     "text": [
      "___________________________________\n"
     ]
    },
    {
     "name": "stderr",
     "output_type": "stream",
     "text": [
      "C:\\Users\\irdal\\AppData\\Local\\Temp\\ipykernel_30900\\2146178411.py:26: VisibleDeprecationWarning: Creating an ndarray from ragged nested sequences (which is a list-or-tuple of lists-or-tuples-or ndarrays with different lengths or shapes) is deprecated. If you meant to do this, you must specify 'dtype=object' when creating the ndarray.\n",
      "  gaze_data = np.array(gaze_data)\n",
      "C:\\Users\\irdal\\AppData\\Local\\Temp\\ipykernel_30900\\2146178411.py:44: VisibleDeprecationWarning: Creating an ndarray from ragged nested sequences (which is a list-or-tuple of lists-or-tuples-or ndarrays with different lengths or shapes) is deprecated. If you meant to do this, you must specify 'dtype=object' when creating the ndarray.\n",
      "  return np.array(pose_data)\n"
     ]
    },
    {
     "name": "stdout",
     "output_type": "stream",
     "text": [
      "___________________________________\n"
     ]
    },
    {
     "name": "stderr",
     "output_type": "stream",
     "text": [
      "C:\\Users\\irdal\\AppData\\Local\\Temp\\ipykernel_30900\\2146178411.py:26: VisibleDeprecationWarning: Creating an ndarray from ragged nested sequences (which is a list-or-tuple of lists-or-tuples-or ndarrays with different lengths or shapes) is deprecated. If you meant to do this, you must specify 'dtype=object' when creating the ndarray.\n",
      "  gaze_data = np.array(gaze_data)\n",
      "C:\\Users\\irdal\\AppData\\Local\\Temp\\ipykernel_30900\\2146178411.py:44: VisibleDeprecationWarning: Creating an ndarray from ragged nested sequences (which is a list-or-tuple of lists-or-tuples-or ndarrays with different lengths or shapes) is deprecated. If you meant to do this, you must specify 'dtype=object' when creating the ndarray.\n",
      "  return np.array(pose_data)\n"
     ]
    },
    {
     "name": "stdout",
     "output_type": "stream",
     "text": [
      "___________________________________\n"
     ]
    },
    {
     "name": "stderr",
     "output_type": "stream",
     "text": [
      "C:\\Users\\irdal\\AppData\\Local\\Temp\\ipykernel_30900\\2146178411.py:26: VisibleDeprecationWarning: Creating an ndarray from ragged nested sequences (which is a list-or-tuple of lists-or-tuples-or ndarrays with different lengths or shapes) is deprecated. If you meant to do this, you must specify 'dtype=object' when creating the ndarray.\n",
      "  gaze_data = np.array(gaze_data)\n",
      "C:\\Users\\irdal\\AppData\\Local\\Temp\\ipykernel_30900\\2146178411.py:44: VisibleDeprecationWarning: Creating an ndarray from ragged nested sequences (which is a list-or-tuple of lists-or-tuples-or ndarrays with different lengths or shapes) is deprecated. If you meant to do this, you must specify 'dtype=object' when creating the ndarray.\n",
      "  return np.array(pose_data)\n"
     ]
    },
    {
     "name": "stdout",
     "output_type": "stream",
     "text": [
      "___________________________________\n"
     ]
    },
    {
     "name": "stderr",
     "output_type": "stream",
     "text": [
      "C:\\Users\\irdal\\AppData\\Local\\Temp\\ipykernel_30900\\2146178411.py:26: VisibleDeprecationWarning: Creating an ndarray from ragged nested sequences (which is a list-or-tuple of lists-or-tuples-or ndarrays with different lengths or shapes) is deprecated. If you meant to do this, you must specify 'dtype=object' when creating the ndarray.\n",
      "  gaze_data = np.array(gaze_data)\n",
      "C:\\Users\\irdal\\AppData\\Local\\Temp\\ipykernel_30900\\2146178411.py:44: VisibleDeprecationWarning: Creating an ndarray from ragged nested sequences (which is a list-or-tuple of lists-or-tuples-or ndarrays with different lengths or shapes) is deprecated. If you meant to do this, you must specify 'dtype=object' when creating the ndarray.\n",
      "  return np.array(pose_data)\n"
     ]
    },
    {
     "name": "stdout",
     "output_type": "stream",
     "text": [
      "___________________________________\n"
     ]
    },
    {
     "name": "stderr",
     "output_type": "stream",
     "text": [
      "C:\\Users\\irdal\\AppData\\Local\\Temp\\ipykernel_30900\\2146178411.py:26: VisibleDeprecationWarning: Creating an ndarray from ragged nested sequences (which is a list-or-tuple of lists-or-tuples-or ndarrays with different lengths or shapes) is deprecated. If you meant to do this, you must specify 'dtype=object' when creating the ndarray.\n",
      "  gaze_data = np.array(gaze_data)\n",
      "C:\\Users\\irdal\\AppData\\Local\\Temp\\ipykernel_30900\\2146178411.py:44: VisibleDeprecationWarning: Creating an ndarray from ragged nested sequences (which is a list-or-tuple of lists-or-tuples-or ndarrays with different lengths or shapes) is deprecated. If you meant to do this, you must specify 'dtype=object' when creating the ndarray.\n",
      "  return np.array(pose_data)\n"
     ]
    },
    {
     "name": "stdout",
     "output_type": "stream",
     "text": [
      "___________________________________\n"
     ]
    },
    {
     "name": "stderr",
     "output_type": "stream",
     "text": [
      "C:\\Users\\irdal\\AppData\\Local\\Temp\\ipykernel_30900\\2146178411.py:26: VisibleDeprecationWarning: Creating an ndarray from ragged nested sequences (which is a list-or-tuple of lists-or-tuples-or ndarrays with different lengths or shapes) is deprecated. If you meant to do this, you must specify 'dtype=object' when creating the ndarray.\n",
      "  gaze_data = np.array(gaze_data)\n",
      "C:\\Users\\irdal\\AppData\\Local\\Temp\\ipykernel_30900\\2146178411.py:44: VisibleDeprecationWarning: Creating an ndarray from ragged nested sequences (which is a list-or-tuple of lists-or-tuples-or ndarrays with different lengths or shapes) is deprecated. If you meant to do this, you must specify 'dtype=object' when creating the ndarray.\n",
      "  return np.array(pose_data)\n",
      "100%|██████████| 19/19 [00:48<00:00,  2.53s/it]"
     ]
    },
    {
     "name": "stdout",
     "output_type": "stream",
     "text": [
      "___________________________________\n"
     ]
    },
    {
     "name": "stderr",
     "output_type": "stream",
     "text": [
      "\n"
     ]
    }
   ],
   "source": [
    "\n",
    "import math\n",
    "\n",
    "def cart2sph(x,y,z):\n",
    "    #print(x, y, z)\n",
    "    phi = math.asin(y)\n",
    "    theta = x/math.cos(phi)\n",
    "    return np.array([theta, phi])\n",
    "\n",
    "def cart2sphGaze(gaze:np.array):\n",
    "    cart_gaze = []\n",
    "    for person in gaze:\n",
    "        g = []\n",
    "        for frame in person:\n",
    "            g.append(cart2sph(frame[0], frame[1], frame[2]))\n",
    "        cart_gaze.append(g)\n",
    "    return np.array(cart_gaze)\n",
    "\n",
    "def cart2sphP(x,y,z):\n",
    "    XsqPlusYsq = x**2 + y**2\n",
    "    r = math.sqrt(XsqPlusYsq + z**2)               # r\n",
    "    elev = math.atan2(z,math.sqrt(XsqPlusYsq))     # theta\n",
    "    az = math.atan2(y,x)                           # phi\n",
    "    return (elev, az)\n",
    "\n",
    "def cart2sphPose(pose:np.array):\n",
    "    cart_pose = []\n",
    "    for person in pose:\n",
    "        p = []\n",
    "        for frame in person:\n",
    "            j = []\n",
    "            for joint in frame:\n",
    "                j.append(cart2sphP(joint[0], joint[1], joint[2]))\n",
    "            p.append(j)\n",
    "        cart_pose.append(p)\n",
    "    return np.array(cart_pose)            \n",
    "    \n",
    "def getStartStopFrame1(ti, tf, window, future, fps):\n",
    "    if tf-ti < window  +future:\n",
    "        return (-1, -1)\n",
    "    start_time = ti + np.random.rand()*((tf-(window+future)) - ti)#could be any random value between start, stop - (future + 0.1)\n",
    "    start_frame = int(start_time*fps)\n",
    "    stop_frame = start_frame + int(fps*window)\n",
    "    return start_frame, stop_frame\n",
    "def getStartStopFrame2(ti, tf, window, future, fps):\n",
    "    start_frame = int(fps*(tf-(future + window) + np.random.rand()*(future)))#int(fps*window)\n",
    "    stop_frame = start_frame + int(fps*window)\n",
    "    return start_frame, stop_frame\n",
    "\n",
    "\n",
    "def makeDataset2(raw_data, window, future, fps):\n",
    "    turns = []\n",
    "    for session in tqdm(raw_data.keys()):\n",
    "        for file in raw_data[session].keys():\n",
    "            df = raw_data[session][file][['folder', 'file', 'ti', 'tf', 'label1', 'label2', 'label3']].copy()\n",
    "            #print(df.columns)\n",
    "            gaze_file = loadGazeFile(session, file)\n",
    "            pose_file = loadPoseFile(session, file)\n",
    "            if len(gaze_file.shape) !=3 or len(pose_file.shape) != 4:\n",
    "                print('___________________________________')\n",
    "                continue\n",
    "            df[['start1', 'stop1']] = df.apply(lambda row: getStartStopFrame1(row['ti'], row['tf'], window, future, fps), axis=1, result_type='expand')\n",
    "            df[['start2', 'stop2']] = df.apply(lambda row: getStartStopFrame2(row['ti'], row['tf'], window, future, fps), axis=1, result_type='expand')\n",
    "            \n",
    "            df['Encoded CR'] = df.apply(lambda row:label2OneHot([row['label1'], row['label2'], row['label3']]), axis=1)\n",
    "            df['Encoded FR'] = df['Encoded CR'].shift(-1)\n",
    "            \n",
    "            #df.dropna(inplace=True)\n",
    "            #print(df.head())\n",
    "            for i, row in df.iterrows():\n",
    "                #print(row)\n",
    "                cr = row['Encoded CR']\n",
    "                fr = row['Encoded FR']\n",
    "                start1, stop1, start2, stop2  = row['start1':'stop2']\n",
    "                gaze = gaze_file[:, start1: stop1]\n",
    "                pose = pose_file[:, start1: stop1]\n",
    "                turns.append([gaze, pose, cr, cr])\n",
    "                if i!= len(df):\n",
    "                    gaze = gaze_file[:, start2: stop2]\n",
    "                    #print(gaze.shape)\n",
    "                    pose = pose_file[:, start2: stop2]\n",
    "                    turns.append([gaze, pose, cr, fr])  \n",
    "\n",
    "    return turns\n",
    "a= makeDataset2(raw_data, 2, 1, 30)"
   ]
  },
  {
   "cell_type": "code",
   "execution_count": 211,
   "metadata": {},
   "outputs": [
    {
     "data": {
      "text/plain": [
       "5184"
      ]
     },
     "execution_count": 211,
     "metadata": {},
     "output_type": "execute_result"
    }
   ],
   "source": [
    "len(df['Future Roles'].dropna())"
   ]
  },
  {
   "cell_type": "code",
   "execution_count": 194,
   "metadata": {},
   "outputs": [],
   "source": [
    "df = pd.DataFrame(columns=['Gaze', 'Pose', 'Current Role', 'Future Roles'], data=a)"
   ]
  },
  {
   "cell_type": "code",
   "execution_count": 215,
   "metadata": {},
   "outputs": [],
   "source": [
    "y = df.dropna()"
   ]
  },
  {
   "cell_type": "code",
   "execution_count": 217,
   "metadata": {},
   "outputs": [],
   "source": [
    "import pickle\n",
    "\n",
    "\n",
    "with open('abc.pth.tar', 'wb') as handle:\n",
    "    pickle.dump(df, handle)"
   ]
  },
  {
   "cell_type": "code",
   "execution_count": 105,
   "metadata": {},
   "outputs": [
    {
     "data": {
      "text/html": [
       "<div>\n",
       "<style scoped>\n",
       "    .dataframe tbody tr th:only-of-type {\n",
       "        vertical-align: middle;\n",
       "    }\n",
       "\n",
       "    .dataframe tbody tr th {\n",
       "        vertical-align: top;\n",
       "    }\n",
       "\n",
       "    .dataframe thead th {\n",
       "        text-align: right;\n",
       "    }\n",
       "</style>\n",
       "<table border=\"1\" class=\"dataframe\">\n",
       "  <thead>\n",
       "    <tr style=\"text-align: right;\">\n",
       "      <th></th>\n",
       "      <th>folder</th>\n",
       "      <th>file</th>\n",
       "      <th>ti</th>\n",
       "      <th>tf</th>\n",
       "      <th>start frame</th>\n",
       "      <th>stop frame</th>\n",
       "      <th>cleantext1</th>\n",
       "      <th>label1</th>\n",
       "      <th>label2</th>\n",
       "      <th>label3</th>\n",
       "      <th>a</th>\n",
       "      <th>b</th>\n",
       "      <th>start1</th>\n",
       "      <th>stop1</th>\n",
       "      <th>start2</th>\n",
       "      <th>stop2</th>\n",
       "    </tr>\n",
       "  </thead>\n",
       "  <tbody>\n",
       "    <tr>\n",
       "      <th>0</th>\n",
       "      <td>20170720</td>\n",
       "      <td>152000</td>\n",
       "      <td>247.9659</td>\n",
       "      <td>254.3827</td>\n",
       "      <td>7438</td>\n",
       "      <td>7631</td>\n",
       "      <td>話題を何にするか</td>\n",
       "      <td>AL</td>\n",
       "      <td>AL</td>\n",
       "      <td>MS</td>\n",
       "      <td>7475</td>\n",
       "      <td>7505</td>\n",
       "      <td>7511</td>\n",
       "      <td>7541</td>\n",
       "      <td>7582</td>\n",
       "      <td>7612</td>\n",
       "    </tr>\n",
       "    <tr>\n",
       "      <th>1</th>\n",
       "      <td>20170720</td>\n",
       "      <td>152000</td>\n",
       "      <td>254.3827</td>\n",
       "      <td>258.8760</td>\n",
       "      <td>7631</td>\n",
       "      <td>7766</td>\n",
       "      <td>NaN</td>\n",
       "      <td>MS</td>\n",
       "      <td>AL</td>\n",
       "      <td>AL</td>\n",
       "      <td>7665</td>\n",
       "      <td>7695</td>\n",
       "      <td>7671</td>\n",
       "      <td>7701</td>\n",
       "      <td>7709</td>\n",
       "      <td>7739</td>\n",
       "    </tr>\n",
       "    <tr>\n",
       "      <th>2</th>\n",
       "      <td>20170720</td>\n",
       "      <td>152000</td>\n",
       "      <td>258.8760</td>\n",
       "      <td>261.7606</td>\n",
       "      <td>7766</td>\n",
       "      <td>7852</td>\n",
       "      <td>浴衣を着る予定</td>\n",
       "      <td>AL</td>\n",
       "      <td>MS</td>\n",
       "      <td>AL</td>\n",
       "      <td>7775</td>\n",
       "      <td>7805</td>\n",
       "      <td>7784</td>\n",
       "      <td>7814</td>\n",
       "      <td>7794</td>\n",
       "      <td>7824</td>\n",
       "    </tr>\n",
       "    <tr>\n",
       "      <th>3</th>\n",
       "      <td>20170720</td>\n",
       "      <td>152000</td>\n",
       "      <td>261.7606</td>\n",
       "      <td>265.0535</td>\n",
       "      <td>7852</td>\n",
       "      <td>7951</td>\n",
       "      <td>NaN</td>\n",
       "      <td>AL</td>\n",
       "      <td>AL</td>\n",
       "      <td>MS</td>\n",
       "      <td>7886</td>\n",
       "      <td>7916</td>\n",
       "      <td>7854</td>\n",
       "      <td>7884</td>\n",
       "      <td>7916</td>\n",
       "      <td>7946</td>\n",
       "    </tr>\n",
       "    <tr>\n",
       "      <th>4</th>\n",
       "      <td>20170720</td>\n",
       "      <td>152000</td>\n",
       "      <td>265.0535</td>\n",
       "      <td>265.9894</td>\n",
       "      <td>7951</td>\n",
       "      <td>7979</td>\n",
       "      <td>NaN</td>\n",
       "      <td>MS</td>\n",
       "      <td>SL</td>\n",
       "      <td>ML</td>\n",
       "      <td>-1</td>\n",
       "      <td>-1</td>\n",
       "      <td>-1</td>\n",
       "      <td>-1</td>\n",
       "      <td>7919</td>\n",
       "      <td>7949</td>\n",
       "    </tr>\n",
       "  </tbody>\n",
       "</table>\n",
       "</div>"
      ],
      "text/plain": [
       "     folder    file        ti        tf  start frame  stop frame cleantext1  \\\n",
       "0  20170720  152000  247.9659  254.3827         7438        7631   話題を何にするか   \n",
       "1  20170720  152000  254.3827  258.8760         7631        7766        NaN   \n",
       "2  20170720  152000  258.8760  261.7606         7766        7852    浴衣を着る予定   \n",
       "3  20170720  152000  261.7606  265.0535         7852        7951        NaN   \n",
       "4  20170720  152000  265.0535  265.9894         7951        7979        NaN   \n",
       "\n",
       "  label1 label2 label3     a     b  start1  stop1  start2  stop2  \n",
       "0     AL     AL     MS  7475  7505    7511   7541    7582   7612  \n",
       "1     MS     AL     AL  7665  7695    7671   7701    7709   7739  \n",
       "2     AL     MS     AL  7775  7805    7784   7814    7794   7824  \n",
       "3     AL     AL     MS  7886  7916    7854   7884    7916   7946  \n",
       "4     MS     SL     ML    -1    -1      -1     -1    7919   7949  "
      ]
     },
     "execution_count": 105,
     "metadata": {},
     "output_type": "execute_result"
    }
   ],
   "source": [
    "\n",
    "#getStartStopFrame1(x['ti'], x['tf'], 2, 2, 30))"
   ]
  },
  {
   "cell_type": "code",
   "execution_count": 137,
   "metadata": {},
   "outputs": [],
   "source": [
    "y = y[['folder', 'file', 'label1', 'label2', 'label3', 'Encoded FR', 'Encoded CR']]\n",
    "z = y.dropna()"
   ]
  },
  {
   "cell_type": "code",
   "execution_count": 138,
   "metadata": {},
   "outputs": [
    {
     "ename": "KeyError",
     "evalue": "'start1'",
     "output_type": "error",
     "traceback": [
      "\u001b[1;31m---------------------------------------------------------------------------\u001b[0m",
      "\u001b[1;31mKeyError\u001b[0m                                  Traceback (most recent call last)",
      "File \u001b[1;32mc:\\Users\\irdal\\.conda\\envs\\eyegaze\\lib\\site-packages\\pandas\\core\\indexes\\base.py:3802\u001b[0m, in \u001b[0;36mIndex.get_loc\u001b[1;34m(self, key, method, tolerance)\u001b[0m\n\u001b[0;32m   3801\u001b[0m \u001b[39mtry\u001b[39;00m:\n\u001b[1;32m-> 3802\u001b[0m     \u001b[39mreturn\u001b[39;00m \u001b[39mself\u001b[39;49m\u001b[39m.\u001b[39;49m_engine\u001b[39m.\u001b[39;49mget_loc(casted_key)\n\u001b[0;32m   3803\u001b[0m \u001b[39mexcept\u001b[39;00m \u001b[39mKeyError\u001b[39;00m \u001b[39mas\u001b[39;00m err:\n",
      "File \u001b[1;32mc:\\Users\\irdal\\.conda\\envs\\eyegaze\\lib\\site-packages\\pandas\\_libs\\index.pyx:138\u001b[0m, in \u001b[0;36mpandas._libs.index.IndexEngine.get_loc\u001b[1;34m()\u001b[0m\n",
      "File \u001b[1;32mc:\\Users\\irdal\\.conda\\envs\\eyegaze\\lib\\site-packages\\pandas\\_libs\\index.pyx:165\u001b[0m, in \u001b[0;36mpandas._libs.index.IndexEngine.get_loc\u001b[1;34m()\u001b[0m\n",
      "File \u001b[1;32mpandas\\_libs\\hashtable_class_helper.pxi:5745\u001b[0m, in \u001b[0;36mpandas._libs.hashtable.PyObjectHashTable.get_item\u001b[1;34m()\u001b[0m\n",
      "File \u001b[1;32mpandas\\_libs\\hashtable_class_helper.pxi:5753\u001b[0m, in \u001b[0;36mpandas._libs.hashtable.PyObjectHashTable.get_item\u001b[1;34m()\u001b[0m\n",
      "\u001b[1;31mKeyError\u001b[0m: 'start1'",
      "\nThe above exception was the direct cause of the following exception:\n",
      "\u001b[1;31mKeyError\u001b[0m                                  Traceback (most recent call last)",
      "\u001b[1;32mc:\\Users\\irdal\\OneDrive\\Desktop\\ResearchProgrms\\RoleDetectionsModels\\RolePrediction_v1\\nov29.ipynb Cell 11\u001b[0m line \u001b[0;36m2\n\u001b[0;32m      <a href='vscode-notebook-cell:/c%3A/Users/irdal/OneDrive/Desktop/ResearchProgrms/RoleDetectionsModels/RolePrediction_v1/nov29.ipynb#X34sZmlsZQ%3D%3D?line=0'>1</a>\u001b[0m temp \u001b[39m=\u001b[39m []\n\u001b[1;32m----> <a href='vscode-notebook-cell:/c%3A/Users/irdal/OneDrive/Desktop/ResearchProgrms/RoleDetectionsModels/RolePrediction_v1/nov29.ipynb#X34sZmlsZQ%3D%3D?line=1'>2</a>\u001b[0m z\u001b[39m.\u001b[39;49mapply(\u001b[39mlambda\u001b[39;49;00m row:temp\u001b[39m.\u001b[39;49mappend(getGazeTurn(gaze_file, row[\u001b[39m'\u001b[39;49m\u001b[39mstart1\u001b[39;49m\u001b[39m'\u001b[39;49m], row[\u001b[39m'\u001b[39;49m\u001b[39mstop1\u001b[39;49m\u001b[39m'\u001b[39;49m], row[\u001b[39m'\u001b[39;49m\u001b[39mstart2\u001b[39;49m\u001b[39m'\u001b[39;49m], row[\u001b[39m'\u001b[39;49m\u001b[39mstop2\u001b[39;49m\u001b[39m'\u001b[39;49m])), axis\u001b[39m=\u001b[39;49m\u001b[39m1\u001b[39;49m)\n",
      "File \u001b[1;32mc:\\Users\\irdal\\.conda\\envs\\eyegaze\\lib\\site-packages\\pandas\\core\\frame.py:9568\u001b[0m, in \u001b[0;36mDataFrame.apply\u001b[1;34m(self, func, axis, raw, result_type, args, **kwargs)\u001b[0m\n\u001b[0;32m   9557\u001b[0m \u001b[39mfrom\u001b[39;00m \u001b[39mpandas\u001b[39;00m\u001b[39m.\u001b[39;00m\u001b[39mcore\u001b[39;00m\u001b[39m.\u001b[39;00m\u001b[39mapply\u001b[39;00m \u001b[39mimport\u001b[39;00m frame_apply\n\u001b[0;32m   9559\u001b[0m op \u001b[39m=\u001b[39m frame_apply(\n\u001b[0;32m   9560\u001b[0m     \u001b[39mself\u001b[39m,\n\u001b[0;32m   9561\u001b[0m     func\u001b[39m=\u001b[39mfunc,\n\u001b[1;32m   (...)\u001b[0m\n\u001b[0;32m   9566\u001b[0m     kwargs\u001b[39m=\u001b[39mkwargs,\n\u001b[0;32m   9567\u001b[0m )\n\u001b[1;32m-> 9568\u001b[0m \u001b[39mreturn\u001b[39;00m op\u001b[39m.\u001b[39;49mapply()\u001b[39m.\u001b[39m__finalize__(\u001b[39mself\u001b[39m, method\u001b[39m=\u001b[39m\u001b[39m\"\u001b[39m\u001b[39mapply\u001b[39m\u001b[39m\"\u001b[39m)\n",
      "File \u001b[1;32mc:\\Users\\irdal\\.conda\\envs\\eyegaze\\lib\\site-packages\\pandas\\core\\apply.py:764\u001b[0m, in \u001b[0;36mFrameApply.apply\u001b[1;34m(self)\u001b[0m\n\u001b[0;32m    761\u001b[0m \u001b[39melif\u001b[39;00m \u001b[39mself\u001b[39m\u001b[39m.\u001b[39mraw:\n\u001b[0;32m    762\u001b[0m     \u001b[39mreturn\u001b[39;00m \u001b[39mself\u001b[39m\u001b[39m.\u001b[39mapply_raw()\n\u001b[1;32m--> 764\u001b[0m \u001b[39mreturn\u001b[39;00m \u001b[39mself\u001b[39;49m\u001b[39m.\u001b[39;49mapply_standard()\n",
      "File \u001b[1;32mc:\\Users\\irdal\\.conda\\envs\\eyegaze\\lib\\site-packages\\pandas\\core\\apply.py:891\u001b[0m, in \u001b[0;36mFrameApply.apply_standard\u001b[1;34m(self)\u001b[0m\n\u001b[0;32m    890\u001b[0m \u001b[39mdef\u001b[39;00m \u001b[39mapply_standard\u001b[39m(\u001b[39mself\u001b[39m):\n\u001b[1;32m--> 891\u001b[0m     results, res_index \u001b[39m=\u001b[39m \u001b[39mself\u001b[39;49m\u001b[39m.\u001b[39;49mapply_series_generator()\n\u001b[0;32m    893\u001b[0m     \u001b[39m# wrap results\u001b[39;00m\n\u001b[0;32m    894\u001b[0m     \u001b[39mreturn\u001b[39;00m \u001b[39mself\u001b[39m\u001b[39m.\u001b[39mwrap_results(results, res_index)\n",
      "File \u001b[1;32mc:\\Users\\irdal\\.conda\\envs\\eyegaze\\lib\\site-packages\\pandas\\core\\apply.py:907\u001b[0m, in \u001b[0;36mFrameApply.apply_series_generator\u001b[1;34m(self)\u001b[0m\n\u001b[0;32m    904\u001b[0m \u001b[39mwith\u001b[39;00m option_context(\u001b[39m\"\u001b[39m\u001b[39mmode.chained_assignment\u001b[39m\u001b[39m\"\u001b[39m, \u001b[39mNone\u001b[39;00m):\n\u001b[0;32m    905\u001b[0m     \u001b[39mfor\u001b[39;00m i, v \u001b[39min\u001b[39;00m \u001b[39menumerate\u001b[39m(series_gen):\n\u001b[0;32m    906\u001b[0m         \u001b[39m# ignore SettingWithCopy here in case the user mutates\u001b[39;00m\n\u001b[1;32m--> 907\u001b[0m         results[i] \u001b[39m=\u001b[39m \u001b[39mself\u001b[39;49m\u001b[39m.\u001b[39;49mf(v)\n\u001b[0;32m    908\u001b[0m         \u001b[39mif\u001b[39;00m \u001b[39misinstance\u001b[39m(results[i], ABCSeries):\n\u001b[0;32m    909\u001b[0m             \u001b[39m# If we have a view on v, we need to make a copy because\u001b[39;00m\n\u001b[0;32m    910\u001b[0m             \u001b[39m#  series_generator will swap out the underlying data\u001b[39;00m\n\u001b[0;32m    911\u001b[0m             results[i] \u001b[39m=\u001b[39m results[i]\u001b[39m.\u001b[39mcopy(deep\u001b[39m=\u001b[39m\u001b[39mFalse\u001b[39;00m)\n",
      "\u001b[1;32mc:\\Users\\irdal\\OneDrive\\Desktop\\ResearchProgrms\\RoleDetectionsModels\\RolePrediction_v1\\nov29.ipynb Cell 11\u001b[0m line \u001b[0;36m2\n\u001b[0;32m      <a href='vscode-notebook-cell:/c%3A/Users/irdal/OneDrive/Desktop/ResearchProgrms/RoleDetectionsModels/RolePrediction_v1/nov29.ipynb#X34sZmlsZQ%3D%3D?line=0'>1</a>\u001b[0m temp \u001b[39m=\u001b[39m []\n\u001b[1;32m----> <a href='vscode-notebook-cell:/c%3A/Users/irdal/OneDrive/Desktop/ResearchProgrms/RoleDetectionsModels/RolePrediction_v1/nov29.ipynb#X34sZmlsZQ%3D%3D?line=1'>2</a>\u001b[0m z\u001b[39m.\u001b[39mapply(\u001b[39mlambda\u001b[39;00m row:temp\u001b[39m.\u001b[39mappend(getGazeTurn(gaze_file, row[\u001b[39m'\u001b[39;49m\u001b[39mstart1\u001b[39;49m\u001b[39m'\u001b[39;49m], row[\u001b[39m'\u001b[39m\u001b[39mstop1\u001b[39m\u001b[39m'\u001b[39m], row[\u001b[39m'\u001b[39m\u001b[39mstart2\u001b[39m\u001b[39m'\u001b[39m], row[\u001b[39m'\u001b[39m\u001b[39mstop2\u001b[39m\u001b[39m'\u001b[39m])), axis\u001b[39m=\u001b[39m\u001b[39m1\u001b[39m)\n",
      "File \u001b[1;32mc:\\Users\\irdal\\.conda\\envs\\eyegaze\\lib\\site-packages\\pandas\\core\\series.py:981\u001b[0m, in \u001b[0;36mSeries.__getitem__\u001b[1;34m(self, key)\u001b[0m\n\u001b[0;32m    978\u001b[0m     \u001b[39mreturn\u001b[39;00m \u001b[39mself\u001b[39m\u001b[39m.\u001b[39m_values[key]\n\u001b[0;32m    980\u001b[0m \u001b[39melif\u001b[39;00m key_is_scalar:\n\u001b[1;32m--> 981\u001b[0m     \u001b[39mreturn\u001b[39;00m \u001b[39mself\u001b[39;49m\u001b[39m.\u001b[39;49m_get_value(key)\n\u001b[0;32m    983\u001b[0m \u001b[39mif\u001b[39;00m is_hashable(key):\n\u001b[0;32m    984\u001b[0m     \u001b[39m# Otherwise index.get_value will raise InvalidIndexError\u001b[39;00m\n\u001b[0;32m    985\u001b[0m     \u001b[39mtry\u001b[39;00m:\n\u001b[0;32m    986\u001b[0m         \u001b[39m# For labels that don't resolve as scalars like tuples and frozensets\u001b[39;00m\n",
      "File \u001b[1;32mc:\\Users\\irdal\\.conda\\envs\\eyegaze\\lib\\site-packages\\pandas\\core\\series.py:1089\u001b[0m, in \u001b[0;36mSeries._get_value\u001b[1;34m(self, label, takeable)\u001b[0m\n\u001b[0;32m   1086\u001b[0m     \u001b[39mreturn\u001b[39;00m \u001b[39mself\u001b[39m\u001b[39m.\u001b[39m_values[label]\n\u001b[0;32m   1088\u001b[0m \u001b[39m# Similar to Index.get_value, but we do not fall back to positional\u001b[39;00m\n\u001b[1;32m-> 1089\u001b[0m loc \u001b[39m=\u001b[39m \u001b[39mself\u001b[39;49m\u001b[39m.\u001b[39;49mindex\u001b[39m.\u001b[39;49mget_loc(label)\n\u001b[0;32m   1090\u001b[0m \u001b[39mreturn\u001b[39;00m \u001b[39mself\u001b[39m\u001b[39m.\u001b[39mindex\u001b[39m.\u001b[39m_get_values_for_loc(\u001b[39mself\u001b[39m, loc, label)\n",
      "File \u001b[1;32mc:\\Users\\irdal\\.conda\\envs\\eyegaze\\lib\\site-packages\\pandas\\core\\indexes\\base.py:3804\u001b[0m, in \u001b[0;36mIndex.get_loc\u001b[1;34m(self, key, method, tolerance)\u001b[0m\n\u001b[0;32m   3802\u001b[0m     \u001b[39mreturn\u001b[39;00m \u001b[39mself\u001b[39m\u001b[39m.\u001b[39m_engine\u001b[39m.\u001b[39mget_loc(casted_key)\n\u001b[0;32m   3803\u001b[0m \u001b[39mexcept\u001b[39;00m \u001b[39mKeyError\u001b[39;00m \u001b[39mas\u001b[39;00m err:\n\u001b[1;32m-> 3804\u001b[0m     \u001b[39mraise\u001b[39;00m \u001b[39mKeyError\u001b[39;00m(key) \u001b[39mfrom\u001b[39;00m \u001b[39merr\u001b[39;00m\n\u001b[0;32m   3805\u001b[0m \u001b[39mexcept\u001b[39;00m \u001b[39mTypeError\u001b[39;00m:\n\u001b[0;32m   3806\u001b[0m     \u001b[39m# If we have a listlike key, _check_indexing_error will raise\u001b[39;00m\n\u001b[0;32m   3807\u001b[0m     \u001b[39m#  InvalidIndexError. Otherwise we fall through and re-raise\u001b[39;00m\n\u001b[0;32m   3808\u001b[0m     \u001b[39m#  the TypeError.\u001b[39;00m\n\u001b[0;32m   3809\u001b[0m     \u001b[39mself\u001b[39m\u001b[39m.\u001b[39m_check_indexing_error(key)\n",
      "\u001b[1;31mKeyError\u001b[0m: 'start1'"
     ]
    }
   ],
   "source": [
    "temp = []\n",
    "z.apply(lambda row:temp.append(getGazeTurn(gaze_file, row['start1'], row['stop1'], row['start2'], row['stop2'])), axis=1)"
   ]
  },
  {
   "cell_type": "code",
   "execution_count": 119,
   "metadata": {},
   "outputs": [
    {
     "data": {
      "text/plain": [
       "(3, 30, 3)"
      ]
     },
     "execution_count": 119,
     "metadata": {},
     "output_type": "execute_result"
    }
   ],
   "source": [
    "temp[5][1].shape"
   ]
  },
  {
   "cell_type": "code",
   "execution_count": 182,
   "metadata": {},
   "outputs": [],
   "source": [
    "def fliparray(arr, con= 1):\n",
    "    if con == 1:\n",
    "        temp = arr.copy()\n",
    "        arr[0] = temp[1]\n",
    "        arr[1] = temp[2]\n",
    "        arr[2] = temp[0]\n",
    "        return arr.copy()\n",
    "    else:\n",
    "        temp = arr.copy()\n",
    "        arr[0] = temp[2]\n",
    "        arr[1] = temp[0]\n",
    "        arr[2] = temp[1]\n",
    "        return arr.copy()\n",
    "    \n",
    "\n",
    "def getStartStopFrame1(ti, tf, window, future, fps):\n",
    "    if tf-ti < window  +future:\n",
    "        return (-1, -1)\n",
    "    start_time = ti + np.random.rand()*((tf-(window+future)) - ti)#could be any random value between start, stop - (future + 0.1)\n",
    "    start_frame = int(start_time*fps)\n",
    "    stop_frame = start_frame + int(fps*window)\n",
    "    return (start_frame, stop_frame)\n",
    "def getStartStopFrame2(ti, tf, window, future, fps):\n",
    "    start_frame = int(fps*(tf-(future + window) + np.random.rand()*(future)))#int(fps*window)\n",
    "    stop_frame = start_frame + int(fps*window)\n",
    "    return (start_frame, stop_frame)\n",
    "\n",
    "def makeData(raw_data, window = 2, future_time = 1, fps = 30):\n",
    "    turns = []\n",
    "    window_fps = + int(fps*window)\n",
    "    for session in tqdm(raw_data.keys()):\n",
    "        print(session)\n",
    "        for file in (raw_data[session].keys()):\n",
    "            print(file)\n",
    "            df = raw_data[session][file]\n",
    "\n",
    "            for i, _ in df.iterrows():\n",
    "                tf = df.loc[i][\"tf\"]\n",
    "                ti = df.loc[i][\"ti\"]\n",
    "                if tf-ti < window + future_time:\n",
    "                    continue\n",
    "                start_frame, stop_frame = getStartStopFrame1(ti, tf, window, future_time, fps)\n",
    "                if start_frame == -1:\n",
    "                    continue\n",
    "                r1, r2, r3 = df.iloc[i]['label1':'label3']\n",
    "                gaze_data = getGazeData(session, file, start_frame, stop_frame)\n",
    "                pose_data = getPoseData(session, file, start_frame, stop_frame)\n",
    "                try:\n",
    "                    if gaze_data.shape[1] != window_fps or pose_data.shape[1]!=window_fps:\n",
    "                        break\n",
    "                except Exception as e:\n",
    "                    break\n",
    "                #print(1, file, pose_data.shape, gaze_data.shape)\n",
    "                turns.append([session, file, start_frame, stop_frame, gaze_data.copy(), pose_data.copy(), r1, r2, r3, r1,r2, r3])\n",
    "                turns.append([session, file, start_frame, stop_frame, fliparray(gaze_data, 1), fliparray(pose_data, 1), r2, r3, r1, r2,r3, r1])\n",
    "                turns.append([session, file, start_frame, stop_frame, fliparray(gaze_data, 2), fliparray(pose_data, 1), r3, r1, r2, r3,r1, r2])\n",
    "\n",
    "                if i == len(df) -1:\n",
    "                    continue\n",
    "                gaze_data = getGazeData(session, file, start_frame, stop_frame)\n",
    "                pose_data = getPoseData(session, file, start_frame, stop_frame)\n",
    "                #print(2, file, pose_data.shape, gaze_data.shape)\n",
    "                nr1, nr2, nr3 = df.iloc[i+1]['label1':'label3']\n",
    "                start_frame, stop_frame = getStartStopFrame2(ti, tf, window, future_time, fps)\n",
    "                #turns.append([session, file, start_frame, stop_frame, gaze_data, pose_data, r1,r2, r3, nr1, nr2, nr3])\n",
    "                turns.append([session, file, start_frame, stop_frame, gaze_data.copy(), pose_data.copy(), r1, r2, r3, nr1,nr2, nr3])\n",
    "                turns.append([session, file, start_frame, stop_frame, fliparray(gaze_data, 1), fliparray(pose_data, 1), r2, r3, r1, nr2,nr3, nr1])\n",
    "                turns.append([session, file, start_frame, stop_frame, fliparray(gaze_data, 2), fliparray(pose_data, 1), r3, r1, r2, nr3,nr1, nr2])\n",
    "    return turns\n",
    "\n",
    "\n",
    "def cLabel2vec(label):\n",
    "    if 'MS' in label:\n",
    "        return np.array([1, 0, 0, 0])\n",
    "    elif 'ML' in label:\n",
    "        return np.array([0, 1, 0, 0])\n",
    "    elif 'SL' in label:\n",
    "        return np.array([0, 0, 1, 0])\n",
    "    elif 'AL' in label:\n",
    "        return np.array([0, 0, 0, 1])\n",
    "    else:\n",
    "        return  np.array([-1])\n",
    "\n",
    "def label2vec(label):\n",
    "    if type(label)!=str:\n",
    "        return np.array([-1])\n",
    "    if 'MS' in label:\n",
    "        return np.array([1, 0, 0])\n",
    "    elif 'ML' in label:\n",
    "        return np.array([0, 1, 0])\n",
    "    elif 'SL' in label:\n",
    "        return np.array([0, 0, 1])\n",
    "    else:\n",
    "        return  np.array([-1])\n",
    "    \n",
    "def label2OneHot(labels):\n",
    "    r1 = label2vec(labels[0])\n",
    "    r2 = label2vec(labels[1])\n",
    "    r3 = label2vec(labels[2])\n",
    "    if r1.shape[0] == 1 or r2.shape[0] == 1 or r3.shape[0] == 1:\n",
    "        return np.nan\n",
    "    return np.hstack([r1,r2,r3])\n",
    "\n"
   ]
  },
  {
   "cell_type": "code",
   "execution_count": 183,
   "metadata": {},
   "outputs": [],
   "source": [
    "import pickle\n",
    "\n",
    "def makeDataset(data, window, future, fps=30):\n",
    "    turns = makeData(data, window, future, fps)\n",
    "    df = pd.DataFrame(turns)#\n",
    "    df.columns = ['folder', 'file', 'fi', 'ff', 'Gaze', 'Pose', 'CR1', 'CR2', 'CR3', 'NR1', 'NR2', 'NR3']\n",
    "    df = df[['Gaze', 'Pose', 'CR1', 'CR2', 'CR3', 'NR1', 'NR2', 'NR3']]\n",
    "    df['Gaze'] = df['Gaze'].apply(cart2sphGaze)\n",
    "    #df['Pose'] = df['Pose'].apply(cart2sphPose)\n",
    "    df['Encoded Future Roles'] = df.apply(lambda x:label2OneHot([x['NR1'], x['NR2'], x['NR3']]), axis=1)\n",
    "    df['Encoded Current Roles'] = df.apply(lambda x:label2OneHot([x['CR1'], x['CR2'], x['CR3']]), axis=1)\n",
    "    df = df.dropna().reset_index()\n",
    "    with open(f'win{window}_f{future}.pth.tar', 'wb') as handle:\n",
    "        pickle.dump(df, handle)"
   ]
  },
  {
   "cell_type": "code",
   "execution_count": 184,
   "metadata": {},
   "outputs": [
    {
     "name": "stdout",
     "output_type": "stream",
     "text": [
      "2 0.5\n"
     ]
    },
    {
     "name": "stderr",
     "output_type": "stream",
     "text": [
      "  0%|          | 0/19 [00:00<?, ?it/s]"
     ]
    },
    {
     "name": "stdout",
     "output_type": "stream",
     "text": [
      "20170720\n",
      "152000\n",
      "152500\n",
      "153000\n",
      "153500\n",
      "154000\n",
      "154500\n",
      "155000\n",
      "155500\n",
      "160000\n"
     ]
    },
    {
     "name": "stderr",
     "output_type": "stream",
     "text": [
      "C:\\Users\\irdal\\AppData\\Local\\Temp\\ipykernel_28852\\2858089190.py:23: VisibleDeprecationWarning: Creating an ndarray from ragged nested sequences (which is a list-or-tuple of lists-or-tuples-or ndarrays with different lengths or shapes) is deprecated. If you meant to do this, you must specify 'dtype=object' when creating the ndarray.\n",
      "  gaze_data = np.array(gaze_data)\n",
      "C:\\Users\\irdal\\AppData\\Local\\Temp\\ipykernel_28852\\2858089190.py:44: VisibleDeprecationWarning: Creating an ndarray from ragged nested sequences (which is a list-or-tuple of lists-or-tuples-or ndarrays with different lengths or shapes) is deprecated. If you meant to do this, you must specify 'dtype=object' when creating the ndarray.\n",
      "  return np.array(pose_data)\n"
     ]
    },
    {
     "name": "stdout",
     "output_type": "stream",
     "text": [
      "160500\n"
     ]
    },
    {
     "name": "stderr",
     "output_type": "stream",
     "text": [
      "  5%|▌         | 1/19 [01:53<34:00, 113.39s/it]"
     ]
    },
    {
     "name": "stdout",
     "output_type": "stream",
     "text": [
      "20170804\n",
      "164000\n",
      "164500\n",
      "165000\n",
      "165500\n",
      "170000\n",
      "170500\n",
      "171000\n",
      "171500\n"
     ]
    },
    {
     "name": "stderr",
     "output_type": "stream",
     "text": [
      " 11%|█         | 2/19 [03:03<24:54, 87.90s/it] "
     ]
    },
    {
     "name": "stdout",
     "output_type": "stream",
     "text": [
      "20170828\n",
      "161000\n",
      "161500\n",
      "162000\n",
      "162500\n",
      "163000\n",
      "163500\n",
      "164000\n"
     ]
    },
    {
     "name": "stderr",
     "output_type": "stream",
     "text": [
      " 16%|█▌        | 3/19 [04:08<20:40, 77.50s/it]"
     ]
    },
    {
     "name": "stdout",
     "output_type": "stream",
     "text": [
      "20170829\n",
      "165500\n",
      "170000\n",
      "170500\n",
      "171000\n",
      "171500\n",
      "172000\n",
      "172500\n"
     ]
    },
    {
     "name": "stderr",
     "output_type": "stream",
     "text": [
      " 21%|██        | 4/19 [05:34<20:13, 80.88s/it]"
     ]
    },
    {
     "name": "stdout",
     "output_type": "stream",
     "text": [
      "173000\n",
      "[Errno 2] No such file or directory: './data/20170829/video1/173400.csv'\n",
      "[Errno 2] No such file or directory: './data/20170829/Pose/video1/173400.npy'\n",
      "20170915\n",
      "112000\n",
      "112500\n"
     ]
    },
    {
     "name": "stderr",
     "output_type": "stream",
     "text": [
      " 26%|██▋       | 5/19 [05:55<13:48, 59.17s/it]"
     ]
    },
    {
     "name": "stdout",
     "output_type": "stream",
     "text": [
      "20171026\n",
      "124500\n",
      "125000\n",
      "125500\n",
      "130000\n",
      "130500\n",
      "131000\n",
      "131500\n",
      "132000\n"
     ]
    },
    {
     "name": "stderr",
     "output_type": "stream",
     "text": [
      " 32%|███▏      | 6/19 [07:03<13:27, 62.12s/it]"
     ]
    },
    {
     "name": "stdout",
     "output_type": "stream",
     "text": [
      "20171226\n",
      "154000\n",
      "154500\n",
      "155000\n",
      "155500\n",
      "160000\n",
      "160500\n",
      "161000\n",
      "161500\n",
      "162000\n",
      "162500\n",
      "163000\n",
      "163500\n",
      "164000\n",
      "164500\n",
      "165000\n",
      "165500\n",
      "170000\n",
      "170500\n",
      "171000\n",
      "171500\n",
      "172000\n",
      "172500\n",
      "173000\n",
      "[Errno 2] No such file or directory: './data/20171226/video2/173400.csv'\n"
     ]
    },
    {
     "name": "stderr",
     "output_type": "stream",
     "text": [
      " 37%|███▋      | 7/19 [11:04<24:07, 120.61s/it]"
     ]
    },
    {
     "name": "stdout",
     "output_type": "stream",
     "text": [
      "[Errno 2] No such file or directory: './data/20171226/Pose/video2/173400.npy'\n",
      "20171228\n",
      "151000\n"
     ]
    },
    {
     "name": "stderr",
     "output_type": "stream",
     "text": [
      "C:\\Users\\irdal\\AppData\\Local\\Temp\\ipykernel_28852\\2858089190.py:23: VisibleDeprecationWarning: Creating an ndarray from ragged nested sequences (which is a list-or-tuple of lists-or-tuples-or ndarrays with different lengths or shapes) is deprecated. If you meant to do this, you must specify 'dtype=object' when creating the ndarray.\n",
      "  gaze_data = np.array(gaze_data)\n",
      "C:\\Users\\irdal\\AppData\\Local\\Temp\\ipykernel_28852\\2858089190.py:44: VisibleDeprecationWarning: Creating an ndarray from ragged nested sequences (which is a list-or-tuple of lists-or-tuples-or ndarrays with different lengths or shapes) is deprecated. If you meant to do this, you must specify 'dtype=object' when creating the ndarray.\n",
      "  return np.array(pose_data)\n"
     ]
    },
    {
     "name": "stdout",
     "output_type": "stream",
     "text": [
      "151500\n",
      "152000\n",
      "152500\n",
      "153000\n",
      "153500\n",
      "154000\n",
      "154500\n"
     ]
    },
    {
     "name": "stderr",
     "output_type": "stream",
     "text": [
      " 42%|████▏     | 8/19 [12:25<19:48, 108.05s/it]"
     ]
    },
    {
     "name": "stdout",
     "output_type": "stream",
     "text": [
      "155000\n",
      "[Errno 2] No such file or directory: './data/20171228/video1/155400.csv'\n",
      "[Errno 2] No such file or directory: './data/20171228/Pose/video1/155400.npy'\n",
      "20180725\n",
      "172500\n",
      "173000\n",
      "173500\n",
      "174000\n",
      "174500\n",
      "175000\n",
      "175500\n",
      "180000\n"
     ]
    },
    {
     "name": "stderr",
     "output_type": "stream",
     "text": [
      " 47%|████▋     | 9/19 [13:21<15:19, 91.98s/it] "
     ]
    },
    {
     "name": "stdout",
     "output_type": "stream",
     "text": [
      "180500\n",
      "[Errno 2] No such file or directory: './data/20180725/video1/180800.csv'\n",
      "[Errno 2] No such file or directory: './data/20180725/Pose/video1/180800.npy'\n",
      "20181226\n",
      "151500\n",
      "152000\n",
      "152500\n",
      "154000\n",
      "154500\n",
      "155000\n",
      "155500\n",
      "160000\n"
     ]
    },
    {
     "name": "stderr",
     "output_type": "stream",
     "text": [
      " 53%|█████▎    | 10/19 [14:48<13:32, 90.31s/it]"
     ]
    },
    {
     "name": "stdout",
     "output_type": "stream",
     "text": [
      "20190328\n",
      "154000\n",
      "154500\n",
      "155000\n",
      "155500\n",
      "160000\n",
      "160500\n",
      "161000\n",
      "161500\n",
      "170500\n",
      "171000\n",
      "171500\n",
      "172000\n",
      "172500\n"
     ]
    },
    {
     "name": "stderr",
     "output_type": "stream",
     "text": [
      " 58%|█████▊    | 11/19 [17:36<15:13, 114.17s/it]"
     ]
    },
    {
     "name": "stdout",
     "output_type": "stream",
     "text": [
      "173000\n",
      "[Errno 2] No such file or directory: './data/20190328/video1/173300.csv'\n",
      "[Errno 2] No such file or directory: './data/20190328/Pose/video1/173300.npy'\n",
      "20190628\n",
      "142000\n",
      "142500\n",
      "143000\n",
      "143500\n",
      "144000\n",
      "144500\n",
      "145000\n",
      "145500\n",
      "150000\n",
      "150500\n",
      "151000\n",
      "151500\n"
     ]
    },
    {
     "name": "stderr",
     "output_type": "stream",
     "text": [
      " 63%|██████▎   | 12/19 [19:21<12:58, 111.27s/it]"
     ]
    },
    {
     "name": "stdout",
     "output_type": "stream",
     "text": [
      "20211020\n",
      "144500\n",
      "145000\n",
      "145500\n",
      "152000\n",
      "152500\n",
      "153000\n"
     ]
    },
    {
     "name": "stderr",
     "output_type": "stream",
     "text": [
      " 68%|██████▊   | 13/19 [20:21<09:34, 95.77s/it] "
     ]
    },
    {
     "name": "stdout",
     "output_type": "stream",
     "text": [
      "20211021\n",
      "112000\n",
      "112500\n",
      "113000\n",
      "113500\n",
      "114000\n",
      "114500\n",
      "115000\n",
      "115500\n",
      "121000\n",
      "121500\n",
      "122000\n",
      "122500\n",
      "123000\n"
     ]
    },
    {
     "name": "stderr",
     "output_type": "stream",
     "text": [
      " 74%|███████▎  | 14/19 [22:18<08:31, 102.31s/it]"
     ]
    },
    {
     "name": "stdout",
     "output_type": "stream",
     "text": [
      "20211025\n",
      "140500\n",
      "141000\n",
      "141500\n",
      "142000\n",
      "142500\n",
      "143000\n",
      "143500\n",
      "144000\n",
      "151000\n",
      "151500\n",
      "154500\n",
      "155000\n"
     ]
    },
    {
     "name": "stderr",
     "output_type": "stream",
     "text": [
      " 79%|███████▉  | 15/19 [24:08<06:57, 104.49s/it]"
     ]
    },
    {
     "name": "stdout",
     "output_type": "stream",
     "text": [
      "20211105\n",
      "143500\n",
      "144000\n",
      "144500\n",
      "145000\n",
      "145500\n",
      "150500\n",
      "151000\n",
      "151500\n",
      "152000\n",
      "152500\n",
      "153000\n",
      "153500\n",
      "154000\n",
      "154500\n",
      "155000\n",
      "155500\n",
      "160000\n",
      "160500\n"
     ]
    },
    {
     "name": "stderr",
     "output_type": "stream",
     "text": [
      " 84%|████████▍ | 16/19 [27:16<06:28, 129.65s/it]"
     ]
    },
    {
     "name": "stdout",
     "output_type": "stream",
     "text": [
      "161000\n",
      "[Errno 2] No such file or directory: './data/20211105/video1/161300.csv'\n",
      "[Errno 2] No such file or directory: './data/20211105/Pose/video1/161300.npy'\n",
      "20211112\n",
      "132500\n",
      "133000\n",
      "133500\n",
      "134000\n",
      "134500\n",
      "135000\n",
      "135500\n",
      "140000\n",
      "140500\n",
      "141000\n",
      "141500\n",
      "144000\n",
      "144500\n",
      "145000\n",
      "145500\n"
     ]
    },
    {
     "name": "stderr",
     "output_type": "stream",
     "text": [
      " 89%|████████▉ | 17/19 [29:37<04:25, 132.95s/it]"
     ]
    },
    {
     "name": "stdout",
     "output_type": "stream",
     "text": [
      "150000\n",
      "[Errno 2] No such file or directory: './data/20211112/video1/150400.csv'\n",
      "[Errno 2] No such file or directory: './data/20211112/Pose/video1/150400.npy'\n",
      "20220208\n",
      "145500\n",
      "150000\n",
      "150500\n",
      "151000\n",
      "151500\n",
      "152000\n",
      "152500\n",
      "153000\n",
      "153500\n",
      "154000\n"
     ]
    },
    {
     "name": "stderr",
     "output_type": "stream",
     "text": [
      " 95%|█████████▍| 18/19 [31:58<02:15, 135.32s/it]"
     ]
    },
    {
     "name": "stdout",
     "output_type": "stream",
     "text": [
      "20220209\n",
      "162000\n",
      "162500\n",
      "163000\n",
      "163500\n",
      "164000\n",
      "164500\n",
      "165000\n",
      "165500\n",
      "170000\n",
      "170500\n"
     ]
    },
    {
     "name": "stderr",
     "output_type": "stream",
     "text": [
      "100%|██████████| 19/19 [34:02<00:00, 107.50s/it]\n"
     ]
    },
    {
     "name": "stdout",
     "output_type": "stream",
     "text": [
      "2 1\n"
     ]
    },
    {
     "name": "stderr",
     "output_type": "stream",
     "text": [
      "  0%|          | 0/19 [00:00<?, ?it/s]"
     ]
    },
    {
     "name": "stdout",
     "output_type": "stream",
     "text": [
      "20170720\n",
      "152000\n",
      "152500\n",
      "153000\n",
      "153500\n",
      "154000\n",
      "154500\n",
      "155000\n",
      "155500\n",
      "160000\n"
     ]
    },
    {
     "name": "stderr",
     "output_type": "stream",
     "text": [
      "C:\\Users\\irdal\\AppData\\Local\\Temp\\ipykernel_28852\\2858089190.py:23: VisibleDeprecationWarning: Creating an ndarray from ragged nested sequences (which is a list-or-tuple of lists-or-tuples-or ndarrays with different lengths or shapes) is deprecated. If you meant to do this, you must specify 'dtype=object' when creating the ndarray.\n",
      "  gaze_data = np.array(gaze_data)\n",
      "C:\\Users\\irdal\\AppData\\Local\\Temp\\ipykernel_28852\\2858089190.py:44: VisibleDeprecationWarning: Creating an ndarray from ragged nested sequences (which is a list-or-tuple of lists-or-tuples-or ndarrays with different lengths or shapes) is deprecated. If you meant to do this, you must specify 'dtype=object' when creating the ndarray.\n",
      "  return np.array(pose_data)\n"
     ]
    },
    {
     "name": "stdout",
     "output_type": "stream",
     "text": [
      "160500\n"
     ]
    },
    {
     "name": "stderr",
     "output_type": "stream",
     "text": [
      "  5%|▌         | 1/19 [01:28<26:32, 88.45s/it]"
     ]
    },
    {
     "name": "stdout",
     "output_type": "stream",
     "text": [
      "20170804\n",
      "164000\n",
      "164500\n",
      "165000\n",
      "165500\n",
      "170000\n",
      "170500\n",
      "171000\n",
      "171500\n"
     ]
    },
    {
     "name": "stderr",
     "output_type": "stream",
     "text": [
      " 11%|█         | 2/19 [02:31<20:52, 73.65s/it]"
     ]
    },
    {
     "name": "stdout",
     "output_type": "stream",
     "text": [
      "20170828\n",
      "161000\n",
      "161500\n",
      "162000\n",
      "162500\n",
      "163000\n",
      "163500\n",
      "164000\n"
     ]
    },
    {
     "name": "stderr",
     "output_type": "stream",
     "text": [
      " 16%|█▌        | 3/19 [03:27<17:25, 65.33s/it]"
     ]
    },
    {
     "name": "stdout",
     "output_type": "stream",
     "text": [
      "20170829\n",
      "165500\n",
      "170000\n",
      "170500\n",
      "171000\n",
      "171500\n",
      "172000\n",
      "172500\n"
     ]
    },
    {
     "name": "stderr",
     "output_type": "stream",
     "text": [
      " 21%|██        | 4/19 [04:39<17:00, 68.06s/it]"
     ]
    },
    {
     "name": "stdout",
     "output_type": "stream",
     "text": [
      "173000\n",
      "[Errno 2] No such file or directory: './data/20170829/video1/173400.csv'\n",
      "[Errno 2] No such file or directory: './data/20170829/Pose/video1/173400.npy'\n",
      "20170915\n",
      "112000\n",
      "112500\n"
     ]
    },
    {
     "name": "stderr",
     "output_type": "stream",
     "text": [
      " 26%|██▋       | 5/19 [04:56<11:33, 49.51s/it]"
     ]
    },
    {
     "name": "stdout",
     "output_type": "stream",
     "text": [
      "20171026\n",
      "124500\n",
      "125000\n",
      "125500\n",
      "130000\n",
      "130500\n",
      "131000\n",
      "131500\n",
      "132000\n"
     ]
    },
    {
     "name": "stderr",
     "output_type": "stream",
     "text": [
      " 32%|███▏      | 6/19 [05:54<11:21, 52.46s/it]"
     ]
    },
    {
     "name": "stdout",
     "output_type": "stream",
     "text": [
      "20171226\n",
      "154000\n",
      "154500\n",
      "155000\n",
      "155500\n",
      "160000\n",
      "160500\n",
      "161000\n",
      "161500\n",
      "162000\n",
      "162500\n",
      "163000\n",
      "163500\n",
      "164000\n",
      "164500\n",
      "165000\n",
      "165500\n",
      "170000\n",
      "170500\n",
      "171000\n",
      "171500\n",
      "172000\n",
      "172500\n"
     ]
    },
    {
     "name": "stderr",
     "output_type": "stream",
     "text": [
      " 37%|███▋      | 7/19 [09:39<21:48, 109.06s/it]"
     ]
    },
    {
     "name": "stdout",
     "output_type": "stream",
     "text": [
      "173000\n",
      "[Errno 2] No such file or directory: './data/20171226/video2/173400.csv'\n",
      "[Errno 2] No such file or directory: './data/20171226/Pose/video2/173400.npy'\n",
      "20171228\n",
      "151000\n",
      "151500\n",
      "152000\n",
      "152500\n",
      "153000\n",
      "153500\n",
      "154000\n",
      "154500\n"
     ]
    },
    {
     "name": "stderr",
     "output_type": "stream",
     "text": [
      " 42%|████▏     | 8/19 [10:57<18:10, 99.17s/it] "
     ]
    },
    {
     "name": "stdout",
     "output_type": "stream",
     "text": [
      "155000\n",
      "[Errno 2] No such file or directory: './data/20171228/video1/155400.csv'\n",
      "[Errno 2] No such file or directory: './data/20171228/Pose/video1/155400.npy'\n",
      "20180725\n",
      "172500\n",
      "173000\n",
      "173500\n",
      "174000\n",
      "174500\n",
      "175000\n",
      "175500\n",
      "180000\n"
     ]
    },
    {
     "name": "stderr",
     "output_type": "stream",
     "text": [
      " 47%|████▋     | 9/19 [11:52<14:14, 85.41s/it]"
     ]
    },
    {
     "name": "stdout",
     "output_type": "stream",
     "text": [
      "180500\n",
      "[Errno 2] No such file or directory: './data/20180725/video1/180800.csv'\n",
      "[Errno 2] No such file or directory: './data/20180725/Pose/video1/180800.npy'\n",
      "20181226\n",
      "151500\n",
      "152000\n",
      "152500\n",
      "154000\n",
      "154500\n",
      "155000\n",
      "155500\n",
      "160000\n"
     ]
    },
    {
     "name": "stderr",
     "output_type": "stream",
     "text": [
      " 53%|█████▎    | 10/19 [13:13<12:34, 83.84s/it]"
     ]
    },
    {
     "name": "stdout",
     "output_type": "stream",
     "text": [
      "20190328\n",
      "154000\n",
      "154500\n",
      "155000\n",
      "155500\n",
      "160000\n",
      "160500\n",
      "161000\n",
      "161500\n",
      "170500\n",
      "171000\n",
      "171500\n",
      "172000\n",
      "172500\n"
     ]
    },
    {
     "name": "stderr",
     "output_type": "stream",
     "text": [
      " 58%|█████▊    | 11/19 [15:52<14:14, 106.84s/it]"
     ]
    },
    {
     "name": "stdout",
     "output_type": "stream",
     "text": [
      "173000\n",
      "[Errno 2] No such file or directory: './data/20190328/video1/173300.csv'\n",
      "[Errno 2] No such file or directory: './data/20190328/Pose/video1/173300.npy'\n",
      "20190628\n",
      "142000\n",
      "142500\n",
      "143000\n",
      "143500\n",
      "144000\n",
      "144500\n",
      "145000\n",
      "145500\n",
      "150000\n",
      "150500\n",
      "151000\n",
      "151500\n"
     ]
    },
    {
     "name": "stderr",
     "output_type": "stream",
     "text": [
      " 63%|██████▎   | 12/19 [17:36<12:22, 106.10s/it]"
     ]
    },
    {
     "name": "stdout",
     "output_type": "stream",
     "text": [
      "20211020\n",
      "144500\n",
      "145000\n",
      "145500\n",
      "152000\n",
      "152500\n",
      "153000\n"
     ]
    },
    {
     "name": "stderr",
     "output_type": "stream",
     "text": [
      " 68%|██████▊   | 13/19 [18:34<09:08, 91.38s/it] "
     ]
    },
    {
     "name": "stdout",
     "output_type": "stream",
     "text": [
      "20211021\n",
      "112000\n",
      "112500\n",
      "113000\n",
      "113500\n",
      "114000\n",
      "114500\n",
      "115000\n",
      "115500\n",
      "121000\n",
      "121500\n",
      "122000\n",
      "122500\n",
      "123000\n"
     ]
    },
    {
     "name": "stderr",
     "output_type": "stream",
     "text": [
      " 74%|███████▎  | 14/19 [20:37<08:25, 101.13s/it]"
     ]
    },
    {
     "name": "stdout",
     "output_type": "stream",
     "text": [
      "20211025\n",
      "140500\n",
      "141000\n",
      "141500\n",
      "142000\n",
      "142500\n",
      "143000\n",
      "143500\n",
      "144000\n",
      "151000\n",
      "151500\n",
      "154500\n",
      "155000\n"
     ]
    },
    {
     "name": "stderr",
     "output_type": "stream",
     "text": [
      " 79%|███████▉  | 15/19 [22:31<06:59, 104.90s/it]"
     ]
    },
    {
     "name": "stdout",
     "output_type": "stream",
     "text": [
      "20211105\n",
      "143500\n",
      "144000\n",
      "144500\n",
      "145000\n",
      "145500\n",
      "150500\n",
      "151000\n",
      "151500\n",
      "152000\n",
      "152500\n",
      "153000\n",
      "153500\n",
      "154000\n",
      "154500\n",
      "155000\n",
      "155500\n",
      "160000\n",
      "160500\n"
     ]
    },
    {
     "name": "stderr",
     "output_type": "stream",
     "text": [
      " 84%|████████▍ | 16/19 [25:54<06:43, 134.34s/it]"
     ]
    },
    {
     "name": "stdout",
     "output_type": "stream",
     "text": [
      "161000\n",
      "[Errno 2] No such file or directory: './data/20211105/video1/161300.csv'\n",
      "[Errno 2] No such file or directory: './data/20211105/Pose/video1/161300.npy'\n",
      "20211112\n",
      "132500\n",
      "133000\n",
      "133500\n",
      "134000\n",
      "134500\n",
      "135000\n",
      "135500\n",
      "140000\n",
      "140500\n",
      "141000\n",
      "141500\n",
      "144000\n",
      "144500\n",
      "145000\n",
      "145500\n"
     ]
    },
    {
     "name": "stderr",
     "output_type": "stream",
     "text": [
      " 89%|████████▉ | 17/19 [28:24<04:38, 139.28s/it]"
     ]
    },
    {
     "name": "stdout",
     "output_type": "stream",
     "text": [
      "150000\n",
      "[Errno 2] No such file or directory: './data/20211112/video1/150400.csv'\n",
      "[Errno 2] No such file or directory: './data/20211112/Pose/video1/150400.npy'\n",
      "20220208\n",
      "145500\n",
      "150000\n",
      "150500\n",
      "151000\n",
      "151500\n",
      "152000\n",
      "152500\n",
      "153000\n",
      "153500\n",
      "154000\n"
     ]
    },
    {
     "name": "stderr",
     "output_type": "stream",
     "text": [
      " 95%|█████████▍| 18/19 [30:51<02:21, 141.49s/it]"
     ]
    },
    {
     "name": "stdout",
     "output_type": "stream",
     "text": [
      "20220209\n",
      "162000\n",
      "162500\n",
      "163000\n",
      "163500\n",
      "164000\n",
      "164500\n",
      "165000\n",
      "165500\n",
      "170000\n",
      "170500\n"
     ]
    },
    {
     "name": "stderr",
     "output_type": "stream",
     "text": [
      "100%|██████████| 19/19 [32:56<00:00, 104.03s/it]\n"
     ]
    },
    {
     "name": "stdout",
     "output_type": "stream",
     "text": [
      "2 1.5\n"
     ]
    },
    {
     "name": "stderr",
     "output_type": "stream",
     "text": [
      "  0%|          | 0/19 [00:00<?, ?it/s]"
     ]
    },
    {
     "name": "stdout",
     "output_type": "stream",
     "text": [
      "20170720\n",
      "152000\n",
      "152500\n",
      "153000\n",
      "153500\n",
      "154000\n",
      "154500\n",
      "155000\n",
      "155500\n",
      "160000\n"
     ]
    },
    {
     "name": "stderr",
     "output_type": "stream",
     "text": [
      "C:\\Users\\irdal\\AppData\\Local\\Temp\\ipykernel_28852\\2858089190.py:23: VisibleDeprecationWarning: Creating an ndarray from ragged nested sequences (which is a list-or-tuple of lists-or-tuples-or ndarrays with different lengths or shapes) is deprecated. If you meant to do this, you must specify 'dtype=object' when creating the ndarray.\n",
      "  gaze_data = np.array(gaze_data)\n",
      "C:\\Users\\irdal\\AppData\\Local\\Temp\\ipykernel_28852\\2858089190.py:44: VisibleDeprecationWarning: Creating an ndarray from ragged nested sequences (which is a list-or-tuple of lists-or-tuples-or ndarrays with different lengths or shapes) is deprecated. If you meant to do this, you must specify 'dtype=object' when creating the ndarray.\n",
      "  return np.array(pose_data)\n"
     ]
    },
    {
     "name": "stdout",
     "output_type": "stream",
     "text": [
      "160500\n"
     ]
    },
    {
     "name": "stderr",
     "output_type": "stream",
     "text": [
      "  5%|▌         | 1/19 [01:07<20:12, 67.37s/it]"
     ]
    },
    {
     "name": "stdout",
     "output_type": "stream",
     "text": [
      "20170804\n",
      "164000\n",
      "164500\n",
      "165000\n",
      "165500\n",
      "170000\n",
      "170500\n",
      "171000\n",
      "171500\n"
     ]
    },
    {
     "name": "stderr",
     "output_type": "stream",
     "text": [
      " 11%|█         | 2/19 [02:01<16:57, 59.87s/it]"
     ]
    },
    {
     "name": "stdout",
     "output_type": "stream",
     "text": [
      "20170828\n",
      "161000\n",
      "161500\n",
      "162000\n",
      "162500\n",
      "163000\n",
      "163500\n",
      "164000\n"
     ]
    },
    {
     "name": "stderr",
     "output_type": "stream",
     "text": [
      " 16%|█▌        | 3/19 [02:48<14:21, 53.86s/it]"
     ]
    },
    {
     "name": "stdout",
     "output_type": "stream",
     "text": [
      "20170829\n",
      "165500\n",
      "170000\n",
      "170500\n",
      "171000\n",
      "171500\n",
      "172000\n",
      "172500\n"
     ]
    },
    {
     "name": "stderr",
     "output_type": "stream",
     "text": [
      " 21%|██        | 4/19 [03:47<13:57, 55.86s/it]"
     ]
    },
    {
     "name": "stdout",
     "output_type": "stream",
     "text": [
      "173000\n",
      "[Errno 2] No such file or directory: './data/20170829/video1/173400.csv'\n",
      "[Errno 2] No such file or directory: './data/20170829/Pose/video1/173400.npy'\n",
      "20170915\n",
      "112000\n",
      "112500\n"
     ]
    },
    {
     "name": "stderr",
     "output_type": "stream",
     "text": [
      " 26%|██▋       | 5/19 [04:01<09:31, 40.80s/it]"
     ]
    },
    {
     "name": "stdout",
     "output_type": "stream",
     "text": [
      "20171026\n",
      "124500\n",
      "125000\n",
      "125500\n",
      "130000\n",
      "130500\n",
      "131000\n",
      "131500\n",
      "132000\n"
     ]
    },
    {
     "name": "stderr",
     "output_type": "stream",
     "text": [
      " 32%|███▏      | 6/19 [04:50<09:24, 43.44s/it]"
     ]
    },
    {
     "name": "stdout",
     "output_type": "stream",
     "text": [
      "20171226\n",
      "154000\n",
      "154500\n",
      "155000\n",
      "155500\n",
      "160000\n",
      "160500\n",
      "161000\n",
      "161500\n",
      "162000\n",
      "162500\n",
      "163000\n",
      "163500\n",
      "164000\n",
      "164500\n",
      "165000\n",
      "165500\n",
      "170000\n",
      "170500\n",
      "171000\n",
      "171500\n",
      "172000\n",
      "172500\n"
     ]
    },
    {
     "name": "stderr",
     "output_type": "stream",
     "text": [
      " 37%|███▋      | 7/19 [07:57<18:07, 90.60s/it]"
     ]
    },
    {
     "name": "stdout",
     "output_type": "stream",
     "text": [
      "173000\n",
      "[Errno 2] No such file or directory: './data/20171226/video2/173400.csv'\n",
      "[Errno 2] No such file or directory: './data/20171226/Pose/video2/173400.npy'\n",
      "20171228\n",
      "151000\n",
      "151500\n",
      "152000\n",
      "152500\n",
      "153000\n",
      "153500\n",
      "154000\n",
      "154500\n"
     ]
    },
    {
     "name": "stderr",
     "output_type": "stream",
     "text": [
      " 42%|████▏     | 8/19 [09:03<15:08, 82.60s/it]"
     ]
    },
    {
     "name": "stdout",
     "output_type": "stream",
     "text": [
      "155000\n",
      "[Errno 2] No such file or directory: './data/20171228/video1/155400.csv'\n",
      "[Errno 2] No such file or directory: './data/20171228/Pose/video1/155400.npy'\n",
      "20180725\n",
      "172500\n",
      "173000\n",
      "173500\n",
      "174000\n",
      "174500\n",
      "175000\n",
      "175500\n",
      "180000\n"
     ]
    },
    {
     "name": "stderr",
     "output_type": "stream",
     "text": [
      " 47%|████▋     | 9/19 [09:51<11:59, 71.93s/it]"
     ]
    },
    {
     "name": "stdout",
     "output_type": "stream",
     "text": [
      "180500\n",
      "[Errno 2] No such file or directory: './data/20180725/video1/180800.csv'\n",
      "[Errno 2] No such file or directory: './data/20180725/Pose/video1/180800.npy'\n",
      "20181226\n",
      "151500\n",
      "152000\n",
      "152500\n",
      "154000\n",
      "154500\n",
      "155000\n",
      "155500\n",
      "160000\n"
     ]
    },
    {
     "name": "stderr",
     "output_type": "stream",
     "text": [
      " 53%|█████▎    | 10/19 [11:01<10:42, 71.35s/it]"
     ]
    },
    {
     "name": "stdout",
     "output_type": "stream",
     "text": [
      "20190328\n",
      "154000\n",
      "154500\n",
      "155000\n",
      "155500\n",
      "160000\n",
      "160500\n",
      "161000\n",
      "161500\n",
      "170500\n",
      "171000\n",
      "171500\n",
      "172000\n",
      "172500\n"
     ]
    },
    {
     "name": "stderr",
     "output_type": "stream",
     "text": [
      " 58%|█████▊    | 11/19 [13:14<12:01, 90.13s/it]"
     ]
    },
    {
     "name": "stdout",
     "output_type": "stream",
     "text": [
      "173000\n",
      "[Errno 2] No such file or directory: './data/20190328/video1/173300.csv'\n",
      "[Errno 2] No such file or directory: './data/20190328/Pose/video1/173300.npy'\n",
      "20190628\n",
      "142000\n",
      "142500\n",
      "143000\n",
      "143500\n",
      "144000\n",
      "144500\n",
      "145000\n",
      "145500\n",
      "150000\n",
      "150500\n",
      "151000\n",
      "151500\n"
     ]
    },
    {
     "name": "stderr",
     "output_type": "stream",
     "text": [
      " 63%|██████▎   | 12/19 [14:47<10:36, 90.95s/it]"
     ]
    },
    {
     "name": "stdout",
     "output_type": "stream",
     "text": [
      "20211020\n",
      "144500\n",
      "145000\n",
      "145500\n",
      "152000\n",
      "152500\n",
      "153000\n"
     ]
    },
    {
     "name": "stderr",
     "output_type": "stream",
     "text": [
      " 68%|██████▊   | 13/19 [15:33<07:43, 77.28s/it]"
     ]
    },
    {
     "name": "stdout",
     "output_type": "stream",
     "text": [
      "20211021\n",
      "112000\n",
      "112500\n",
      "113000\n",
      "113500\n",
      "114000\n",
      "114500\n",
      "115000\n",
      "115500\n",
      "121000\n",
      "121500\n",
      "122000\n",
      "122500\n",
      "123000\n"
     ]
    },
    {
     "name": "stderr",
     "output_type": "stream",
     "text": [
      " 74%|███████▎  | 14/19 [17:14<07:03, 84.65s/it]"
     ]
    },
    {
     "name": "stdout",
     "output_type": "stream",
     "text": [
      "20211025\n",
      "140500\n",
      "141000\n",
      "141500\n",
      "142000\n",
      "142500\n",
      "143000\n",
      "143500\n",
      "144000\n",
      "151000\n",
      "151500\n",
      "154500\n",
      "155000\n"
     ]
    },
    {
     "name": "stderr",
     "output_type": "stream",
     "text": [
      " 79%|███████▉  | 15/19 [18:49<05:49, 87.49s/it]"
     ]
    },
    {
     "name": "stdout",
     "output_type": "stream",
     "text": [
      "20211105\n",
      "143500\n",
      "144000\n",
      "144500\n",
      "145000\n",
      "145500\n",
      "150500\n",
      "151000\n",
      "151500\n",
      "152000\n",
      "152500\n",
      "153000\n",
      "153500\n",
      "154000\n",
      "154500\n",
      "155000\n",
      "155500\n",
      "160000\n",
      "160500\n"
     ]
    },
    {
     "name": "stderr",
     "output_type": "stream",
     "text": [
      " 84%|████████▍ | 16/19 [21:43<05:40, 113.63s/it]"
     ]
    },
    {
     "name": "stdout",
     "output_type": "stream",
     "text": [
      "161000\n",
      "[Errno 2] No such file or directory: './data/20211105/video1/161300.csv'\n",
      "[Errno 2] No such file or directory: './data/20211105/Pose/video1/161300.npy'\n",
      "20211112\n",
      "132500\n",
      "133000\n",
      "133500\n",
      "134000\n",
      "134500\n",
      "135000\n",
      "135500\n",
      "140000\n",
      "140500\n",
      "141000\n",
      "141500\n",
      "144000\n",
      "144500\n",
      "145000\n",
      "145500\n"
     ]
    },
    {
     "name": "stderr",
     "output_type": "stream",
     "text": [
      " 89%|████████▉ | 17/19 [24:09<04:06, 123.40s/it]"
     ]
    },
    {
     "name": "stdout",
     "output_type": "stream",
     "text": [
      "150000\n",
      "[Errno 2] No such file or directory: './data/20211112/video1/150400.csv'\n",
      "[Errno 2] No such file or directory: './data/20211112/Pose/video1/150400.npy'\n",
      "20220208\n",
      "145500\n",
      "150000\n",
      "150500\n",
      "151000\n",
      "151500\n",
      "152000\n",
      "152500\n",
      "153000\n",
      "153500\n",
      "154000\n"
     ]
    },
    {
     "name": "stderr",
     "output_type": "stream",
     "text": [
      " 95%|█████████▍| 18/19 [26:24<02:06, 126.78s/it]"
     ]
    },
    {
     "name": "stdout",
     "output_type": "stream",
     "text": [
      "20220209\n",
      "162000\n",
      "162500\n",
      "163000\n",
      "163500\n",
      "164000\n",
      "164500\n",
      "165000\n",
      "165500\n",
      "170000\n",
      "170500\n"
     ]
    },
    {
     "name": "stderr",
     "output_type": "stream",
     "text": [
      "100%|██████████| 19/19 [28:20<00:00, 89.48s/it] \n"
     ]
    },
    {
     "name": "stdout",
     "output_type": "stream",
     "text": [
      "2 2\n"
     ]
    },
    {
     "name": "stderr",
     "output_type": "stream",
     "text": [
      "  0%|          | 0/19 [00:00<?, ?it/s]"
     ]
    },
    {
     "name": "stdout",
     "output_type": "stream",
     "text": [
      "20170720\n",
      "152000\n",
      "152500\n",
      "153000\n",
      "153500\n",
      "154000\n",
      "154500\n",
      "155000\n",
      "155500\n",
      "160000\n"
     ]
    },
    {
     "name": "stderr",
     "output_type": "stream",
     "text": [
      "C:\\Users\\irdal\\AppData\\Local\\Temp\\ipykernel_28852\\2858089190.py:23: VisibleDeprecationWarning: Creating an ndarray from ragged nested sequences (which is a list-or-tuple of lists-or-tuples-or ndarrays with different lengths or shapes) is deprecated. If you meant to do this, you must specify 'dtype=object' when creating the ndarray.\n",
      "  gaze_data = np.array(gaze_data)\n",
      "C:\\Users\\irdal\\AppData\\Local\\Temp\\ipykernel_28852\\2858089190.py:44: VisibleDeprecationWarning: Creating an ndarray from ragged nested sequences (which is a list-or-tuple of lists-or-tuples-or ndarrays with different lengths or shapes) is deprecated. If you meant to do this, you must specify 'dtype=object' when creating the ndarray.\n",
      "  return np.array(pose_data)\n"
     ]
    },
    {
     "name": "stdout",
     "output_type": "stream",
     "text": [
      "160500\n"
     ]
    },
    {
     "name": "stderr",
     "output_type": "stream",
     "text": [
      "  5%|▌         | 1/19 [01:01<18:26, 61.47s/it]"
     ]
    },
    {
     "name": "stdout",
     "output_type": "stream",
     "text": [
      "20170804\n",
      "164000\n",
      "164500\n",
      "165000\n",
      "165500\n",
      "170000\n",
      "170500\n",
      "171000\n",
      "171500\n"
     ]
    },
    {
     "name": "stderr",
     "output_type": "stream",
     "text": [
      " 11%|█         | 2/19 [01:49<15:09, 53.50s/it]"
     ]
    },
    {
     "name": "stdout",
     "output_type": "stream",
     "text": [
      "20170828\n",
      "161000\n",
      "161500\n",
      "162000\n",
      "162500\n",
      "163000\n",
      "163500\n",
      "164000\n"
     ]
    },
    {
     "name": "stderr",
     "output_type": "stream",
     "text": [
      " 16%|█▌        | 3/19 [02:34<13:11, 49.47s/it]"
     ]
    },
    {
     "name": "stdout",
     "output_type": "stream",
     "text": [
      "20170829\n",
      "165500\n",
      "170000\n",
      "170500\n",
      "171000\n",
      "171500\n",
      "172000\n",
      "172500\n"
     ]
    },
    {
     "name": "stderr",
     "output_type": "stream",
     "text": [
      " 21%|██        | 4/19 [03:39<13:56, 55.75s/it]"
     ]
    },
    {
     "name": "stdout",
     "output_type": "stream",
     "text": [
      "173000\n",
      "[Errno 2] No such file or directory: './data/20170829/video1/173400.csv'\n",
      "[Errno 2] No such file or directory: './data/20170829/Pose/video1/173400.npy'\n",
      "20170915\n",
      "112000\n",
      "112500\n"
     ]
    },
    {
     "name": "stderr",
     "output_type": "stream",
     "text": [
      " 26%|██▋       | 5/19 [03:53<09:28, 40.57s/it]"
     ]
    },
    {
     "name": "stdout",
     "output_type": "stream",
     "text": [
      "20171026\n",
      "124500\n",
      "125000\n",
      "125500\n",
      "130000\n",
      "130500\n",
      "131000\n",
      "131500\n",
      "132000\n"
     ]
    },
    {
     "name": "stderr",
     "output_type": "stream",
     "text": [
      " 32%|███▏      | 6/19 [04:46<09:44, 44.96s/it]"
     ]
    },
    {
     "name": "stdout",
     "output_type": "stream",
     "text": [
      "20171226\n",
      "154000\n",
      "154500\n",
      "155000\n",
      "155500\n",
      "160000\n",
      "160500\n",
      "161000\n",
      "161500\n",
      "162000\n",
      "162500\n",
      "163000\n",
      "163500\n",
      "164000\n",
      "164500\n",
      "165000\n",
      "165500\n",
      "170000\n",
      "170500\n",
      "171000\n",
      "171500\n",
      "172000\n",
      "172500\n"
     ]
    },
    {
     "name": "stderr",
     "output_type": "stream",
     "text": [
      " 37%|███▋      | 7/19 [08:00<18:44, 93.71s/it]"
     ]
    },
    {
     "name": "stdout",
     "output_type": "stream",
     "text": [
      "173000\n",
      "[Errno 2] No such file or directory: './data/20171226/video2/173400.csv'\n",
      "[Errno 2] No such file or directory: './data/20171226/Pose/video2/173400.npy'\n",
      "20171228\n",
      "151000\n",
      "151500\n",
      "152000\n",
      "152500\n",
      "153000\n",
      "153500\n",
      "154000\n",
      "154500\n"
     ]
    },
    {
     "name": "stderr",
     "output_type": "stream",
     "text": [
      " 42%|████▏     | 8/19 [09:08<15:41, 85.59s/it]"
     ]
    },
    {
     "name": "stdout",
     "output_type": "stream",
     "text": [
      "155000\n",
      "[Errno 2] No such file or directory: './data/20171228/video1/155400.csv'\n",
      "[Errno 2] No such file or directory: './data/20171228/Pose/video1/155400.npy'\n",
      "20180725\n",
      "172500\n",
      "173000\n",
      "173500\n",
      "174000\n",
      "174500\n",
      "175000\n",
      "175500\n",
      "180000\n"
     ]
    },
    {
     "name": "stderr",
     "output_type": "stream",
     "text": [
      " 47%|████▋     | 9/19 [10:00<12:30, 75.02s/it]"
     ]
    },
    {
     "name": "stdout",
     "output_type": "stream",
     "text": [
      "180500\n",
      "[Errno 2] No such file or directory: './data/20180725/video1/180800.csv'\n",
      "[Errno 2] No such file or directory: './data/20180725/Pose/video1/180800.npy'\n",
      "20181226\n",
      "151500\n",
      "152000\n",
      "152500\n",
      "154000\n",
      "154500\n",
      "155000\n",
      "155500\n",
      "160000\n"
     ]
    },
    {
     "name": "stderr",
     "output_type": "stream",
     "text": [
      " 53%|█████▎    | 10/19 [11:17<11:21, 75.72s/it]"
     ]
    },
    {
     "name": "stdout",
     "output_type": "stream",
     "text": [
      "20190328\n",
      "154000\n",
      "154500\n",
      "155000\n",
      "155500\n",
      "160000\n",
      "160500\n",
      "161000\n",
      "161500\n",
      "170500\n",
      "171000\n",
      "171500\n",
      "172000\n",
      "172500\n"
     ]
    },
    {
     "name": "stderr",
     "output_type": "stream",
     "text": [
      " 58%|█████▊    | 11/19 [13:29<12:22, 92.82s/it]"
     ]
    },
    {
     "name": "stdout",
     "output_type": "stream",
     "text": [
      "173000\n",
      "[Errno 2] No such file or directory: './data/20190328/video1/173300.csv'\n",
      "[Errno 2] No such file or directory: './data/20190328/Pose/video1/173300.npy'\n",
      "20190628\n",
      "142000\n",
      "142500\n",
      "143000\n",
      "143500\n",
      "144000\n",
      "144500\n",
      "145000\n",
      "145500\n",
      "150000\n",
      "150500\n",
      "151000\n",
      "151500\n"
     ]
    },
    {
     "name": "stderr",
     "output_type": "stream",
     "text": [
      " 63%|██████▎   | 12/19 [15:06<10:58, 94.06s/it]"
     ]
    },
    {
     "name": "stdout",
     "output_type": "stream",
     "text": [
      "20211020\n",
      "144500\n",
      "145000\n",
      "145500\n",
      "152000\n",
      "152500\n",
      "153000\n"
     ]
    },
    {
     "name": "stderr",
     "output_type": "stream",
     "text": [
      " 68%|██████▊   | 13/19 [15:53<07:59, 79.98s/it]"
     ]
    },
    {
     "name": "stdout",
     "output_type": "stream",
     "text": [
      "20211021\n",
      "112000\n",
      "112500\n",
      "113000\n",
      "113500\n",
      "114000\n",
      "114500\n",
      "115000\n",
      "115500\n",
      "121000\n",
      "121500\n",
      "122000\n",
      "122500\n",
      "123000\n"
     ]
    },
    {
     "name": "stderr",
     "output_type": "stream",
     "text": [
      " 74%|███████▎  | 14/19 [17:36<07:14, 86.91s/it]"
     ]
    },
    {
     "name": "stdout",
     "output_type": "stream",
     "text": [
      "20211025\n",
      "140500\n",
      "141000\n",
      "141500\n",
      "142000\n",
      "142500\n",
      "143000\n",
      "143500\n",
      "144000\n",
      "151000\n",
      "151500\n",
      "154500\n",
      "155000\n"
     ]
    },
    {
     "name": "stderr",
     "output_type": "stream",
     "text": [
      " 79%|███████▉  | 15/19 [19:17<06:04, 91.04s/it]"
     ]
    },
    {
     "name": "stdout",
     "output_type": "stream",
     "text": [
      "20211105\n",
      "143500\n",
      "144000\n",
      "144500\n",
      "145000\n",
      "145500\n",
      "150500\n",
      "151000\n",
      "151500\n",
      "152000\n",
      "152500\n",
      "153000\n",
      "153500\n",
      "154000\n",
      "154500\n",
      "155000\n",
      "155500\n",
      "160000\n",
      "160500\n"
     ]
    },
    {
     "name": "stderr",
     "output_type": "stream",
     "text": [
      " 84%|████████▍ | 16/19 [22:24<06:00, 120.02s/it]"
     ]
    },
    {
     "name": "stdout",
     "output_type": "stream",
     "text": [
      "161000\n",
      "[Errno 2] No such file or directory: './data/20211105/video1/161300.csv'\n",
      "[Errno 2] No such file or directory: './data/20211105/Pose/video1/161300.npy'\n",
      "20211112\n",
      "132500\n",
      "133000\n",
      "133500\n",
      "134000\n",
      "134500\n",
      "135000\n",
      "135500\n",
      "140000\n",
      "140500\n",
      "141000\n",
      "141500\n",
      "144000\n",
      "144500\n",
      "145000\n",
      "145500\n"
     ]
    },
    {
     "name": "stderr",
     "output_type": "stream",
     "text": [
      " 89%|████████▉ | 17/19 [24:35<04:06, 123.13s/it]"
     ]
    },
    {
     "name": "stdout",
     "output_type": "stream",
     "text": [
      "150000\n",
      "[Errno 2] No such file or directory: './data/20211112/video1/150400.csv'\n",
      "[Errno 2] No such file or directory: './data/20211112/Pose/video1/150400.npy'\n",
      "20220208\n",
      "145500\n",
      "150000\n",
      "150500\n",
      "151000\n",
      "151500\n",
      "152000\n",
      "152500\n",
      "153000\n",
      "153500\n",
      "154000\n"
     ]
    },
    {
     "name": "stderr",
     "output_type": "stream",
     "text": [
      " 95%|█████████▍| 18/19 [26:24<01:58, 118.89s/it]"
     ]
    },
    {
     "name": "stdout",
     "output_type": "stream",
     "text": [
      "20220209\n",
      "162000\n",
      "162500\n",
      "163000\n",
      "163500\n",
      "164000\n",
      "164500\n",
      "165000\n",
      "165500\n",
      "170000\n",
      "170500\n"
     ]
    },
    {
     "name": "stderr",
     "output_type": "stream",
     "text": [
      "100%|██████████| 19/19 [27:57<00:00, 88.30s/it] \n"
     ]
    },
    {
     "name": "stdout",
     "output_type": "stream",
     "text": [
      "1 0.5\n"
     ]
    },
    {
     "name": "stderr",
     "output_type": "stream",
     "text": [
      "  0%|          | 0/19 [00:00<?, ?it/s]"
     ]
    },
    {
     "name": "stdout",
     "output_type": "stream",
     "text": [
      "20170720\n",
      "152000\n",
      "152500\n",
      "153000\n",
      "153500\n",
      "154000\n",
      "154500\n",
      "155000\n",
      "155500\n",
      "160000\n"
     ]
    },
    {
     "name": "stderr",
     "output_type": "stream",
     "text": [
      "C:\\Users\\irdal\\AppData\\Local\\Temp\\ipykernel_28852\\2858089190.py:23: VisibleDeprecationWarning: Creating an ndarray from ragged nested sequences (which is a list-or-tuple of lists-or-tuples-or ndarrays with different lengths or shapes) is deprecated. If you meant to do this, you must specify 'dtype=object' when creating the ndarray.\n",
      "  gaze_data = np.array(gaze_data)\n",
      "C:\\Users\\irdal\\AppData\\Local\\Temp\\ipykernel_28852\\2858089190.py:44: VisibleDeprecationWarning: Creating an ndarray from ragged nested sequences (which is a list-or-tuple of lists-or-tuples-or ndarrays with different lengths or shapes) is deprecated. If you meant to do this, you must specify 'dtype=object' when creating the ndarray.\n",
      "  return np.array(pose_data)\n"
     ]
    },
    {
     "name": "stdout",
     "output_type": "stream",
     "text": [
      "160500\n"
     ]
    },
    {
     "name": "stderr",
     "output_type": "stream",
     "text": [
      "  5%|▌         | 1/19 [03:17<59:20, 197.83s/it]"
     ]
    },
    {
     "name": "stdout",
     "output_type": "stream",
     "text": [
      "20170804\n",
      "164000\n",
      "164500\n",
      "165000\n",
      "165500\n",
      "170000\n",
      "170500\n",
      "171000\n",
      "171500\n"
     ]
    },
    {
     "name": "stderr",
     "output_type": "stream",
     "text": [
      " 11%|█         | 2/19 [05:18<43:11, 152.42s/it]"
     ]
    },
    {
     "name": "stdout",
     "output_type": "stream",
     "text": [
      "20170828\n",
      "161000\n",
      "161500\n",
      "162000\n",
      "162500\n",
      "163000\n",
      "163500\n",
      "164000\n"
     ]
    },
    {
     "name": "stderr",
     "output_type": "stream",
     "text": [
      " 16%|█▌        | 3/19 [07:09<35:35, 133.49s/it]"
     ]
    },
    {
     "name": "stdout",
     "output_type": "stream",
     "text": [
      "20170829\n",
      "165500\n",
      "170000\n",
      "170500\n",
      "171000\n",
      "171500\n",
      "172000\n",
      "172500\n"
     ]
    },
    {
     "name": "stderr",
     "output_type": "stream",
     "text": [
      " 21%|██        | 4/19 [09:39<35:01, 140.13s/it]"
     ]
    },
    {
     "name": "stdout",
     "output_type": "stream",
     "text": [
      "173000\n",
      "[Errno 2] No such file or directory: './data/20170829/video1/173400.csv'\n",
      "[Errno 2] No such file or directory: './data/20170829/Pose/video1/173400.npy'\n",
      "20170915\n",
      "112000\n",
      "112500\n"
     ]
    },
    {
     "name": "stderr",
     "output_type": "stream",
     "text": [
      " 26%|██▋       | 5/19 [10:28<25:01, 107.22s/it]"
     ]
    },
    {
     "name": "stdout",
     "output_type": "stream",
     "text": [
      "20171026\n",
      "124500\n",
      "125000\n",
      "125500\n",
      "130000\n",
      "130500\n",
      "131000\n",
      "131500\n",
      "132000\n"
     ]
    },
    {
     "name": "stderr",
     "output_type": "stream",
     "text": [
      " 32%|███▏      | 6/19 [12:27<24:03, 111.04s/it]"
     ]
    },
    {
     "name": "stdout",
     "output_type": "stream",
     "text": [
      "20171226\n",
      "154000\n",
      "154500\n",
      "155000\n",
      "155500\n",
      "160000\n",
      "160500\n",
      "161000\n",
      "161500\n",
      "162000\n",
      "162500\n",
      "163000\n",
      "163500\n",
      "164000\n",
      "164500\n",
      "165000\n",
      "165500\n",
      "170000\n",
      "170500\n",
      "171000\n",
      "171500\n",
      "172000\n",
      "172500\n",
      "173000\n"
     ]
    },
    {
     "name": "stderr",
     "output_type": "stream",
     "text": [
      " 37%|███▋      | 7/19 [20:26<46:19, 231.61s/it]"
     ]
    },
    {
     "name": "stdout",
     "output_type": "stream",
     "text": [
      "[Errno 2] No such file or directory: './data/20171226/video2/173400.csv'\n",
      "[Errno 2] No such file or directory: './data/20171226/Pose/video2/173400.npy'\n",
      "20171228\n",
      "151000\n",
      "151500\n",
      "152000\n",
      "152500\n",
      "153000\n",
      "153500\n",
      "154000\n",
      "154500\n"
     ]
    },
    {
     "name": "stderr",
     "output_type": "stream",
     "text": [
      " 42%|████▏     | 8/19 [23:23<39:16, 214.24s/it]"
     ]
    },
    {
     "name": "stdout",
     "output_type": "stream",
     "text": [
      "155000\n",
      "[Errno 2] No such file or directory: './data/20171228/video1/155400.csv'\n",
      "[Errno 2] No such file or directory: './data/20171228/Pose/video1/155400.npy'\n",
      "20180725\n",
      "172500\n",
      "173000\n",
      "173500\n",
      "174000\n",
      "174500\n",
      "175000\n",
      "175500\n",
      "180000\n"
     ]
    },
    {
     "name": "stderr",
     "output_type": "stream",
     "text": [
      " 47%|████▋     | 9/19 [25:21<30:40, 184.04s/it]"
     ]
    },
    {
     "name": "stdout",
     "output_type": "stream",
     "text": [
      "180500\n",
      "[Errno 2] No such file or directory: './data/20180725/video1/180800.csv'\n",
      "[Errno 2] No such file or directory: './data/20180725/Pose/video1/180800.npy'\n",
      "20181226\n",
      "151500\n",
      "152000\n",
      "152500\n",
      "154000\n",
      "154500\n",
      "155000\n",
      "155500\n",
      "160000\n"
     ]
    },
    {
     "name": "stderr",
     "output_type": "stream",
     "text": [
      " 53%|█████▎    | 10/19 [28:51<28:48, 192.01s/it]"
     ]
    },
    {
     "name": "stdout",
     "output_type": "stream",
     "text": [
      "20190328\n",
      "154000\n",
      "154500\n",
      "155000\n",
      "155500\n",
      "160000\n",
      "160500\n",
      "161000\n",
      "161500\n",
      "170500\n",
      "171000\n",
      "171500\n",
      "172000\n",
      "172500\n"
     ]
    },
    {
     "name": "stderr",
     "output_type": "stream",
     "text": [
      " 58%|█████▊    | 11/19 [34:26<31:26, 235.81s/it]"
     ]
    },
    {
     "name": "stdout",
     "output_type": "stream",
     "text": [
      "173000\n",
      "[Errno 2] No such file or directory: './data/20190328/video1/173300.csv'\n",
      "[Errno 2] No such file or directory: './data/20190328/Pose/video1/173300.npy'\n",
      "20190628\n",
      "142000\n",
      "142500\n",
      "143000\n",
      "143500\n",
      "144000\n",
      "144500\n",
      "145000\n",
      "145500\n",
      "150000\n",
      "150500\n",
      "151000\n",
      "151500\n"
     ]
    },
    {
     "name": "stderr",
     "output_type": "stream",
     "text": [
      " 63%|██████▎   | 12/19 [38:02<26:48, 229.73s/it]"
     ]
    },
    {
     "name": "stdout",
     "output_type": "stream",
     "text": [
      "20211020\n",
      "144500\n",
      "145000\n",
      "145500\n",
      "152000\n",
      "152500\n",
      "153000\n"
     ]
    },
    {
     "name": "stderr",
     "output_type": "stream",
     "text": [
      " 68%|██████▊   | 13/19 [40:12<19:57, 199.62s/it]"
     ]
    },
    {
     "name": "stdout",
     "output_type": "stream",
     "text": [
      "20211021\n",
      "112000\n",
      "112500\n",
      "113000\n",
      "113500\n",
      "114000\n",
      "114500\n",
      "115000\n",
      "115500\n",
      "121000\n",
      "121500\n",
      "122000\n",
      "122500\n",
      "123000\n"
     ]
    },
    {
     "name": "stderr",
     "output_type": "stream",
     "text": [
      " 74%|███████▎  | 14/19 [44:05<17:27, 209.49s/it]"
     ]
    },
    {
     "name": "stdout",
     "output_type": "stream",
     "text": [
      "20211025\n",
      "140500\n",
      "141000\n",
      "141500\n",
      "142000\n",
      "142500\n",
      "143000\n",
      "143500\n",
      "144000\n",
      "151000\n",
      "151500\n",
      "154500\n",
      "155000\n"
     ]
    },
    {
     "name": "stderr",
     "output_type": "stream",
     "text": [
      " 79%|███████▉  | 15/19 [47:37<14:01, 210.30s/it]"
     ]
    },
    {
     "name": "stdout",
     "output_type": "stream",
     "text": [
      "20211105\n",
      "143500\n",
      "144000\n",
      "144500\n",
      "145000\n",
      "145500\n",
      "150500\n",
      "151000\n",
      "151500\n",
      "152000\n",
      "152500\n",
      "153000\n",
      "153500\n",
      "154000\n",
      "154500\n",
      "155000\n",
      "155500\n",
      "160000\n",
      "160500\n"
     ]
    },
    {
     "name": "stderr",
     "output_type": "stream",
     "text": [
      " 84%|████████▍ | 16/19 [54:15<13:20, 266.79s/it]"
     ]
    },
    {
     "name": "stdout",
     "output_type": "stream",
     "text": [
      "161000\n",
      "[Errno 2] No such file or directory: './data/20211105/video1/161300.csv'\n",
      "[Errno 2] No such file or directory: './data/20211105/Pose/video1/161300.npy'\n",
      "20211112\n",
      "132500\n",
      "133000\n",
      "133500\n",
      "134000\n",
      "134500\n",
      "135000\n",
      "135500\n",
      "140000\n",
      "140500\n",
      "141000\n",
      "141500\n",
      "144000\n",
      "144500\n",
      "145000\n",
      "145500\n"
     ]
    },
    {
     "name": "stderr",
     "output_type": "stream",
     "text": [
      " 89%|████████▉ | 17/19 [58:56<09:02, 271.09s/it]"
     ]
    },
    {
     "name": "stdout",
     "output_type": "stream",
     "text": [
      "150000\n",
      "[Errno 2] No such file or directory: './data/20211112/video1/150400.csv'\n",
      "[Errno 2] No such file or directory: './data/20211112/Pose/video1/150400.npy'\n",
      "20220208\n",
      "145500\n",
      "150000\n",
      "150500\n",
      "151000\n",
      "151500\n",
      "152000\n",
      "152500\n",
      "153000\n",
      "153500\n",
      "154000\n"
     ]
    },
    {
     "name": "stderr",
     "output_type": "stream",
     "text": [
      " 95%|█████████▍| 18/19 [1:03:32<04:32, 272.73s/it]"
     ]
    },
    {
     "name": "stdout",
     "output_type": "stream",
     "text": [
      "20220209\n",
      "162000\n",
      "162500\n",
      "163000\n",
      "163500\n",
      "164000\n",
      "164500\n",
      "165000\n",
      "165500\n",
      "170000\n",
      "170500\n"
     ]
    },
    {
     "name": "stderr",
     "output_type": "stream",
     "text": [
      "100%|██████████| 19/19 [1:07:56<00:00, 214.56s/it]\n"
     ]
    },
    {
     "name": "stdout",
     "output_type": "stream",
     "text": [
      "1 1\n"
     ]
    },
    {
     "name": "stderr",
     "output_type": "stream",
     "text": [
      "  0%|          | 0/19 [00:00<?, ?it/s]"
     ]
    },
    {
     "name": "stdout",
     "output_type": "stream",
     "text": [
      "20170720\n",
      "152000\n",
      "152500\n",
      "153000\n",
      "153500\n",
      "154000\n",
      "154500\n",
      "155000\n",
      "155500\n",
      "160000\n"
     ]
    },
    {
     "name": "stderr",
     "output_type": "stream",
     "text": [
      "C:\\Users\\irdal\\AppData\\Local\\Temp\\ipykernel_28852\\2858089190.py:23: VisibleDeprecationWarning: Creating an ndarray from ragged nested sequences (which is a list-or-tuple of lists-or-tuples-or ndarrays with different lengths or shapes) is deprecated. If you meant to do this, you must specify 'dtype=object' when creating the ndarray.\n",
      "  gaze_data = np.array(gaze_data)\n",
      "C:\\Users\\irdal\\AppData\\Local\\Temp\\ipykernel_28852\\2858089190.py:44: VisibleDeprecationWarning: Creating an ndarray from ragged nested sequences (which is a list-or-tuple of lists-or-tuples-or ndarrays with different lengths or shapes) is deprecated. If you meant to do this, you must specify 'dtype=object' when creating the ndarray.\n",
      "  return np.array(pose_data)\n"
     ]
    },
    {
     "name": "stdout",
     "output_type": "stream",
     "text": [
      "160500\n"
     ]
    },
    {
     "name": "stderr",
     "output_type": "stream",
     "text": [
      "  5%|▌         | 1/19 [03:08<56:25, 188.06s/it]"
     ]
    },
    {
     "name": "stdout",
     "output_type": "stream",
     "text": [
      "20170804\n",
      "164000\n",
      "164500\n",
      "165000\n",
      "165500\n",
      "170000\n",
      "170500\n",
      "171000\n",
      "171500\n"
     ]
    },
    {
     "name": "stderr",
     "output_type": "stream",
     "text": [
      " 11%|█         | 2/19 [04:56<40:01, 141.28s/it]"
     ]
    },
    {
     "name": "stdout",
     "output_type": "stream",
     "text": [
      "20170828\n",
      "161000\n",
      "161500\n",
      "162000\n",
      "162500\n",
      "163000\n",
      "163500\n",
      "164000\n"
     ]
    },
    {
     "name": "stderr",
     "output_type": "stream",
     "text": [
      " 16%|█▌        | 3/19 [06:32<32:11, 120.70s/it]"
     ]
    },
    {
     "name": "stdout",
     "output_type": "stream",
     "text": [
      "20170829\n",
      "165500\n",
      "170000\n",
      "170500\n",
      "171000\n",
      "171500\n",
      "172000\n",
      "172500\n"
     ]
    },
    {
     "name": "stderr",
     "output_type": "stream",
     "text": [
      " 21%|██        | 4/19 [08:28<29:38, 118.58s/it]"
     ]
    },
    {
     "name": "stdout",
     "output_type": "stream",
     "text": [
      "173000\n",
      "[Errno 2] No such file or directory: './data/20170829/video1/173400.csv'\n",
      "[Errno 2] No such file or directory: './data/20170829/Pose/video1/173400.npy'\n",
      "20170915\n",
      "112000\n",
      "112500\n"
     ]
    },
    {
     "name": "stderr",
     "output_type": "stream",
     "text": [
      " 26%|██▋       | 5/19 [08:58<20:16, 86.91s/it] "
     ]
    },
    {
     "name": "stdout",
     "output_type": "stream",
     "text": [
      "20171026\n",
      "124500\n",
      "125000\n",
      "125500\n",
      "130000\n",
      "130500\n",
      "131000\n",
      "131500\n",
      "132000\n"
     ]
    },
    {
     "name": "stderr",
     "output_type": "stream",
     "text": [
      " 32%|███▏      | 6/19 [10:34<19:27, 89.77s/it]"
     ]
    },
    {
     "name": "stdout",
     "output_type": "stream",
     "text": [
      "20171226\n",
      "154000\n",
      "154500\n",
      "155000\n",
      "155500\n",
      "160000\n",
      "160500\n",
      "161000\n",
      "161500\n",
      "162000\n",
      "162500\n",
      "163000\n",
      "163500\n",
      "164000\n",
      "164500\n",
      "165000\n",
      "165500\n",
      "170000\n",
      "170500\n",
      "171000\n",
      "171500\n",
      "172000\n",
      "172500\n"
     ]
    },
    {
     "name": "stderr",
     "output_type": "stream",
     "text": [
      " 37%|███▋      | 7/19 [17:28<39:11, 195.99s/it]"
     ]
    },
    {
     "name": "stdout",
     "output_type": "stream",
     "text": [
      "173000\n",
      "[Errno 2] No such file or directory: './data/20171226/video2/173400.csv'\n",
      "[Errno 2] No such file or directory: './data/20171226/Pose/video2/173400.npy'\n",
      "20171228\n",
      "151000\n",
      "151500\n",
      "152000\n",
      "152500\n",
      "153000\n",
      "153500\n",
      "154000\n",
      "154500\n"
     ]
    },
    {
     "name": "stderr",
     "output_type": "stream",
     "text": [
      " 42%|████▏     | 8/19 [19:39<32:07, 175.27s/it]"
     ]
    },
    {
     "name": "stdout",
     "output_type": "stream",
     "text": [
      "155000\n",
      "[Errno 2] No such file or directory: './data/20171228/video1/155400.csv'\n",
      "[Errno 2] No such file or directory: './data/20171228/Pose/video1/155400.npy'\n",
      "20180725\n",
      "172500\n",
      "173000\n",
      "173500\n",
      "174000\n",
      "174500\n",
      "175000\n",
      "175500\n",
      "180000\n"
     ]
    },
    {
     "name": "stderr",
     "output_type": "stream",
     "text": [
      " 47%|████▋     | 9/19 [21:04<24:30, 147.00s/it]"
     ]
    },
    {
     "name": "stdout",
     "output_type": "stream",
     "text": [
      "180500\n",
      "[Errno 2] No such file or directory: './data/20180725/video1/180800.csv'\n",
      "[Errno 2] No such file or directory: './data/20180725/Pose/video1/180800.npy'\n",
      "20181226\n",
      "151500\n",
      "152000\n",
      "152500\n",
      "154000\n",
      "154500\n",
      "155000\n",
      "155500\n",
      "160000\n"
     ]
    },
    {
     "name": "stderr",
     "output_type": "stream",
     "text": [
      " 53%|█████▎    | 10/19 [23:09<21:01, 140.17s/it]"
     ]
    },
    {
     "name": "stdout",
     "output_type": "stream",
     "text": [
      "20190328\n",
      "154000\n",
      "154500\n",
      "155000\n",
      "155500\n",
      "160000\n",
      "160500\n",
      "161000\n",
      "161500\n",
      "170500\n",
      "171000\n",
      "171500\n",
      "172000\n",
      "172500\n"
     ]
    },
    {
     "name": "stderr",
     "output_type": "stream",
     "text": [
      " 58%|█████▊    | 11/19 [27:20<23:13, 174.13s/it]"
     ]
    },
    {
     "name": "stdout",
     "output_type": "stream",
     "text": [
      "173000\n",
      "[Errno 2] No such file or directory: './data/20190328/video1/173300.csv'\n",
      "[Errno 2] No such file or directory: './data/20190328/Pose/video1/173300.npy'\n",
      "20190628\n",
      "142000\n",
      "142500\n",
      "143000\n",
      "143500\n",
      "144000\n",
      "144500\n",
      "145000\n",
      "145500\n",
      "150000\n",
      "150500\n",
      "151000\n",
      "151500\n"
     ]
    },
    {
     "name": "stderr",
     "output_type": "stream",
     "text": [
      " 63%|██████▎   | 12/19 [29:50<19:26, 166.64s/it]"
     ]
    },
    {
     "name": "stdout",
     "output_type": "stream",
     "text": [
      "20211020\n",
      "144500\n",
      "145000\n",
      "145500\n",
      "152000\n",
      "152500\n",
      "153000\n"
     ]
    },
    {
     "name": "stderr",
     "output_type": "stream",
     "text": [
      " 68%|██████▊   | 13/19 [31:20<14:20, 143.46s/it]"
     ]
    },
    {
     "name": "stdout",
     "output_type": "stream",
     "text": [
      "20211021\n",
      "112000\n",
      "112500\n",
      "113000\n",
      "113500\n",
      "114000\n",
      "114500\n",
      "115000\n",
      "115500\n",
      "121000\n",
      "121500\n",
      "122000\n",
      "122500\n",
      "123000\n"
     ]
    },
    {
     "name": "stderr",
     "output_type": "stream",
     "text": [
      " 74%|███████▎  | 14/19 [34:10<12:37, 151.44s/it]"
     ]
    },
    {
     "name": "stdout",
     "output_type": "stream",
     "text": [
      "20211025\n",
      "140500\n",
      "141000\n",
      "141500\n",
      "142000\n",
      "142500\n",
      "143000\n",
      "143500\n",
      "144000\n",
      "151000\n",
      "151500\n",
      "154500\n",
      "155000\n"
     ]
    },
    {
     "name": "stderr",
     "output_type": "stream",
     "text": [
      " 79%|███████▉  | 15/19 [36:48<10:14, 153.51s/it]"
     ]
    },
    {
     "name": "stdout",
     "output_type": "stream",
     "text": [
      "20211105\n",
      "143500\n",
      "144000\n",
      "144500\n",
      "145000\n",
      "145500\n",
      "150500\n",
      "151000\n",
      "151500\n",
      "152000\n",
      "152500\n",
      "153000\n",
      "153500\n",
      "154000\n",
      "154500\n",
      "155000\n",
      "155500\n",
      "160000\n",
      "160500\n"
     ]
    },
    {
     "name": "stderr",
     "output_type": "stream",
     "text": [
      " 84%|████████▍ | 16/19 [41:27<09:33, 191.15s/it]"
     ]
    },
    {
     "name": "stdout",
     "output_type": "stream",
     "text": [
      "161000\n",
      "[Errno 2] No such file or directory: './data/20211105/video1/161300.csv'\n",
      "[Errno 2] No such file or directory: './data/20211105/Pose/video1/161300.npy'\n",
      "20211112\n",
      "132500\n",
      "133000\n",
      "133500\n",
      "134000\n",
      "134500\n",
      "135000\n",
      "135500\n",
      "140000\n",
      "140500\n",
      "141000\n",
      "141500\n",
      "144000\n",
      "144500\n",
      "145000\n",
      "145500\n"
     ]
    },
    {
     "name": "stderr",
     "output_type": "stream",
     "text": [
      " 89%|████████▉ | 17/19 [44:49<06:28, 194.49s/it]"
     ]
    },
    {
     "name": "stdout",
     "output_type": "stream",
     "text": [
      "150000\n",
      "[Errno 2] No such file or directory: './data/20211112/video1/150400.csv'\n",
      "[Errno 2] No such file or directory: './data/20211112/Pose/video1/150400.npy'\n",
      "20220208\n",
      "145500\n",
      "150000\n",
      "150500\n",
      "151000\n",
      "151500\n",
      "152000\n",
      "152500\n",
      "153000\n",
      "153500\n",
      "154000\n"
     ]
    },
    {
     "name": "stderr",
     "output_type": "stream",
     "text": [
      " 95%|█████████▍| 18/19 [48:30<03:22, 202.55s/it]"
     ]
    },
    {
     "name": "stdout",
     "output_type": "stream",
     "text": [
      "20220209\n",
      "162000\n",
      "162500\n",
      "163000\n",
      "163500\n",
      "164000\n",
      "164500\n",
      "165000\n",
      "165500\n",
      "170000\n",
      "170500\n"
     ]
    },
    {
     "name": "stderr",
     "output_type": "stream",
     "text": [
      "100%|██████████| 19/19 [51:49<00:00, 163.64s/it]\n"
     ]
    },
    {
     "name": "stdout",
     "output_type": "stream",
     "text": [
      "1 1.5\n"
     ]
    },
    {
     "name": "stderr",
     "output_type": "stream",
     "text": [
      "  0%|          | 0/19 [00:00<?, ?it/s]"
     ]
    },
    {
     "name": "stdout",
     "output_type": "stream",
     "text": [
      "20170720\n",
      "152000\n",
      "152500\n",
      "153000\n",
      "153500\n",
      "154000\n",
      "154500\n",
      "155000\n",
      "155500\n",
      "160000\n"
     ]
    },
    {
     "name": "stderr",
     "output_type": "stream",
     "text": [
      "C:\\Users\\irdal\\AppData\\Local\\Temp\\ipykernel_28852\\2858089190.py:23: VisibleDeprecationWarning: Creating an ndarray from ragged nested sequences (which is a list-or-tuple of lists-or-tuples-or ndarrays with different lengths or shapes) is deprecated. If you meant to do this, you must specify 'dtype=object' when creating the ndarray.\n",
      "  gaze_data = np.array(gaze_data)\n",
      "C:\\Users\\irdal\\AppData\\Local\\Temp\\ipykernel_28852\\2858089190.py:44: VisibleDeprecationWarning: Creating an ndarray from ragged nested sequences (which is a list-or-tuple of lists-or-tuples-or ndarrays with different lengths or shapes) is deprecated. If you meant to do this, you must specify 'dtype=object' when creating the ndarray.\n",
      "  return np.array(pose_data)\n"
     ]
    },
    {
     "name": "stdout",
     "output_type": "stream",
     "text": [
      "160500\n"
     ]
    },
    {
     "name": "stderr",
     "output_type": "stream",
     "text": [
      "  5%|▌         | 1/19 [01:52<33:50, 112.78s/it]"
     ]
    },
    {
     "name": "stdout",
     "output_type": "stream",
     "text": [
      "20170804\n",
      "164000\n",
      "164500\n",
      "165000\n",
      "165500\n",
      "170000\n",
      "170500\n",
      "171000\n",
      "171500\n"
     ]
    },
    {
     "name": "stderr",
     "output_type": "stream",
     "text": [
      " 11%|█         | 2/19 [03:01<24:33, 86.70s/it] "
     ]
    },
    {
     "name": "stdout",
     "output_type": "stream",
     "text": [
      "20170828\n",
      "161000\n",
      "161500\n",
      "162000\n",
      "162500\n",
      "163000\n",
      "163500\n",
      "164000\n"
     ]
    },
    {
     "name": "stderr",
     "output_type": "stream",
     "text": [
      " 16%|█▌        | 3/19 [04:07<20:36, 77.29s/it]"
     ]
    },
    {
     "name": "stdout",
     "output_type": "stream",
     "text": [
      "20170829\n",
      "165500\n",
      "170000\n",
      "170500\n",
      "171000\n",
      "171500\n",
      "172000\n",
      "172500\n"
     ]
    },
    {
     "name": "stderr",
     "output_type": "stream",
     "text": [
      " 21%|██        | 4/19 [05:34<20:17, 81.14s/it]"
     ]
    },
    {
     "name": "stdout",
     "output_type": "stream",
     "text": [
      "173000\n",
      "[Errno 2] No such file or directory: './data/20170829/video1/173400.csv'\n",
      "[Errno 2] No such file or directory: './data/20170829/Pose/video1/173400.npy'\n",
      "20170915\n",
      "112000\n",
      "112500\n"
     ]
    },
    {
     "name": "stderr",
     "output_type": "stream",
     "text": [
      " 26%|██▋       | 5/19 [05:54<13:50, 59.29s/it]"
     ]
    },
    {
     "name": "stdout",
     "output_type": "stream",
     "text": [
      "20171026\n",
      "124500\n",
      "125000\n",
      "125500\n",
      "130000\n",
      "130500\n",
      "131000\n",
      "131500\n",
      "132000\n"
     ]
    },
    {
     "name": "stderr",
     "output_type": "stream",
     "text": [
      " 32%|███▏      | 6/19 [07:04<13:38, 62.94s/it]"
     ]
    },
    {
     "name": "stdout",
     "output_type": "stream",
     "text": [
      "20171226\n",
      "154000\n",
      "154500\n",
      "155000\n",
      "155500\n",
      "160000\n",
      "160500\n",
      "161000\n",
      "161500\n",
      "162000\n",
      "162500\n",
      "163000\n",
      "163500\n",
      "164000\n",
      "164500\n",
      "165000\n",
      "165500\n",
      "170000\n",
      "170500\n",
      "171000\n",
      "171500\n",
      "172000\n",
      "172500\n"
     ]
    },
    {
     "name": "stderr",
     "output_type": "stream",
     "text": [
      " 37%|███▋      | 7/19 [11:48<27:02, 135.20s/it]"
     ]
    },
    {
     "name": "stdout",
     "output_type": "stream",
     "text": [
      "173000\n",
      "[Errno 2] No such file or directory: './data/20171226/video2/173400.csv'\n",
      "[Errno 2] No such file or directory: './data/20171226/Pose/video2/173400.npy'\n",
      "20171228\n",
      "151000\n",
      "151500\n",
      "152000\n",
      "152500\n",
      "153000\n",
      "153500\n",
      "154000\n",
      "154500\n"
     ]
    },
    {
     "name": "stderr",
     "output_type": "stream",
     "text": [
      " 42%|████▏     | 8/19 [13:23<22:24, 122.20s/it]"
     ]
    },
    {
     "name": "stdout",
     "output_type": "stream",
     "text": [
      "155000\n",
      "[Errno 2] No such file or directory: './data/20171228/video1/155400.csv'\n",
      "[Errno 2] No such file or directory: './data/20171228/Pose/video1/155400.npy'\n",
      "20180725\n",
      "172500\n",
      "173000\n",
      "173500\n",
      "174000\n",
      "174500\n",
      "175000\n",
      "175500\n",
      "180000\n"
     ]
    },
    {
     "name": "stderr",
     "output_type": "stream",
     "text": [
      " 47%|████▋     | 9/19 [14:29<17:26, 104.66s/it]"
     ]
    },
    {
     "name": "stdout",
     "output_type": "stream",
     "text": [
      "180500\n",
      "[Errno 2] No such file or directory: './data/20180725/video1/180800.csv'\n",
      "[Errno 2] No such file or directory: './data/20180725/Pose/video1/180800.npy'\n",
      "20181226\n",
      "151500\n",
      "152000\n",
      "152500\n",
      "154000\n",
      "154500\n",
      "155000\n",
      "155500\n",
      "160000\n"
     ]
    },
    {
     "name": "stderr",
     "output_type": "stream",
     "text": [
      " 53%|█████▎    | 10/19 [16:10<15:33, 103.69s/it]"
     ]
    },
    {
     "name": "stdout",
     "output_type": "stream",
     "text": [
      "20190328\n",
      "154000\n",
      "154500\n",
      "155000\n",
      "155500\n",
      "160000\n",
      "160500\n",
      "161000\n",
      "161500\n",
      "170500\n",
      "171000\n",
      "171500\n",
      "172000\n",
      "172500\n"
     ]
    },
    {
     "name": "stderr",
     "output_type": "stream",
     "text": [
      " 58%|█████▊    | 11/19 [19:32<17:50, 133.76s/it]"
     ]
    },
    {
     "name": "stdout",
     "output_type": "stream",
     "text": [
      "173000\n",
      "[Errno 2] No such file or directory: './data/20190328/video1/173300.csv'\n",
      "[Errno 2] No such file or directory: './data/20190328/Pose/video1/173300.npy'\n",
      "20190628\n",
      "142000\n",
      "142500\n",
      "143000\n",
      "143500\n",
      "144000\n",
      "144500\n",
      "145000\n",
      "145500\n",
      "150000\n",
      "150500\n",
      "151000\n",
      "151500\n"
     ]
    },
    {
     "name": "stderr",
     "output_type": "stream",
     "text": [
      " 63%|██████▎   | 12/19 [21:51<15:45, 135.13s/it]"
     ]
    },
    {
     "name": "stdout",
     "output_type": "stream",
     "text": [
      "20211020\n",
      "144500\n",
      "145000\n",
      "145500\n",
      "152000\n",
      "152500\n",
      "153000\n"
     ]
    },
    {
     "name": "stderr",
     "output_type": "stream",
     "text": [
      " 68%|██████▊   | 13/19 [23:12<11:52, 118.81s/it]"
     ]
    },
    {
     "name": "stdout",
     "output_type": "stream",
     "text": [
      "20211021\n",
      "112000\n",
      "112500\n",
      "113000\n",
      "113500\n",
      "114000\n",
      "114500\n",
      "115000\n",
      "115500\n",
      "121000\n",
      "121500\n",
      "122000\n",
      "122500\n",
      "123000\n"
     ]
    },
    {
     "name": "stderr",
     "output_type": "stream",
     "text": [
      " 74%|███████▎  | 14/19 [25:48<10:50, 130.03s/it]"
     ]
    },
    {
     "name": "stdout",
     "output_type": "stream",
     "text": [
      "20211025\n",
      "140500\n",
      "141000\n",
      "141500\n",
      "142000\n",
      "142500\n",
      "143000\n",
      "143500\n",
      "144000\n",
      "151000\n",
      "151500\n",
      "154500\n",
      "155000\n"
     ]
    },
    {
     "name": "stderr",
     "output_type": "stream",
     "text": [
      " 79%|███████▉  | 15/19 [28:11<08:55, 133.85s/it]"
     ]
    },
    {
     "name": "stdout",
     "output_type": "stream",
     "text": [
      "20211105\n",
      "143500\n",
      "144000\n",
      "144500\n",
      "145000\n",
      "145500\n",
      "150500\n",
      "151000\n",
      "151500\n",
      "152000\n",
      "152500\n",
      "153000\n",
      "153500\n",
      "154000\n",
      "154500\n",
      "155000\n",
      "155500\n",
      "160000\n",
      "160500\n"
     ]
    },
    {
     "name": "stderr",
     "output_type": "stream",
     "text": [
      " 84%|████████▍ | 16/19 [32:16<08:22, 167.38s/it]"
     ]
    },
    {
     "name": "stdout",
     "output_type": "stream",
     "text": [
      "161000\n",
      "[Errno 2] No such file or directory: './data/20211105/video1/161300.csv'\n",
      "[Errno 2] No such file or directory: './data/20211105/Pose/video1/161300.npy'\n",
      "20211112\n",
      "132500\n",
      "133000\n",
      "133500\n",
      "134000\n",
      "134500\n",
      "135000\n",
      "135500\n",
      "140000\n",
      "140500\n",
      "141000\n",
      "141500\n",
      "144000\n",
      "144500\n",
      "145000\n",
      "145500\n"
     ]
    },
    {
     "name": "stderr",
     "output_type": "stream",
     "text": [
      " 89%|████████▉ | 17/19 [35:17<05:43, 171.59s/it]"
     ]
    },
    {
     "name": "stdout",
     "output_type": "stream",
     "text": [
      "150000\n",
      "[Errno 2] No such file or directory: './data/20211112/video1/150400.csv'\n",
      "[Errno 2] No such file or directory: './data/20211112/Pose/video1/150400.npy'\n",
      "20220208\n",
      "145500\n",
      "150000\n",
      "150500\n",
      "151000\n",
      "151500\n",
      "152000\n",
      "152500\n",
      "153000\n",
      "153500\n",
      "154000\n"
     ]
    },
    {
     "name": "stderr",
     "output_type": "stream",
     "text": [
      " 95%|█████████▍| 18/19 [38:22<02:55, 175.64s/it]"
     ]
    },
    {
     "name": "stdout",
     "output_type": "stream",
     "text": [
      "20220209\n",
      "162000\n",
      "162500\n",
      "163000\n",
      "163500\n",
      "164000\n",
      "164500\n",
      "165000\n",
      "165500\n",
      "170000\n",
      "170500\n"
     ]
    },
    {
     "name": "stderr",
     "output_type": "stream",
     "text": [
      "100%|██████████| 19/19 [41:05<00:00, 129.78s/it]\n"
     ]
    },
    {
     "name": "stdout",
     "output_type": "stream",
     "text": [
      "1 2\n"
     ]
    },
    {
     "name": "stderr",
     "output_type": "stream",
     "text": [
      "  0%|          | 0/19 [00:00<?, ?it/s]"
     ]
    },
    {
     "name": "stdout",
     "output_type": "stream",
     "text": [
      "20170720\n",
      "152000\n",
      "152500\n",
      "153000\n",
      "153500\n",
      "154000\n",
      "154500\n",
      "155000\n",
      "155500\n",
      "160000\n"
     ]
    },
    {
     "name": "stderr",
     "output_type": "stream",
     "text": [
      "C:\\Users\\irdal\\AppData\\Local\\Temp\\ipykernel_28852\\2858089190.py:23: VisibleDeprecationWarning: Creating an ndarray from ragged nested sequences (which is a list-or-tuple of lists-or-tuples-or ndarrays with different lengths or shapes) is deprecated. If you meant to do this, you must specify 'dtype=object' when creating the ndarray.\n",
      "  gaze_data = np.array(gaze_data)\n",
      "C:\\Users\\irdal\\AppData\\Local\\Temp\\ipykernel_28852\\2858089190.py:44: VisibleDeprecationWarning: Creating an ndarray from ragged nested sequences (which is a list-or-tuple of lists-or-tuples-or ndarrays with different lengths or shapes) is deprecated. If you meant to do this, you must specify 'dtype=object' when creating the ndarray.\n",
      "  return np.array(pose_data)\n"
     ]
    },
    {
     "name": "stdout",
     "output_type": "stream",
     "text": [
      "160500\n"
     ]
    },
    {
     "name": "stderr",
     "output_type": "stream",
     "text": [
      "  5%|▌         | 1/19 [01:25<25:34, 85.24s/it]"
     ]
    },
    {
     "name": "stdout",
     "output_type": "stream",
     "text": [
      "20170804\n",
      "164000\n",
      "164500\n",
      "165000\n",
      "165500\n",
      "170000\n",
      "170500\n",
      "171000\n",
      "171500\n"
     ]
    },
    {
     "name": "stderr",
     "output_type": "stream",
     "text": [
      " 11%|█         | 2/19 [02:26<20:12, 71.30s/it]"
     ]
    },
    {
     "name": "stdout",
     "output_type": "stream",
     "text": [
      "20170828\n",
      "161000\n",
      "161500\n",
      "162000\n",
      "162500\n",
      "163000\n",
      "163500\n",
      "164000\n"
     ]
    },
    {
     "name": "stderr",
     "output_type": "stream",
     "text": [
      " 16%|█▌        | 3/19 [03:22<17:06, 64.15s/it]"
     ]
    },
    {
     "name": "stdout",
     "output_type": "stream",
     "text": [
      "20170829\n",
      "165500\n",
      "170000\n",
      "170500\n",
      "171000\n",
      "171500\n",
      "172000\n",
      "172500\n"
     ]
    },
    {
     "name": "stderr",
     "output_type": "stream",
     "text": [
      " 21%|██        | 4/19 [04:36<16:58, 67.93s/it]"
     ]
    },
    {
     "name": "stdout",
     "output_type": "stream",
     "text": [
      "173000\n",
      "[Errno 2] No such file or directory: './data/20170829/video1/173400.csv'\n",
      "[Errno 2] No such file or directory: './data/20170829/Pose/video1/173400.npy'\n",
      "20170915\n",
      "112000\n",
      "112500\n"
     ]
    },
    {
     "name": "stderr",
     "output_type": "stream",
     "text": [
      " 26%|██▋       | 5/19 [04:54<11:40, 50.00s/it]"
     ]
    },
    {
     "name": "stdout",
     "output_type": "stream",
     "text": [
      "20171026\n",
      "124500\n",
      "125000\n",
      "125500\n",
      "130000\n",
      "130500\n",
      "131000\n",
      "131500\n",
      "132000\n"
     ]
    },
    {
     "name": "stderr",
     "output_type": "stream",
     "text": [
      " 32%|███▏      | 6/19 [05:54<11:36, 53.57s/it]"
     ]
    },
    {
     "name": "stdout",
     "output_type": "stream",
     "text": [
      "20171226\n",
      "154000\n",
      "154500\n",
      "155000\n",
      "155500\n",
      "160000\n",
      "160500\n",
      "161000\n",
      "161500\n",
      "162000\n",
      "162500\n",
      "163000\n",
      "163500\n",
      "164000\n",
      "164500\n",
      "165000\n",
      "165500\n",
      "170000\n",
      "170500\n",
      "171000\n",
      "171500\n",
      "172000\n",
      "172500\n"
     ]
    },
    {
     "name": "stderr",
     "output_type": "stream",
     "text": [
      " 37%|███▋      | 7/19 [09:43<22:10, 110.84s/it]"
     ]
    },
    {
     "name": "stdout",
     "output_type": "stream",
     "text": [
      "173000\n",
      "[Errno 2] No such file or directory: './data/20171226/video2/173400.csv'\n",
      "[Errno 2] No such file or directory: './data/20171226/Pose/video2/173400.npy'\n",
      "20171228\n",
      "151000\n",
      "151500\n",
      "152000\n",
      "152500\n",
      "153000\n",
      "153500\n",
      "154000\n",
      "154500\n"
     ]
    },
    {
     "name": "stderr",
     "output_type": "stream",
     "text": [
      " 42%|████▏     | 8/19 [11:00<18:20, 100.03s/it]"
     ]
    },
    {
     "name": "stdout",
     "output_type": "stream",
     "text": [
      "155000\n",
      "[Errno 2] No such file or directory: './data/20171228/video1/155400.csv'\n",
      "[Errno 2] No such file or directory: './data/20171228/Pose/video1/155400.npy'\n",
      "20180725\n",
      "172500\n",
      "173000\n",
      "173500\n",
      "174000\n",
      "174500\n",
      "175000\n",
      "175500\n",
      "180000\n"
     ]
    },
    {
     "name": "stderr",
     "output_type": "stream",
     "text": [
      " 47%|████▋     | 9/19 [11:54<14:15, 85.52s/it] "
     ]
    },
    {
     "name": "stdout",
     "output_type": "stream",
     "text": [
      "180500\n",
      "[Errno 2] No such file or directory: './data/20180725/video1/180800.csv'\n",
      "[Errno 2] No such file or directory: './data/20180725/Pose/video1/180800.npy'\n",
      "20181226\n",
      "151500\n",
      "152000\n",
      "152500\n",
      "154000\n",
      "154500\n",
      "155000\n",
      "155500\n",
      "160000\n"
     ]
    },
    {
     "name": "stderr",
     "output_type": "stream",
     "text": [
      " 53%|█████▎    | 10/19 [13:14<12:34, 83.80s/it]"
     ]
    },
    {
     "name": "stdout",
     "output_type": "stream",
     "text": [
      "20190328\n",
      "154000\n",
      "154500\n",
      "155000\n",
      "155500\n",
      "160000\n",
      "160500\n",
      "161000\n",
      "161500\n",
      "170500\n",
      "171000\n",
      "171500\n",
      "172000\n",
      "172500\n"
     ]
    },
    {
     "name": "stderr",
     "output_type": "stream",
     "text": [
      " 58%|█████▊    | 11/19 [15:54<14:18, 107.34s/it]"
     ]
    },
    {
     "name": "stdout",
     "output_type": "stream",
     "text": [
      "173000\n",
      "[Errno 2] No such file or directory: './data/20190328/video1/173300.csv'\n",
      "[Errno 2] No such file or directory: './data/20190328/Pose/video1/173300.npy'\n",
      "20190628\n",
      "142000\n",
      "142500\n",
      "143000\n",
      "143500\n",
      "144000\n",
      "144500\n",
      "145000\n",
      "145500\n",
      "150000\n",
      "150500\n",
      "151000\n",
      "151500\n"
     ]
    },
    {
     "name": "stderr",
     "output_type": "stream",
     "text": [
      " 63%|██████▎   | 12/19 [17:47<12:42, 108.98s/it]"
     ]
    },
    {
     "name": "stdout",
     "output_type": "stream",
     "text": [
      "20211020\n",
      "144500\n",
      "145000\n",
      "145500\n",
      "152000\n",
      "152500\n",
      "153000\n"
     ]
    },
    {
     "name": "stderr",
     "output_type": "stream",
     "text": [
      " 68%|██████▊   | 13/19 [18:46<09:23, 93.85s/it] "
     ]
    },
    {
     "name": "stdout",
     "output_type": "stream",
     "text": [
      "20211021\n",
      "112000\n",
      "112500\n",
      "113000\n",
      "113500\n",
      "114000\n",
      "114500\n",
      "115000\n",
      "115500\n",
      "121000\n",
      "121500\n",
      "122000\n",
      "122500\n",
      "123000\n"
     ]
    },
    {
     "name": "stderr",
     "output_type": "stream",
     "text": [
      " 74%|███████▎  | 14/19 [20:45<08:27, 101.43s/it]"
     ]
    },
    {
     "name": "stdout",
     "output_type": "stream",
     "text": [
      "20211025\n",
      "140500\n",
      "141000\n",
      "141500\n",
      "142000\n",
      "142500\n",
      "143000\n",
      "143500\n",
      "144000\n",
      "151000\n",
      "151500\n",
      "154500\n",
      "155000\n"
     ]
    },
    {
     "name": "stderr",
     "output_type": "stream",
     "text": [
      " 79%|███████▉  | 15/19 [22:39<07:00, 105.08s/it]"
     ]
    },
    {
     "name": "stdout",
     "output_type": "stream",
     "text": [
      "20211105\n",
      "143500\n",
      "144000\n",
      "144500\n",
      "145000\n",
      "145500\n",
      "150500\n",
      "151000\n",
      "151500\n",
      "152000\n",
      "152500\n",
      "153000\n",
      "153500\n",
      "154000\n",
      "154500\n",
      "155000\n",
      "155500\n",
      "160000\n",
      "160500\n"
     ]
    },
    {
     "name": "stderr",
     "output_type": "stream",
     "text": [
      " 84%|████████▍ | 16/19 [26:03<06:44, 134.94s/it]"
     ]
    },
    {
     "name": "stdout",
     "output_type": "stream",
     "text": [
      "161000\n",
      "[Errno 2] No such file or directory: './data/20211105/video1/161300.csv'\n",
      "[Errno 2] No such file or directory: './data/20211105/Pose/video1/161300.npy'\n",
      "20211112\n",
      "132500\n",
      "133000\n",
      "133500\n",
      "134000\n",
      "134500\n",
      "135000\n",
      "135500\n",
      "140000\n",
      "140500\n",
      "141000\n",
      "141500\n",
      "144000\n",
      "144500\n",
      "145000\n",
      "145500\n"
     ]
    },
    {
     "name": "stderr",
     "output_type": "stream",
     "text": [
      " 89%|████████▉ | 17/19 [28:38<04:41, 140.92s/it]"
     ]
    },
    {
     "name": "stdout",
     "output_type": "stream",
     "text": [
      "150000\n",
      "[Errno 2] No such file or directory: './data/20211112/video1/150400.csv'\n",
      "[Errno 2] No such file or directory: './data/20211112/Pose/video1/150400.npy'\n",
      "20220208\n",
      "145500\n",
      "150000\n",
      "150500\n",
      "151000\n",
      "151500\n",
      "152000\n",
      "152500\n",
      "153000\n",
      "153500\n",
      "154000\n"
     ]
    },
    {
     "name": "stderr",
     "output_type": "stream",
     "text": [
      " 95%|█████████▍| 18/19 [31:00<02:21, 141.40s/it]"
     ]
    },
    {
     "name": "stdout",
     "output_type": "stream",
     "text": [
      "20220209\n",
      "162000\n",
      "162500\n",
      "163000\n",
      "163500\n",
      "164000\n",
      "164500\n",
      "165000\n",
      "165500\n",
      "170000\n",
      "170500\n"
     ]
    },
    {
     "name": "stderr",
     "output_type": "stream",
     "text": [
      "100%|██████████| 19/19 [33:04<00:00, 104.43s/it]\n"
     ]
    },
    {
     "name": "stdout",
     "output_type": "stream",
     "text": [
      "1.5 0.5\n"
     ]
    },
    {
     "name": "stderr",
     "output_type": "stream",
     "text": [
      "  0%|          | 0/19 [00:00<?, ?it/s]"
     ]
    },
    {
     "name": "stdout",
     "output_type": "stream",
     "text": [
      "20170720\n",
      "152000\n",
      "152500\n",
      "153000\n",
      "153500\n",
      "154000\n",
      "154500\n",
      "155000\n",
      "155500\n",
      "160000\n"
     ]
    },
    {
     "name": "stderr",
     "output_type": "stream",
     "text": [
      "C:\\Users\\irdal\\AppData\\Local\\Temp\\ipykernel_28852\\2858089190.py:23: VisibleDeprecationWarning: Creating an ndarray from ragged nested sequences (which is a list-or-tuple of lists-or-tuples-or ndarrays with different lengths or shapes) is deprecated. If you meant to do this, you must specify 'dtype=object' when creating the ndarray.\n",
      "  gaze_data = np.array(gaze_data)\n",
      "C:\\Users\\irdal\\AppData\\Local\\Temp\\ipykernel_28852\\2858089190.py:44: VisibleDeprecationWarning: Creating an ndarray from ragged nested sequences (which is a list-or-tuple of lists-or-tuples-or ndarrays with different lengths or shapes) is deprecated. If you meant to do this, you must specify 'dtype=object' when creating the ndarray.\n",
      "  return np.array(pose_data)\n"
     ]
    },
    {
     "name": "stdout",
     "output_type": "stream",
     "text": [
      "160500\n"
     ]
    },
    {
     "name": "stderr",
     "output_type": "stream",
     "text": [
      "  5%|▌         | 1/19 [02:28<44:31, 148.43s/it]"
     ]
    },
    {
     "name": "stdout",
     "output_type": "stream",
     "text": [
      "20170804\n",
      "164000\n",
      "164500\n",
      "165000\n",
      "165500\n",
      "170000\n",
      "170500\n",
      "171000\n",
      "171500\n"
     ]
    },
    {
     "name": "stderr",
     "output_type": "stream",
     "text": [
      " 11%|█         | 2/19 [04:00<32:36, 115.09s/it]"
     ]
    },
    {
     "name": "stdout",
     "output_type": "stream",
     "text": [
      "20170828\n",
      "161000\n",
      "161500\n",
      "162000\n",
      "162500\n",
      "163000\n",
      "163500\n",
      "164000\n"
     ]
    },
    {
     "name": "stderr",
     "output_type": "stream",
     "text": [
      " 16%|█▌        | 3/19 [05:28<27:26, 102.91s/it]"
     ]
    },
    {
     "name": "stdout",
     "output_type": "stream",
     "text": [
      "20170829\n",
      "165500\n",
      "170000\n",
      "170500\n",
      "171000\n",
      "171500\n",
      "172000\n",
      "172500\n"
     ]
    },
    {
     "name": "stderr",
     "output_type": "stream",
     "text": [
      " 21%|██        | 4/19 [07:20<26:39, 106.65s/it]"
     ]
    },
    {
     "name": "stdout",
     "output_type": "stream",
     "text": [
      "173000\n",
      "[Errno 2] No such file or directory: './data/20170829/video1/173400.csv'\n",
      "[Errno 2] No such file or directory: './data/20170829/Pose/video1/173400.npy'\n",
      "20170915\n",
      "112000\n",
      "112500\n"
     ]
    },
    {
     "name": "stderr",
     "output_type": "stream",
     "text": [
      " 26%|██▋       | 5/19 [07:50<18:25, 78.95s/it] "
     ]
    },
    {
     "name": "stdout",
     "output_type": "stream",
     "text": [
      "20171026\n",
      "124500\n",
      "125000\n",
      "125500\n",
      "130000\n",
      "130500\n",
      "131000\n",
      "131500\n",
      "132000\n"
     ]
    },
    {
     "name": "stderr",
     "output_type": "stream",
     "text": [
      " 32%|███▏      | 6/19 [09:14<17:27, 80.55s/it]"
     ]
    },
    {
     "name": "stdout",
     "output_type": "stream",
     "text": [
      "20171226\n",
      "154000\n",
      "154500\n",
      "155000\n",
      "155500\n",
      "160000\n",
      "160500\n",
      "161000\n",
      "161500\n",
      "162000\n",
      "162500\n",
      "163000\n",
      "163500\n",
      "164000\n",
      "164500\n",
      "165000\n",
      "165500\n",
      "170000\n",
      "170500\n",
      "171000\n",
      "171500\n",
      "172000\n",
      "172500\n"
     ]
    },
    {
     "name": "stderr",
     "output_type": "stream",
     "text": [
      " 37%|███▋      | 7/19 [15:56<37:08, 185.73s/it]"
     ]
    },
    {
     "name": "stdout",
     "output_type": "stream",
     "text": [
      "173000\n",
      "[Errno 2] No such file or directory: './data/20171226/video2/173400.csv'\n",
      "[Errno 2] No such file or directory: './data/20171226/Pose/video2/173400.npy'\n",
      "20171228\n",
      "151000\n"
     ]
    },
    {
     "name": "stderr",
     "output_type": "stream",
     "text": [
      "C:\\Users\\irdal\\AppData\\Local\\Temp\\ipykernel_28852\\2858089190.py:23: VisibleDeprecationWarning: Creating an ndarray from ragged nested sequences (which is a list-or-tuple of lists-or-tuples-or ndarrays with different lengths or shapes) is deprecated. If you meant to do this, you must specify 'dtype=object' when creating the ndarray.\n",
      "  gaze_data = np.array(gaze_data)\n",
      "C:\\Users\\irdal\\AppData\\Local\\Temp\\ipykernel_28852\\2858089190.py:44: VisibleDeprecationWarning: Creating an ndarray from ragged nested sequences (which is a list-or-tuple of lists-or-tuples-or ndarrays with different lengths or shapes) is deprecated. If you meant to do this, you must specify 'dtype=object' when creating the ndarray.\n",
      "  return np.array(pose_data)\n"
     ]
    },
    {
     "name": "stdout",
     "output_type": "stream",
     "text": [
      "151500\n",
      "152000\n",
      "152500\n",
      "153000\n",
      "153500\n",
      "154000\n",
      "154500\n"
     ]
    },
    {
     "name": "stderr",
     "output_type": "stream",
     "text": [
      " 42%|████▏     | 8/19 [18:14<31:16, 170.56s/it]"
     ]
    },
    {
     "name": "stdout",
     "output_type": "stream",
     "text": [
      "155000\n",
      "[Errno 2] No such file or directory: './data/20171228/video1/155400.csv'\n",
      "[Errno 2] No such file or directory: './data/20171228/Pose/video1/155400.npy'\n",
      "20180725\n",
      "172500\n",
      "173000\n",
      "173500\n",
      "174000\n",
      "174500\n",
      "175000\n",
      "175500\n",
      "180000\n"
     ]
    },
    {
     "name": "stderr",
     "output_type": "stream",
     "text": [
      " 47%|████▋     | 9/19 [19:45<24:16, 145.61s/it]"
     ]
    },
    {
     "name": "stdout",
     "output_type": "stream",
     "text": [
      "180500\n",
      "[Errno 2] No such file or directory: './data/20180725/video1/180800.csv'\n",
      "[Errno 2] No such file or directory: './data/20180725/Pose/video1/180800.npy'\n",
      "20181226\n",
      "151500\n",
      "152000\n",
      "152500\n",
      "154000\n",
      "154500\n",
      "155000\n",
      "155500\n",
      "160000\n"
     ]
    },
    {
     "name": "stderr",
     "output_type": "stream",
     "text": [
      " 53%|█████▎    | 10/19 [22:10<21:48, 145.34s/it]"
     ]
    },
    {
     "name": "stdout",
     "output_type": "stream",
     "text": [
      "20190328\n",
      "154000\n",
      "154500\n",
      "155000\n",
      "155500\n",
      "160000\n",
      "160500\n",
      "161000\n",
      "161500\n",
      "170500\n",
      "171000\n",
      "171500\n",
      "172000\n",
      "172500\n"
     ]
    },
    {
     "name": "stderr",
     "output_type": "stream",
     "text": [
      " 58%|█████▊    | 11/19 [26:53<25:00, 187.50s/it]"
     ]
    },
    {
     "name": "stdout",
     "output_type": "stream",
     "text": [
      "173000\n",
      "[Errno 2] No such file or directory: './data/20190328/video1/173300.csv'\n",
      "[Errno 2] No such file or directory: './data/20190328/Pose/video1/173300.npy'\n",
      "20190628\n",
      "142000\n",
      "142500\n",
      "143000\n",
      "143500\n",
      "144000\n",
      "144500\n",
      "145000\n",
      "145500\n",
      "150000\n",
      "150500\n",
      "151000\n",
      "151500\n"
     ]
    },
    {
     "name": "stderr",
     "output_type": "stream",
     "text": [
      " 63%|██████▎   | 12/19 [29:38<21:04, 180.59s/it]"
     ]
    },
    {
     "name": "stdout",
     "output_type": "stream",
     "text": [
      "20211020\n",
      "144500\n",
      "145000\n",
      "145500\n",
      "152000\n",
      "152500\n",
      "153000\n"
     ]
    },
    {
     "name": "stderr",
     "output_type": "stream",
     "text": [
      " 68%|██████▊   | 13/19 [31:16<15:33, 155.53s/it]"
     ]
    },
    {
     "name": "stdout",
     "output_type": "stream",
     "text": [
      "20211021\n",
      "112000\n",
      "112500\n",
      "113000\n",
      "113500\n",
      "114000\n",
      "114500\n",
      "115000\n",
      "115500\n",
      "121000\n",
      "121500\n",
      "122000\n",
      "122500\n",
      "123000\n"
     ]
    },
    {
     "name": "stderr",
     "output_type": "stream",
     "text": [
      " 74%|███████▎  | 14/19 [34:22<13:43, 164.76s/it]"
     ]
    },
    {
     "name": "stdout",
     "output_type": "stream",
     "text": [
      "20211025\n",
      "140500\n",
      "141000\n",
      "141500\n",
      "142000\n",
      "142500\n",
      "143000\n",
      "143500\n",
      "144000\n",
      "151000\n",
      "151500\n",
      "154500\n",
      "155000\n"
     ]
    },
    {
     "name": "stderr",
     "output_type": "stream",
     "text": [
      " 79%|███████▉  | 15/19 [37:16<11:10, 167.63s/it]"
     ]
    },
    {
     "name": "stdout",
     "output_type": "stream",
     "text": [
      "20211105\n",
      "143500\n",
      "144000\n",
      "144500\n",
      "145000\n",
      "145500\n",
      "150500\n",
      "151000\n",
      "151500\n",
      "152000\n",
      "152500\n",
      "153000\n",
      "153500\n",
      "154000\n",
      "154500\n",
      "155000\n",
      "155500\n",
      "160000\n",
      "160500\n"
     ]
    },
    {
     "name": "stderr",
     "output_type": "stream",
     "text": [
      " 84%|████████▍ | 16/19 [42:22<10:27, 209.29s/it]"
     ]
    },
    {
     "name": "stdout",
     "output_type": "stream",
     "text": [
      "161000\n",
      "[Errno 2] No such file or directory: './data/20211105/video1/161300.csv'\n",
      "[Errno 2] No such file or directory: './data/20211105/Pose/video1/161300.npy'\n",
      "20211112\n",
      "132500\n",
      "133000\n",
      "133500\n",
      "134000\n",
      "134500\n",
      "135000\n",
      "135500\n",
      "140000\n",
      "140500\n",
      "141000\n",
      "141500\n",
      "144000\n",
      "144500\n",
      "145000\n",
      "145500\n"
     ]
    },
    {
     "name": "stderr",
     "output_type": "stream",
     "text": [
      " 89%|████████▉ | 17/19 [46:00<07:03, 211.97s/it]"
     ]
    },
    {
     "name": "stdout",
     "output_type": "stream",
     "text": [
      "150000\n",
      "[Errno 2] No such file or directory: './data/20211112/video1/150400.csv'\n",
      "[Errno 2] No such file or directory: './data/20211112/Pose/video1/150400.npy'\n",
      "20220208\n",
      "145500\n",
      "150000\n",
      "150500\n",
      "151000\n",
      "151500\n",
      "152000\n",
      "152500\n",
      "153000\n",
      "153500\n",
      "154000\n"
     ]
    },
    {
     "name": "stderr",
     "output_type": "stream",
     "text": [
      " 95%|█████████▍| 18/19 [49:54<03:38, 218.58s/it]"
     ]
    },
    {
     "name": "stdout",
     "output_type": "stream",
     "text": [
      "20220209\n",
      "162000\n",
      "162500\n",
      "163000\n",
      "163500\n",
      "164000\n",
      "164500\n",
      "165000\n",
      "165500\n",
      "170000\n",
      "170500\n"
     ]
    },
    {
     "name": "stderr",
     "output_type": "stream",
     "text": [
      "100%|██████████| 19/19 [53:26<00:00, 168.78s/it]\n"
     ]
    },
    {
     "name": "stdout",
     "output_type": "stream",
     "text": [
      "1.5 1\n"
     ]
    },
    {
     "name": "stderr",
     "output_type": "stream",
     "text": [
      "  0%|          | 0/19 [00:00<?, ?it/s]"
     ]
    },
    {
     "name": "stdout",
     "output_type": "stream",
     "text": [
      "20170720\n",
      "152000\n",
      "152500\n",
      "153000\n",
      "153500\n",
      "154000\n",
      "154500\n",
      "155000\n",
      "155500\n",
      "160000\n"
     ]
    },
    {
     "name": "stderr",
     "output_type": "stream",
     "text": [
      "C:\\Users\\irdal\\AppData\\Local\\Temp\\ipykernel_28852\\2858089190.py:23: VisibleDeprecationWarning: Creating an ndarray from ragged nested sequences (which is a list-or-tuple of lists-or-tuples-or ndarrays with different lengths or shapes) is deprecated. If you meant to do this, you must specify 'dtype=object' when creating the ndarray.\n",
      "  gaze_data = np.array(gaze_data)\n",
      "C:\\Users\\irdal\\AppData\\Local\\Temp\\ipykernel_28852\\2858089190.py:44: VisibleDeprecationWarning: Creating an ndarray from ragged nested sequences (which is a list-or-tuple of lists-or-tuples-or ndarrays with different lengths or shapes) is deprecated. If you meant to do this, you must specify 'dtype=object' when creating the ndarray.\n",
      "  return np.array(pose_data)\n"
     ]
    },
    {
     "name": "stdout",
     "output_type": "stream",
     "text": [
      "160500\n"
     ]
    },
    {
     "name": "stderr",
     "output_type": "stream",
     "text": [
      "  5%|▌         | 1/19 [01:59<35:59, 119.95s/it]"
     ]
    },
    {
     "name": "stdout",
     "output_type": "stream",
     "text": [
      "20170804\n",
      "164000\n",
      "164500\n",
      "165000\n",
      "165500\n",
      "170000\n",
      "170500\n",
      "171000\n",
      "171500\n"
     ]
    },
    {
     "name": "stderr",
     "output_type": "stream",
     "text": [
      " 11%|█         | 2/19 [03:12<26:03, 91.95s/it] "
     ]
    },
    {
     "name": "stdout",
     "output_type": "stream",
     "text": [
      "20170828\n",
      "161000\n",
      "161500\n",
      "162000\n",
      "162500\n",
      "163000\n",
      "163500\n",
      "164000\n"
     ]
    },
    {
     "name": "stderr",
     "output_type": "stream",
     "text": [
      " 16%|█▌        | 3/19 [04:21<21:42, 81.40s/it]"
     ]
    },
    {
     "name": "stdout",
     "output_type": "stream",
     "text": [
      "20170829\n",
      "165500\n",
      "170000\n",
      "170500\n",
      "171000\n",
      "171500\n",
      "172000\n",
      "172500\n"
     ]
    },
    {
     "name": "stderr",
     "output_type": "stream",
     "text": [
      " 21%|██        | 4/19 [05:51<21:15, 85.04s/it]"
     ]
    },
    {
     "name": "stdout",
     "output_type": "stream",
     "text": [
      "173000\n",
      "[Errno 2] No such file or directory: './data/20170829/video1/173400.csv'\n",
      "[Errno 2] No such file or directory: './data/20170829/Pose/video1/173400.npy'\n",
      "20170915\n",
      "112000\n",
      "112500\n"
     ]
    },
    {
     "name": "stderr",
     "output_type": "stream",
     "text": [
      " 26%|██▋       | 5/19 [06:13<14:30, 62.19s/it]"
     ]
    },
    {
     "name": "stdout",
     "output_type": "stream",
     "text": [
      "20171026\n",
      "124500\n",
      "125000\n",
      "125500\n",
      "130000\n",
      "130500\n",
      "131000\n",
      "131500\n",
      "132000\n"
     ]
    },
    {
     "name": "stderr",
     "output_type": "stream",
     "text": [
      " 32%|███▏      | 6/19 [07:27<14:18, 66.07s/it]"
     ]
    },
    {
     "name": "stdout",
     "output_type": "stream",
     "text": [
      "20171226\n",
      "154000\n",
      "154500\n",
      "155000\n",
      "155500\n",
      "160000\n",
      "160500\n",
      "161000\n",
      "161500\n",
      "162000\n",
      "162500\n",
      "163000\n",
      "163500\n",
      "164000\n",
      "164500\n",
      "165000\n",
      "165500\n",
      "170000\n",
      "170500\n",
      "171000\n",
      "171500\n",
      "172000\n",
      "172500\n"
     ]
    },
    {
     "name": "stderr",
     "output_type": "stream",
     "text": [
      " 37%|███▋      | 7/19 [12:21<28:10, 140.87s/it]"
     ]
    },
    {
     "name": "stdout",
     "output_type": "stream",
     "text": [
      "173000\n",
      "[Errno 2] No such file or directory: './data/20171226/video2/173400.csv'\n",
      "[Errno 2] No such file or directory: './data/20171226/Pose/video2/173400.npy'\n",
      "20171228\n",
      "151000\n",
      "151500\n",
      "152000\n",
      "152500\n",
      "153000\n",
      "153500\n",
      "154000\n",
      "154500\n"
     ]
    },
    {
     "name": "stderr",
     "output_type": "stream",
     "text": [
      " 42%|████▏     | 8/19 [14:00<23:20, 127.33s/it]"
     ]
    },
    {
     "name": "stdout",
     "output_type": "stream",
     "text": [
      "155000\n",
      "[Errno 2] No such file or directory: './data/20171228/video1/155400.csv'\n",
      "[Errno 2] No such file or directory: './data/20171228/Pose/video1/155400.npy'\n",
      "20180725\n",
      "172500\n",
      "173000\n",
      "173500\n",
      "174000\n",
      "174500\n",
      "175000\n",
      "175500\n",
      "180000\n"
     ]
    },
    {
     "name": "stderr",
     "output_type": "stream",
     "text": [
      " 47%|████▋     | 9/19 [15:09<18:12, 109.23s/it]"
     ]
    },
    {
     "name": "stdout",
     "output_type": "stream",
     "text": [
      "180500\n",
      "[Errno 2] No such file or directory: './data/20180725/video1/180800.csv'\n",
      "[Errno 2] No such file or directory: './data/20180725/Pose/video1/180800.npy'\n",
      "20181226\n",
      "151500\n",
      "152000\n",
      "152500\n",
      "154000\n",
      "154500\n",
      "155000\n",
      "155500\n",
      "160000\n"
     ]
    },
    {
     "name": "stderr",
     "output_type": "stream",
     "text": [
      " 53%|█████▎    | 10/19 [16:58<16:21, 109.11s/it]"
     ]
    },
    {
     "name": "stdout",
     "output_type": "stream",
     "text": [
      "20190328\n",
      "154000\n",
      "154500\n",
      "155000\n",
      "155500\n",
      "160000\n",
      "160500\n",
      "161000\n",
      "161500\n",
      "170500\n",
      "171000\n",
      "171500\n",
      "172000\n",
      "172500\n"
     ]
    },
    {
     "name": "stderr",
     "output_type": "stream",
     "text": [
      " 58%|█████▊    | 11/19 [20:39<19:06, 143.33s/it]"
     ]
    },
    {
     "name": "stdout",
     "output_type": "stream",
     "text": [
      "173000\n",
      "[Errno 2] No such file or directory: './data/20190328/video1/173300.csv'\n",
      "[Errno 2] No such file or directory: './data/20190328/Pose/video1/173300.npy'\n",
      "20190628\n",
      "142000\n",
      "142500\n",
      "143000\n",
      "143500\n",
      "144000\n",
      "144500\n",
      "145000\n",
      "145500\n",
      "150000\n",
      "150500\n",
      "151000\n",
      "151500\n"
     ]
    },
    {
     "name": "stderr",
     "output_type": "stream",
     "text": [
      " 63%|██████▎   | 12/19 [23:00<16:38, 142.64s/it]"
     ]
    },
    {
     "name": "stdout",
     "output_type": "stream",
     "text": [
      "20211020\n",
      "144500\n",
      "145000\n",
      "145500\n",
      "152000\n",
      "152500\n",
      "153000\n"
     ]
    },
    {
     "name": "stderr",
     "output_type": "stream",
     "text": [
      " 68%|██████▊   | 13/19 [24:21<12:23, 123.99s/it]"
     ]
    },
    {
     "name": "stdout",
     "output_type": "stream",
     "text": [
      "20211021\n",
      "112000\n",
      "112500\n",
      "113000\n",
      "113500\n",
      "114000\n",
      "114500\n",
      "115000\n",
      "115500\n",
      "121000\n",
      "121500\n",
      "122000\n",
      "122500\n",
      "123000\n"
     ]
    },
    {
     "name": "stderr",
     "output_type": "stream",
     "text": [
      " 74%|███████▎  | 14/19 [26:59<11:10, 134.10s/it]"
     ]
    },
    {
     "name": "stdout",
     "output_type": "stream",
     "text": [
      "20211025\n",
      "140500\n",
      "141000\n",
      "141500\n",
      "142000\n",
      "142500\n",
      "143000\n",
      "143500\n",
      "144000\n",
      "151000\n",
      "151500\n",
      "154500\n",
      "155000\n"
     ]
    },
    {
     "name": "stderr",
     "output_type": "stream",
     "text": [
      " 79%|███████▉  | 15/19 [29:27<09:13, 138.36s/it]"
     ]
    },
    {
     "name": "stdout",
     "output_type": "stream",
     "text": [
      "20211105\n",
      "143500\n",
      "144000\n",
      "144500\n",
      "145000\n",
      "145500\n",
      "150500\n",
      "151000\n",
      "151500\n",
      "152000\n",
      "152500\n",
      "153000\n",
      "153500\n",
      "154000\n",
      "154500\n",
      "155000\n",
      "155500\n",
      "160000\n",
      "160500\n"
     ]
    },
    {
     "name": "stderr",
     "output_type": "stream",
     "text": [
      " 84%|████████▍ | 16/19 [33:41<08:39, 173.19s/it]"
     ]
    },
    {
     "name": "stdout",
     "output_type": "stream",
     "text": [
      "161000\n",
      "[Errno 2] No such file or directory: './data/20211105/video1/161300.csv'\n",
      "[Errno 2] No such file or directory: './data/20211105/Pose/video1/161300.npy'\n",
      "20211112\n",
      "132500\n",
      "133000\n",
      "133500\n",
      "134000\n",
      "134500\n",
      "135000\n",
      "135500\n",
      "140000\n",
      "140500\n",
      "141000\n",
      "141500\n",
      "144000\n",
      "144500\n",
      "145000\n",
      "145500\n"
     ]
    },
    {
     "name": "stderr",
     "output_type": "stream",
     "text": [
      " 89%|████████▉ | 17/19 [36:50<05:55, 177.91s/it]"
     ]
    },
    {
     "name": "stdout",
     "output_type": "stream",
     "text": [
      "150000\n",
      "[Errno 2] No such file or directory: './data/20211112/video1/150400.csv'\n",
      "[Errno 2] No such file or directory: './data/20211112/Pose/video1/150400.npy'\n",
      "20220208\n",
      "145500\n",
      "150000\n",
      "150500\n",
      "151000\n",
      "151500\n",
      "152000\n",
      "152500\n",
      "153000\n",
      "153500\n",
      "154000\n"
     ]
    },
    {
     "name": "stderr",
     "output_type": "stream",
     "text": [
      " 95%|█████████▍| 18/19 [40:01<03:01, 182.00s/it]"
     ]
    },
    {
     "name": "stdout",
     "output_type": "stream",
     "text": [
      "20220209\n",
      "162000\n",
      "162500\n",
      "163000\n",
      "163500\n",
      "164000\n",
      "164500\n",
      "165000\n",
      "165500\n",
      "170000\n",
      "170500\n"
     ]
    },
    {
     "name": "stderr",
     "output_type": "stream",
     "text": [
      "100%|██████████| 19/19 [42:52<00:00, 135.38s/it]\n"
     ]
    },
    {
     "name": "stdout",
     "output_type": "stream",
     "text": [
      "1.5 1.5\n"
     ]
    },
    {
     "name": "stderr",
     "output_type": "stream",
     "text": [
      "  0%|          | 0/19 [00:00<?, ?it/s]"
     ]
    },
    {
     "name": "stdout",
     "output_type": "stream",
     "text": [
      "20170720\n",
      "152000\n",
      "152500\n",
      "153000\n",
      "153500\n",
      "154000\n",
      "154500\n",
      "155000\n",
      "155500\n",
      "160000\n",
      "160500\n"
     ]
    },
    {
     "name": "stderr",
     "output_type": "stream",
     "text": [
      "  5%|▌         | 1/19 [01:30<27:06, 90.35s/it]"
     ]
    },
    {
     "name": "stdout",
     "output_type": "stream",
     "text": [
      "20170804\n",
      "164000\n",
      "164500\n",
      "165000\n",
      "165500\n",
      "170000\n",
      "170500\n",
      "171000\n",
      "171500\n"
     ]
    },
    {
     "name": "stderr",
     "output_type": "stream",
     "text": [
      " 11%|█         | 2/19 [02:34<21:13, 74.93s/it]"
     ]
    },
    {
     "name": "stdout",
     "output_type": "stream",
     "text": [
      "20170828\n",
      "161000\n",
      "161500\n",
      "162000\n",
      "162500\n",
      "163000\n",
      "163500\n",
      "164000\n"
     ]
    },
    {
     "name": "stderr",
     "output_type": "stream",
     "text": [
      " 16%|█▌        | 3/19 [03:31<17:46, 66.68s/it]"
     ]
    },
    {
     "name": "stdout",
     "output_type": "stream",
     "text": [
      "20170829\n",
      "165500\n",
      "170000\n",
      "170500\n",
      "171000\n",
      "171500\n",
      "172000\n",
      "172500\n"
     ]
    },
    {
     "name": "stderr",
     "output_type": "stream",
     "text": [
      " 21%|██        | 4/19 [04:48<17:41, 70.74s/it]"
     ]
    },
    {
     "name": "stdout",
     "output_type": "stream",
     "text": [
      "173000\n",
      "[Errno 2] No such file or directory: './data/20170829/video1/173400.csv'\n",
      "[Errno 2] No such file or directory: './data/20170829/Pose/video1/173400.npy'\n",
      "20170915\n",
      "112000\n",
      "112500\n"
     ]
    },
    {
     "name": "stderr",
     "output_type": "stream",
     "text": [
      " 26%|██▋       | 5/19 [05:06<12:04, 51.74s/it]"
     ]
    },
    {
     "name": "stdout",
     "output_type": "stream",
     "text": [
      "20171026\n",
      "124500\n",
      "125000\n",
      "125500\n",
      "130000\n",
      "130500\n",
      "131000\n",
      "131500\n",
      "132000\n"
     ]
    },
    {
     "name": "stderr",
     "output_type": "stream",
     "text": [
      " 32%|███▏      | 6/19 [06:08<11:59, 55.35s/it]"
     ]
    },
    {
     "name": "stdout",
     "output_type": "stream",
     "text": [
      "20171226\n",
      "154000\n",
      "154500\n",
      "155000\n",
      "155500\n",
      "160000\n",
      "160500\n",
      "161000\n",
      "161500\n",
      "162000\n",
      "162500\n",
      "163000\n",
      "163500\n",
      "164000\n",
      "164500\n",
      "165000\n",
      "165500\n",
      "170000\n",
      "170500\n",
      "171000\n",
      "171500\n",
      "172000\n",
      "172500\n"
     ]
    },
    {
     "name": "stderr",
     "output_type": "stream",
     "text": [
      " 37%|███▋      | 7/19 [10:11<23:17, 116.47s/it]"
     ]
    },
    {
     "name": "stdout",
     "output_type": "stream",
     "text": [
      "173000\n",
      "[Errno 2] No such file or directory: './data/20171226/video2/173400.csv'\n",
      "[Errno 2] No such file or directory: './data/20171226/Pose/video2/173400.npy'\n",
      "20171228\n",
      "151000\n",
      "151500\n",
      "152000\n",
      "152500\n",
      "153000\n",
      "153500\n",
      "154000\n",
      "154500\n"
     ]
    },
    {
     "name": "stderr",
     "output_type": "stream",
     "text": [
      " 42%|████▏     | 8/19 [11:31<19:16, 105.11s/it]"
     ]
    },
    {
     "name": "stdout",
     "output_type": "stream",
     "text": [
      "155000\n",
      "[Errno 2] No such file or directory: './data/20171228/video1/155400.csv'\n",
      "[Errno 2] No such file or directory: './data/20171228/Pose/video1/155400.npy'\n",
      "20180725\n",
      "172500\n",
      "173000\n",
      "173500\n",
      "174000\n",
      "174500\n",
      "175000\n",
      "175500\n",
      "180000\n"
     ]
    },
    {
     "name": "stderr",
     "output_type": "stream",
     "text": [
      " 47%|████▋     | 9/19 [12:28<15:00, 90.00s/it] "
     ]
    },
    {
     "name": "stdout",
     "output_type": "stream",
     "text": [
      "180500\n",
      "[Errno 2] No such file or directory: './data/20180725/video1/180800.csv'\n",
      "[Errno 2] No such file or directory: './data/20180725/Pose/video1/180800.npy'\n",
      "20181226\n",
      "151500\n",
      "152000\n",
      "152500\n",
      "154000\n",
      "154500\n",
      "155000\n",
      "155500\n",
      "160000\n"
     ]
    },
    {
     "name": "stderr",
     "output_type": "stream",
     "text": [
      " 53%|█████▎    | 10/19 [13:52<13:12, 88.11s/it]"
     ]
    },
    {
     "name": "stdout",
     "output_type": "stream",
     "text": [
      "20190328\n",
      "154000\n",
      "154500\n",
      "155000\n",
      "155500\n",
      "160000\n",
      "160500\n",
      "161000\n",
      "161500\n",
      "170500\n",
      "171000\n",
      "171500\n",
      "172000\n",
      "172500\n"
     ]
    },
    {
     "name": "stderr",
     "output_type": "stream",
     "text": [
      " 58%|█████▊    | 11/19 [16:42<15:05, 113.23s/it]"
     ]
    },
    {
     "name": "stdout",
     "output_type": "stream",
     "text": [
      "173000\n",
      "[Errno 2] No such file or directory: './data/20190328/video1/173300.csv'\n",
      "[Errno 2] No such file or directory: './data/20190328/Pose/video1/173300.npy'\n",
      "20190628\n",
      "142000\n",
      "142500\n",
      "143000\n",
      "143500\n",
      "144000\n",
      "144500\n",
      "145000\n",
      "145500\n",
      "150000\n",
      "150500\n",
      "151000\n",
      "151500\n"
     ]
    },
    {
     "name": "stderr",
     "output_type": "stream",
     "text": [
      " 63%|██████▎   | 12/19 [18:36<13:13, 113.37s/it]"
     ]
    },
    {
     "name": "stdout",
     "output_type": "stream",
     "text": [
      "20211020\n",
      "144500\n",
      "145000\n",
      "145500\n",
      "152000\n",
      "152500\n",
      "153000\n"
     ]
    },
    {
     "name": "stderr",
     "output_type": "stream",
     "text": [
      " 68%|██████▊   | 13/19 [19:39<09:48, 98.11s/it] "
     ]
    },
    {
     "name": "stdout",
     "output_type": "stream",
     "text": [
      "20211021\n",
      "112000\n",
      "112500\n",
      "113000\n",
      "113500\n",
      "114000\n",
      "114500\n",
      "115000\n",
      "115500\n",
      "121000\n",
      "121500\n",
      "122000\n",
      "122500\n",
      "123000\n"
     ]
    },
    {
     "name": "stderr",
     "output_type": "stream",
     "text": [
      " 74%|███████▎  | 14/19 [21:47<08:55, 107.15s/it]"
     ]
    },
    {
     "name": "stdout",
     "output_type": "stream",
     "text": [
      "20211025\n",
      "140500\n",
      "141000\n",
      "141500\n",
      "142000\n",
      "142500\n",
      "143000\n",
      "143500\n",
      "144000\n",
      "151000\n",
      "151500\n",
      "154500\n",
      "155000\n"
     ]
    },
    {
     "name": "stderr",
     "output_type": "stream",
     "text": [
      " 79%|███████▉  | 15/19 [23:50<07:27, 111.93s/it]"
     ]
    },
    {
     "name": "stdout",
     "output_type": "stream",
     "text": [
      "20211105\n",
      "143500\n",
      "144000\n",
      "144500\n",
      "145000\n",
      "145500\n",
      "150500\n",
      "151000\n",
      "151500\n",
      "152000\n",
      "152500\n",
      "153000\n",
      "153500\n",
      "154000\n",
      "154500\n",
      "155000\n",
      "155500\n",
      "160000\n",
      "160500\n"
     ]
    },
    {
     "name": "stderr",
     "output_type": "stream",
     "text": [
      " 84%|████████▍ | 16/19 [27:31<07:14, 144.68s/it]"
     ]
    },
    {
     "name": "stdout",
     "output_type": "stream",
     "text": [
      "161000\n",
      "[Errno 2] No such file or directory: './data/20211105/video1/161300.csv'\n",
      "[Errno 2] No such file or directory: './data/20211105/Pose/video1/161300.npy'\n",
      "20211112\n",
      "132500\n",
      "133000\n",
      "133500\n",
      "134000\n",
      "134500\n",
      "135000\n",
      "135500\n",
      "140000\n",
      "140500\n",
      "141000\n",
      "141500\n",
      "144000\n",
      "144500\n",
      "145000\n",
      "145500\n"
     ]
    },
    {
     "name": "stderr",
     "output_type": "stream",
     "text": [
      " 89%|████████▉ | 17/19 [5:15:21<2:56:28, 5294.48s/it]"
     ]
    },
    {
     "name": "stdout",
     "output_type": "stream",
     "text": [
      "150000\n",
      "[Errno 2] No such file or directory: './data/20211112/video1/150400.csv'\n",
      "[Errno 2] No such file or directory: './data/20211112/Pose/video1/150400.npy'\n",
      "20220208\n",
      "145500\n",
      "150000\n",
      "150500\n",
      "151000\n",
      "151500\n",
      "152000\n",
      "152500\n",
      "153000\n",
      "153500\n",
      "154000\n"
     ]
    },
    {
     "name": "stderr",
     "output_type": "stream",
     "text": [
      " 95%|█████████▍| 18/19 [5:21:37<1:03:36, 3816.32s/it]"
     ]
    },
    {
     "name": "stdout",
     "output_type": "stream",
     "text": [
      "20220209\n",
      "162000\n",
      "162500\n",
      "163000\n",
      "163500\n",
      "164000\n",
      "164500\n",
      "165000\n",
      "165500\n",
      "170000\n",
      "170500\n"
     ]
    },
    {
     "name": "stderr",
     "output_type": "stream",
     "text": [
      "100%|██████████| 19/19 [5:27:07<00:00, 1033.03s/it]  \n"
     ]
    },
    {
     "name": "stdout",
     "output_type": "stream",
     "text": [
      "1.5 2\n"
     ]
    },
    {
     "name": "stderr",
     "output_type": "stream",
     "text": [
      "  0%|          | 0/19 [00:00<?, ?it/s]"
     ]
    },
    {
     "name": "stdout",
     "output_type": "stream",
     "text": [
      "20170720\n",
      "152000\n",
      "152500\n",
      "153000\n",
      "153500\n",
      "154000\n",
      "154500\n",
      "155000\n",
      "155500\n",
      "160000\n"
     ]
    },
    {
     "name": "stderr",
     "output_type": "stream",
     "text": [
      "C:\\Users\\irdal\\AppData\\Local\\Temp\\ipykernel_28852\\2858089190.py:23: VisibleDeprecationWarning: Creating an ndarray from ragged nested sequences (which is a list-or-tuple of lists-or-tuples-or ndarrays with different lengths or shapes) is deprecated. If you meant to do this, you must specify 'dtype=object' when creating the ndarray.\n",
      "  gaze_data = np.array(gaze_data)\n",
      "C:\\Users\\irdal\\AppData\\Local\\Temp\\ipykernel_28852\\2858089190.py:44: VisibleDeprecationWarning: Creating an ndarray from ragged nested sequences (which is a list-or-tuple of lists-or-tuples-or ndarrays with different lengths or shapes) is deprecated. If you meant to do this, you must specify 'dtype=object' when creating the ndarray.\n",
      "  return np.array(pose_data)\n"
     ]
    },
    {
     "name": "stdout",
     "output_type": "stream",
     "text": [
      "160500\n"
     ]
    },
    {
     "name": "stderr",
     "output_type": "stream",
     "text": [
      "  5%|▌         | 1/19 [02:53<52:02, 173.48s/it]"
     ]
    },
    {
     "name": "stdout",
     "output_type": "stream",
     "text": [
      "20170804\n",
      "164000\n",
      "164500\n",
      "165000\n",
      "165500\n",
      "170000\n",
      "170500\n",
      "171000\n",
      "171500\n"
     ]
    },
    {
     "name": "stderr",
     "output_type": "stream",
     "text": [
      " 11%|█         | 2/19 [05:15<43:54, 154.97s/it]"
     ]
    },
    {
     "name": "stdout",
     "output_type": "stream",
     "text": [
      "20170828\n",
      "161000\n",
      "161500\n",
      "162000\n",
      "162500\n",
      "163000\n",
      "163500\n",
      "164000\n"
     ]
    },
    {
     "name": "stderr",
     "output_type": "stream",
     "text": [
      " 16%|█▌        | 3/19 [07:17<37:22, 140.13s/it]"
     ]
    },
    {
     "name": "stdout",
     "output_type": "stream",
     "text": [
      "20170829\n",
      "165500\n",
      "170000\n",
      "170500\n",
      "171000\n",
      "171500\n",
      "172000\n",
      "172500\n",
      "173000\n",
      "[Errno 2] No such file or directory: './data/20170829/video1/173400.csv'\n"
     ]
    },
    {
     "name": "stderr",
     "output_type": "stream",
     "text": [
      " 21%|██        | 4/19 [09:54<36:36, 146.45s/it]"
     ]
    },
    {
     "name": "stdout",
     "output_type": "stream",
     "text": [
      "[Errno 2] No such file or directory: './data/20170829/Pose/video1/173400.npy'\n",
      "20170915\n",
      "112000\n",
      "112500\n"
     ]
    },
    {
     "name": "stderr",
     "output_type": "stream",
     "text": [
      " 26%|██▋       | 5/19 [10:32<25:03, 107.40s/it]"
     ]
    },
    {
     "name": "stdout",
     "output_type": "stream",
     "text": [
      "20171026\n",
      "124500\n",
      "125000\n",
      "125500\n",
      "130000\n",
      "130500\n",
      "131000\n",
      "131500\n",
      "132000\n"
     ]
    },
    {
     "name": "stderr",
     "output_type": "stream",
     "text": [
      " 32%|███▏      | 6/19 [12:45<25:08, 116.06s/it]"
     ]
    },
    {
     "name": "stdout",
     "output_type": "stream",
     "text": [
      "20171226\n",
      "154000\n",
      "154500\n",
      "155000\n",
      "155500\n",
      "160000\n",
      "160500\n",
      "161000\n",
      "161500\n",
      "162000\n",
      "162500\n",
      "163000\n",
      "163500\n",
      "164000\n",
      "164500\n",
      "165000\n",
      "165500\n",
      "170000\n",
      "170500\n",
      "171000\n",
      "171500\n",
      "172000\n",
      "172500\n",
      "173000\n"
     ]
    },
    {
     "name": "stderr",
     "output_type": "stream",
     "text": [
      " 37%|███▋      | 7/19 [21:04<48:16, 241.35s/it]"
     ]
    },
    {
     "name": "stdout",
     "output_type": "stream",
     "text": [
      "[Errno 2] No such file or directory: './data/20171226/video2/173400.csv'\n",
      "[Errno 2] No such file or directory: './data/20171226/Pose/video2/173400.npy'\n",
      "20171228\n",
      "151000\n",
      "151500\n",
      "152000\n",
      "152500\n",
      "153000\n",
      "153500\n",
      "154000\n",
      "154500\n",
      "155000\n",
      "[Errno 2] No such file or directory: './data/20171228/video1/155400.csv'\n"
     ]
    },
    {
     "name": "stderr",
     "output_type": "stream",
     "text": [
      " 42%|████▏     | 8/19 [23:57<40:15, 219.56s/it]"
     ]
    },
    {
     "name": "stdout",
     "output_type": "stream",
     "text": [
      "[Errno 2] No such file or directory: './data/20171228/Pose/video1/155400.npy'\n",
      "20180725\n",
      "172500\n",
      "173000\n",
      "173500\n",
      "174000\n",
      "174500\n",
      "175000\n",
      "175500\n",
      "180000\n"
     ]
    },
    {
     "name": "stderr",
     "output_type": "stream",
     "text": [
      " 47%|████▋     | 9/19 [26:03<31:44, 190.44s/it]"
     ]
    },
    {
     "name": "stdout",
     "output_type": "stream",
     "text": [
      "180500\n",
      "[Errno 2] No such file or directory: './data/20180725/video1/180800.csv'\n",
      "[Errno 2] No such file or directory: './data/20180725/Pose/video1/180800.npy'\n",
      "20181226\n",
      "151500\n",
      "152000\n",
      "152500\n",
      "154000\n",
      "154500\n",
      "155000\n",
      "155500\n",
      "160000\n"
     ]
    },
    {
     "name": "stderr",
     "output_type": "stream",
     "text": [
      " 53%|█████▎    | 10/19 [29:06<28:13, 188.13s/it]"
     ]
    },
    {
     "name": "stdout",
     "output_type": "stream",
     "text": [
      "20190328\n",
      "154000\n",
      "154500\n",
      "155000\n",
      "155500\n",
      "160000\n",
      "160500\n",
      "161000\n",
      "161500\n",
      "170500\n",
      "171000\n",
      "171500\n",
      "172000\n",
      "172500\n",
      "173000\n",
      "[Errno 2] No such file or directory: './data/20190328/video1/173300.csv'\n"
     ]
    },
    {
     "name": "stderr",
     "output_type": "stream",
     "text": [
      " 58%|█████▊    | 11/19 [34:46<31:16, 234.51s/it]"
     ]
    },
    {
     "name": "stdout",
     "output_type": "stream",
     "text": [
      "[Errno 2] No such file or directory: './data/20190328/Pose/video1/173300.npy'\n",
      "20190628\n",
      "142000\n",
      "142500\n",
      "143000\n",
      "143500\n",
      "144000\n",
      "144500\n",
      "145000\n",
      "145500\n",
      "150000\n",
      "150500\n",
      "151000\n",
      "151500\n"
     ]
    },
    {
     "name": "stderr",
     "output_type": "stream",
     "text": [
      " 63%|██████▎   | 12/19 [38:52<27:47, 238.16s/it]"
     ]
    },
    {
     "name": "stdout",
     "output_type": "stream",
     "text": [
      "20211020\n",
      "144500\n",
      "145000\n",
      "145500\n",
      "152000\n",
      "152500\n",
      "153000\n"
     ]
    },
    {
     "name": "stderr",
     "output_type": "stream",
     "text": [
      " 68%|██████▊   | 13/19 [40:56<20:20, 203.36s/it]"
     ]
    },
    {
     "name": "stdout",
     "output_type": "stream",
     "text": [
      "20211021\n",
      "112000\n",
      "112500\n",
      "113000\n",
      "113500\n",
      "114000\n",
      "114500\n",
      "115000\n",
      "115500\n",
      "121000\n",
      "121500\n",
      "122000\n",
      "122500\n",
      "123000\n"
     ]
    },
    {
     "name": "stderr",
     "output_type": "stream",
     "text": [
      " 74%|███████▎  | 14/19 [45:32<18:46, 225.25s/it]"
     ]
    },
    {
     "name": "stdout",
     "output_type": "stream",
     "text": [
      "20211025\n",
      "140500\n",
      "141000\n",
      "141500\n",
      "142000\n",
      "142500\n",
      "143000\n",
      "143500\n",
      "144000\n",
      "151000\n",
      "151500\n",
      "154500\n",
      "155000\n"
     ]
    },
    {
     "name": "stderr",
     "output_type": "stream",
     "text": [
      " 79%|███████▉  | 15/19 [49:46<15:35, 233.95s/it]"
     ]
    },
    {
     "name": "stdout",
     "output_type": "stream",
     "text": [
      "20211105\n",
      "143500\n",
      "144000\n",
      "144500\n",
      "145000\n",
      "145500\n",
      "150500\n",
      "151000\n",
      "151500\n",
      "152000\n",
      "152500\n",
      "153000\n",
      "153500\n",
      "154000\n",
      "154500\n",
      "155000\n",
      "155500\n",
      "160000\n",
      "160500\n"
     ]
    },
    {
     "name": "stderr",
     "output_type": "stream",
     "text": [
      " 84%|████████▍ | 16/19 [57:30<15:09, 303.27s/it]"
     ]
    },
    {
     "name": "stdout",
     "output_type": "stream",
     "text": [
      "161000\n",
      "[Errno 2] No such file or directory: './data/20211105/video1/161300.csv'\n",
      "[Errno 2] No such file or directory: './data/20211105/Pose/video1/161300.npy'\n",
      "20211112\n",
      "132500\n",
      "133000\n",
      "133500\n",
      "134000\n",
      "134500\n",
      "135000\n",
      "135500\n",
      "140000\n",
      "140500\n",
      "141000\n",
      "141500\n",
      "144000\n",
      "144500\n",
      "145000\n",
      "145500\n"
     ]
    },
    {
     "name": "stderr",
     "output_type": "stream",
     "text": [
      " 89%|████████▉ | 17/19 [1:02:57<10:20, 310.35s/it]"
     ]
    },
    {
     "name": "stdout",
     "output_type": "stream",
     "text": [
      "150000\n",
      "[Errno 2] No such file or directory: './data/20211112/video1/150400.csv'\n",
      "[Errno 2] No such file or directory: './data/20211112/Pose/video1/150400.npy'\n",
      "20220208\n",
      "145500\n",
      "150000\n",
      "150500\n",
      "151000\n",
      "151500\n",
      "152000\n",
      "152500\n",
      "153000\n",
      "153500\n",
      "154000\n"
     ]
    },
    {
     "name": "stderr",
     "output_type": "stream",
     "text": [
      " 95%|█████████▍| 18/19 [1:08:07<05:10, 310.28s/it]"
     ]
    },
    {
     "name": "stdout",
     "output_type": "stream",
     "text": [
      "20220209\n",
      "162000\n",
      "162500\n",
      "163000\n",
      "163500\n",
      "164000\n",
      "164500\n",
      "165000\n",
      "165500\n",
      "170000\n",
      "170500\n"
     ]
    },
    {
     "name": "stderr",
     "output_type": "stream",
     "text": [
      "100%|██████████| 19/19 [1:12:34<00:00, 229.20s/it]\n"
     ]
    },
    {
     "name": "stdout",
     "output_type": "stream",
     "text": [
      "0.5 0.5\n"
     ]
    },
    {
     "name": "stderr",
     "output_type": "stream",
     "text": [
      "  0%|          | 0/19 [00:00<?, ?it/s]"
     ]
    },
    {
     "name": "stdout",
     "output_type": "stream",
     "text": [
      "20170720\n",
      "152000\n",
      "152500\n",
      "153000\n",
      "153500\n",
      "154000\n",
      "154500\n",
      "155000\n",
      "155500\n",
      "160000\n"
     ]
    },
    {
     "name": "stderr",
     "output_type": "stream",
     "text": [
      "C:\\Users\\irdal\\AppData\\Local\\Temp\\ipykernel_28852\\2858089190.py:23: VisibleDeprecationWarning: Creating an ndarray from ragged nested sequences (which is a list-or-tuple of lists-or-tuples-or ndarrays with different lengths or shapes) is deprecated. If you meant to do this, you must specify 'dtype=object' when creating the ndarray.\n",
      "  gaze_data = np.array(gaze_data)\n",
      "C:\\Users\\irdal\\AppData\\Local\\Temp\\ipykernel_28852\\2858089190.py:44: VisibleDeprecationWarning: Creating an ndarray from ragged nested sequences (which is a list-or-tuple of lists-or-tuples-or ndarrays with different lengths or shapes) is deprecated. If you meant to do this, you must specify 'dtype=object' when creating the ndarray.\n",
      "  return np.array(pose_data)\n"
     ]
    },
    {
     "name": "stdout",
     "output_type": "stream",
     "text": [
      "160500\n"
     ]
    },
    {
     "name": "stderr",
     "output_type": "stream",
     "text": [
      "  5%|▌         | 1/19 [07:41<2:18:19, 461.11s/it]"
     ]
    },
    {
     "name": "stdout",
     "output_type": "stream",
     "text": [
      "20170804\n",
      "164000\n",
      "164500\n",
      "165000\n",
      "165500\n",
      "170000\n",
      "170500\n",
      "171000\n",
      "171500\n"
     ]
    },
    {
     "name": "stderr",
     "output_type": "stream",
     "text": [
      " 11%|█         | 2/19 [12:19<1:40:07, 353.37s/it]"
     ]
    },
    {
     "name": "stdout",
     "output_type": "stream",
     "text": [
      "20170828\n",
      "161000\n",
      "161500\n",
      "162000\n",
      "162500\n",
      "163000\n",
      "163500\n",
      "164000\n"
     ]
    },
    {
     "name": "stderr",
     "output_type": "stream",
     "text": [
      " 16%|█▌        | 3/19 [15:07<1:11:45, 269.10s/it]"
     ]
    },
    {
     "name": "stdout",
     "output_type": "stream",
     "text": [
      "20170829\n",
      "165500\n",
      "170000\n",
      "170500\n",
      "171000\n",
      "171500\n",
      "172000\n",
      "172500\n"
     ]
    },
    {
     "name": "stderr",
     "output_type": "stream",
     "text": [
      " 21%|██        | 4/19 [17:36<55:25, 221.73s/it]  "
     ]
    },
    {
     "name": "stdout",
     "output_type": "stream",
     "text": [
      "173000\n",
      "[Errno 2] No such file or directory: './data/20170829/video1/173400.csv'\n",
      "[Errno 2] No such file or directory: './data/20170829/Pose/video1/173400.npy'\n",
      "20170915\n",
      "112000\n",
      "112500\n"
     ]
    },
    {
     "name": "stderr",
     "output_type": "stream",
     "text": [
      " 26%|██▋       | 5/19 [18:21<36:51, 157.95s/it]"
     ]
    },
    {
     "name": "stdout",
     "output_type": "stream",
     "text": [
      "20171026\n",
      "124500\n",
      "125000\n",
      "125500\n"
     ]
    }
   ],
   "source": [
    "conditions = [(2,0.5), (2, 1), (2, 1.5), (2,2),\n",
    "              (1,0.5), (1, 1), (1, 1.5), (1,2),\n",
    "              (1.5,0.5), (1.5, 1), (1.5, 1.5), (1.5,2),\n",
    "              (0.5,0.5), (0.5, 1), (0.5, 1.5), (0.5,2)]\n",
    "for condition in conditions:\n",
    "    window = condition[0]\n",
    "    future = condition[1]\n",
    "    print(window, future)\n",
    "    makeDataset(raw_data, window, future, 30)"
   ]
  },
  {
   "cell_type": "code",
   "execution_count": 68,
   "metadata": {},
   "outputs": [
    {
     "data": {
      "text/html": [
       "<div>\n",
       "<style scoped>\n",
       "    .dataframe tbody tr th:only-of-type {\n",
       "        vertical-align: middle;\n",
       "    }\n",
       "\n",
       "    .dataframe tbody tr th {\n",
       "        vertical-align: top;\n",
       "    }\n",
       "\n",
       "    .dataframe thead th {\n",
       "        text-align: right;\n",
       "    }\n",
       "</style>\n",
       "<table border=\"1\" class=\"dataframe\">\n",
       "  <thead>\n",
       "    <tr style=\"text-align: right;\">\n",
       "      <th></th>\n",
       "      <th>Gaze</th>\n",
       "      <th>Pose</th>\n",
       "      <th>CR1</th>\n",
       "      <th>CR2</th>\n",
       "      <th>CR3</th>\n",
       "      <th>NR1</th>\n",
       "      <th>NR2</th>\n",
       "      <th>NR3</th>\n",
       "    </tr>\n",
       "  </thead>\n",
       "  <tbody>\n",
       "    <tr>\n",
       "      <th>0</th>\n",
       "      <td>[[[-0.20838876, -0.25313428, -0.9447206], [-0....</td>\n",
       "      <td>[[[[ 0.45749328  0.43738496 -0.35830131], [ 0....</td>\n",
       "      <td>AL</td>\n",
       "      <td>AL</td>\n",
       "      <td>MS</td>\n",
       "      <td>AL</td>\n",
       "      <td>AL</td>\n",
       "      <td>MS</td>\n",
       "    </tr>\n",
       "    <tr>\n",
       "      <th>1</th>\n",
       "      <td>[[[0.66170615, -0.71367747, -0.22980313], [0.6...</td>\n",
       "      <td>[[[[ 0.41196942  0.62693238 -0.50172019], [ 0....</td>\n",
       "      <td>AL</td>\n",
       "      <td>MS</td>\n",
       "      <td>AL</td>\n",
       "      <td>AL</td>\n",
       "      <td>MS</td>\n",
       "      <td>AL</td>\n",
       "    </tr>\n",
       "    <tr>\n",
       "      <th>2</th>\n",
       "      <td>[[[-0.20838876, -0.25313428, -0.9447206], [-0....</td>\n",
       "      <td>[[[[ 0.15192807  0.15658975 -0.56351638], [ 0....</td>\n",
       "      <td>MS</td>\n",
       "      <td>AL</td>\n",
       "      <td>AL</td>\n",
       "      <td>MS</td>\n",
       "      <td>AL</td>\n",
       "      <td>AL</td>\n",
       "    </tr>\n",
       "    <tr>\n",
       "      <th>3</th>\n",
       "      <td>[[[-0.20838876, -0.25313428, -0.9447206], [-0....</td>\n",
       "      <td>[[[[ 0.15192807  0.15658975 -0.56351638], [ 0....</td>\n",
       "      <td>AL</td>\n",
       "      <td>AL</td>\n",
       "      <td>MS</td>\n",
       "      <td>MS</td>\n",
       "      <td>AL</td>\n",
       "      <td>AL</td>\n",
       "    </tr>\n",
       "    <tr>\n",
       "      <th>4</th>\n",
       "      <td>[[[-0.20838876, -0.25313428, -0.9447206], [-0....</td>\n",
       "      <td>[[[[ 0.45749328  0.43738496 -0.35830131], [ 0....</td>\n",
       "      <td>AL</td>\n",
       "      <td>AL</td>\n",
       "      <td>MS</td>\n",
       "      <td>MS</td>\n",
       "      <td>AL</td>\n",
       "      <td>AL</td>\n",
       "    </tr>\n",
       "  </tbody>\n",
       "</table>\n",
       "</div>"
      ],
      "text/plain": [
       "                                                Gaze  \\\n",
       "0  [[[-0.20838876, -0.25313428, -0.9447206], [-0....   \n",
       "1  [[[0.66170615, -0.71367747, -0.22980313], [0.6...   \n",
       "2  [[[-0.20838876, -0.25313428, -0.9447206], [-0....   \n",
       "3  [[[-0.20838876, -0.25313428, -0.9447206], [-0....   \n",
       "4  [[[-0.20838876, -0.25313428, -0.9447206], [-0....   \n",
       "\n",
       "                                                Pose CR1 CR2 CR3 NR1 NR2 NR3  \n",
       "0  [[[[ 0.45749328  0.43738496 -0.35830131], [ 0....  AL  AL  MS  AL  AL  MS  \n",
       "1  [[[[ 0.41196942  0.62693238 -0.50172019], [ 0....  AL  MS  AL  AL  MS  AL  \n",
       "2  [[[[ 0.15192807  0.15658975 -0.56351638], [ 0....  MS  AL  AL  MS  AL  AL  \n",
       "3  [[[[ 0.15192807  0.15658975 -0.56351638], [ 0....  AL  AL  MS  MS  AL  AL  \n",
       "4  [[[[ 0.45749328  0.43738496 -0.35830131], [ 0....  AL  AL  MS  MS  AL  AL  "
      ]
     },
     "execution_count": 68,
     "metadata": {},
     "output_type": "execute_result"
    }
   ],
   "source": [
    "import pickle\n",
    "import pandas as pd\n",
    "from utilities import loadPickle\n",
    "import numpy as np\n",
    "\n",
    "df = pd.DataFrame(loadPickle('./updated_data.pth.tar'))\n",
    "df.columns = ['folder', 'file', 'fi', 'ff', 'Gaze', 'Pose', 'CR1', 'CR2', 'CR3', 'NR1', 'NR2', 'NR3']\n",
    "df = df[['Gaze', 'Pose', 'CR1', 'CR2', 'CR3', 'NR1', 'NR2', 'NR3']]\n",
    "df.head()"
   ]
  },
  {
   "cell_type": "code",
   "execution_count": 69,
   "metadata": {},
   "outputs": [],
   "source": [
    "df['Gaze'] = df['Gaze'].apply(cart2sphGaze)\n",
    "#df['Pose'] = df['Pose'].apply(cart2sphPose)\n",
    "df['Encoded Future Roles'] = df.apply(lambda x:label2OneHot([x['NR1'], x['NR2'], x['NR3']]), axis=1)\n",
    "df['Encoded Current Roles'] = df.apply(lambda x:label2OneHot([x['CR1'], x['CR2'], x['CR3']]), axis=1)\n",
    "df = df.dropna().reset_index()"
   ]
  },
  {
   "cell_type": "code",
   "execution_count": 1,
   "metadata": {},
   "outputs": [
    {
     "ename": "NameError",
     "evalue": "name 'df' is not defined",
     "output_type": "error",
     "traceback": [
      "\u001b[1;31m---------------------------------------------------------------------------\u001b[0m",
      "\u001b[1;31mNameError\u001b[0m                                 Traceback (most recent call last)",
      "\u001b[1;32mc:\\Users\\irdal\\OneDrive\\Desktop\\ResearchProgrms\\RoleDetectionsModels\\RolePrediction_v1\\nov29.ipynb Cell 11\u001b[0m line \u001b[0;36m1\n\u001b[1;32m----> <a href='vscode-notebook-cell:/c%3A/Users/irdal/OneDrive/Desktop/ResearchProgrms/RoleDetectionsModels/RolePrediction_v1/nov29.ipynb#X55sZmlsZQ%3D%3D?line=0'>1</a>\u001b[0m df\u001b[39m.\u001b[39mhead()\n",
      "\u001b[1;31mNameError\u001b[0m: name 'df' is not defined"
     ]
    }
   ],
   "source": [
    "df.head()"
   ]
  },
  {
   "cell_type": "code",
   "execution_count": 52,
   "metadata": {},
   "outputs": [],
   "source": [
    "df['Encoded Future Roles'] = df.apply(lambda x:label2OneHot([x['NR1'], x['NR2'], x['NR3']]), axis=1)"
   ]
  },
  {
   "cell_type": "code",
   "execution_count": 53,
   "metadata": {},
   "outputs": [],
   "source": [
    "df['Encoded Current Roles'] = df.apply(lambda x:label2OneHot([x['CR1'], x['CR2'], x['CR3']]), axis=1)"
   ]
  },
  {
   "cell_type": "code",
   "execution_count": 59,
   "metadata": {},
   "outputs": [],
   "source": [
    "df = df.dropna().reset_index()"
   ]
  },
  {
   "cell_type": "code",
   "execution_count": 60,
   "metadata": {},
   "outputs": [
    {
     "data": {
      "text/html": [
       "<div>\n",
       "<style scoped>\n",
       "    .dataframe tbody tr th:only-of-type {\n",
       "        vertical-align: middle;\n",
       "    }\n",
       "\n",
       "    .dataframe tbody tr th {\n",
       "        vertical-align: top;\n",
       "    }\n",
       "\n",
       "    .dataframe thead th {\n",
       "        text-align: right;\n",
       "    }\n",
       "</style>\n",
       "<table border=\"1\" class=\"dataframe\">\n",
       "  <thead>\n",
       "    <tr style=\"text-align: right;\">\n",
       "      <th></th>\n",
       "      <th>index</th>\n",
       "      <th>Gaze</th>\n",
       "      <th>Pose</th>\n",
       "      <th>CR1</th>\n",
       "      <th>CR2</th>\n",
       "      <th>CR3</th>\n",
       "      <th>NR1</th>\n",
       "      <th>NR2</th>\n",
       "      <th>NR3</th>\n",
       "      <th>Encoded Future Roles</th>\n",
       "      <th>Encoded Current Roles</th>\n",
       "    </tr>\n",
       "  </thead>\n",
       "  <tbody>\n",
       "    <tr>\n",
       "      <th>0</th>\n",
       "      <td>35</td>\n",
       "      <td>[[[0.14793602, -0.9857124, -0.0805354], [0.155...</td>\n",
       "      <td>[[[[ 0.45213404  0.47358507 -0.46827409], [ 0....</td>\n",
       "      <td>MS</td>\n",
       "      <td>SL</td>\n",
       "      <td>ML</td>\n",
       "      <td>MS</td>\n",
       "      <td>SL</td>\n",
       "      <td>ML</td>\n",
       "      <td>[1, 0, 0, 0, 0, 1, 0, 1, 0]</td>\n",
       "      <td>[1, 0, 0, 0, 0, 1, 0, 1, 0]</td>\n",
       "    </tr>\n",
       "    <tr>\n",
       "      <th>1</th>\n",
       "      <td>36</td>\n",
       "      <td>[[[-0.17070144, -0.3902507, -0.9047461], [-0.2...</td>\n",
       "      <td>[[[[ 0.44296473  0.60672528 -0.48984349], [ 0....</td>\n",
       "      <td>SL</td>\n",
       "      <td>ML</td>\n",
       "      <td>MS</td>\n",
       "      <td>SL</td>\n",
       "      <td>ML</td>\n",
       "      <td>MS</td>\n",
       "      <td>[0, 0, 1, 0, 1, 0, 1, 0, 0]</td>\n",
       "      <td>[0, 0, 1, 0, 1, 0, 1, 0, 0]</td>\n",
       "    </tr>\n",
       "    <tr>\n",
       "      <th>2</th>\n",
       "      <td>37</td>\n",
       "      <td>[[[0.14793602, -0.9857124, -0.0805354], [0.155...</td>\n",
       "      <td>[[[[-0.03676729  0.20102055 -0.28383818], [-0....</td>\n",
       "      <td>ML</td>\n",
       "      <td>MS</td>\n",
       "      <td>SL</td>\n",
       "      <td>ML</td>\n",
       "      <td>MS</td>\n",
       "      <td>SL</td>\n",
       "      <td>[0, 1, 0, 1, 0, 0, 0, 0, 1]</td>\n",
       "      <td>[0, 1, 0, 1, 0, 0, 0, 0, 1]</td>\n",
       "    </tr>\n",
       "    <tr>\n",
       "      <th>3</th>\n",
       "      <td>45</td>\n",
       "      <td>[[[-0.20142308, -0.09219728, -0.9751556], [-0....</td>\n",
       "      <td>[[[[ 0.46577752  0.43357387 -0.35742906], [ 0....</td>\n",
       "      <td>MS</td>\n",
       "      <td>ML</td>\n",
       "      <td>SL</td>\n",
       "      <td>MS</td>\n",
       "      <td>ML</td>\n",
       "      <td>SL</td>\n",
       "      <td>[1, 0, 0, 0, 1, 0, 0, 0, 1]</td>\n",
       "      <td>[1, 0, 0, 0, 1, 0, 0, 0, 1]</td>\n",
       "    </tr>\n",
       "    <tr>\n",
       "      <th>4</th>\n",
       "      <td>46</td>\n",
       "      <td>[[[0.29234654, -0.01084012, -0.95625097], [0.2...</td>\n",
       "      <td>[[[[ 0.43147999  0.5550915  -0.43064788], [ 0....</td>\n",
       "      <td>ML</td>\n",
       "      <td>SL</td>\n",
       "      <td>MS</td>\n",
       "      <td>ML</td>\n",
       "      <td>SL</td>\n",
       "      <td>MS</td>\n",
       "      <td>[0, 1, 0, 0, 0, 1, 1, 0, 0]</td>\n",
       "      <td>[0, 1, 0, 0, 0, 1, 1, 0, 0]</td>\n",
       "    </tr>\n",
       "  </tbody>\n",
       "</table>\n",
       "</div>"
      ],
      "text/plain": [
       "   index                                               Gaze  \\\n",
       "0     35  [[[0.14793602, -0.9857124, -0.0805354], [0.155...   \n",
       "1     36  [[[-0.17070144, -0.3902507, -0.9047461], [-0.2...   \n",
       "2     37  [[[0.14793602, -0.9857124, -0.0805354], [0.155...   \n",
       "3     45  [[[-0.20142308, -0.09219728, -0.9751556], [-0....   \n",
       "4     46  [[[0.29234654, -0.01084012, -0.95625097], [0.2...   \n",
       "\n",
       "                                                Pose CR1 CR2 CR3 NR1 NR2 NR3  \\\n",
       "0  [[[[ 0.45213404  0.47358507 -0.46827409], [ 0....  MS  SL  ML  MS  SL  ML   \n",
       "1  [[[[ 0.44296473  0.60672528 -0.48984349], [ 0....  SL  ML  MS  SL  ML  MS   \n",
       "2  [[[[-0.03676729  0.20102055 -0.28383818], [-0....  ML  MS  SL  ML  MS  SL   \n",
       "3  [[[[ 0.46577752  0.43357387 -0.35742906], [ 0....  MS  ML  SL  MS  ML  SL   \n",
       "4  [[[[ 0.43147999  0.5550915  -0.43064788], [ 0....  ML  SL  MS  ML  SL  MS   \n",
       "\n",
       "          Encoded Future Roles        Encoded Current Roles  \n",
       "0  [1, 0, 0, 0, 0, 1, 0, 1, 0]  [1, 0, 0, 0, 0, 1, 0, 1, 0]  \n",
       "1  [0, 0, 1, 0, 1, 0, 1, 0, 0]  [0, 0, 1, 0, 1, 0, 1, 0, 0]  \n",
       "2  [0, 1, 0, 1, 0, 0, 0, 0, 1]  [0, 1, 0, 1, 0, 0, 0, 0, 1]  \n",
       "3  [1, 0, 0, 0, 1, 0, 0, 0, 1]  [1, 0, 0, 0, 1, 0, 0, 0, 1]  \n",
       "4  [0, 1, 0, 0, 0, 1, 1, 0, 0]  [0, 1, 0, 0, 0, 1, 1, 0, 0]  "
      ]
     },
     "execution_count": 60,
     "metadata": {},
     "output_type": "execute_result"
    }
   ],
   "source": [
    "df.head()"
   ]
  },
  {
   "cell_type": "code",
   "execution_count": 15,
   "metadata": {},
   "outputs": [],
   "source": [
    "df['Pose'] = df['Pose'].apply(cart2sphPose)"
   ]
  },
  {
   "cell_type": "code",
   "execution_count": 16,
   "metadata": {},
   "outputs": [],
   "source": [
    "with open('updated_data_cart.pth.tar', 'wb') as handle:\n",
    "    pickle.dump(df, handle)"
   ]
  },
  {
   "cell_type": "code",
   "execution_count": 17,
   "metadata": {},
   "outputs": [
    {
     "data": {
      "text/plain": [
       "(3, 60, 33, 2)"
      ]
     },
     "execution_count": 17,
     "metadata": {},
     "output_type": "execute_result"
    }
   ],
   "source": [
    "df.iloc[0]['Pose'].shape"
   ]
  },
  {
   "cell_type": "code",
   "execution_count": 19,
   "metadata": {},
   "outputs": [
    {
     "data": {
      "text/plain": [
       "Gaze    [[[-0.21540422726598624, -0.25591868518726935]...\n",
       "Pose    [[[[-0.51511669  0.7629315 ], [-0.49641776  0....\n",
       "CR1                                                    AL\n",
       "CR2                                                    AL\n",
       "CR3                                                    MS\n",
       "NR1                                                    AL\n",
       "NR2                                                    AL\n",
       "NR3                                                    MS\n",
       "Name: 0, dtype: object"
      ]
     },
     "execution_count": 19,
     "metadata": {},
     "output_type": "execute_result"
    }
   ],
   "source": []
  }
 ],
 "metadata": {
  "kernelspec": {
   "display_name": "eyegaze",
   "language": "python",
   "name": "python3"
  },
  "language_info": {
   "codemirror_mode": {
    "name": "ipython",
    "version": 3
   },
   "file_extension": ".py",
   "mimetype": "text/x-python",
   "name": "python",
   "nbconvert_exporter": "python",
   "pygments_lexer": "ipython3",
   "version": "3.8.13"
  }
 },
 "nbformat": 4,
 "nbformat_minor": 2
}
