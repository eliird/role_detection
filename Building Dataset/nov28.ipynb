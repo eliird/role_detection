{
 "cells": [
  {
   "cell_type": "code",
   "execution_count": 2,
   "metadata": {},
   "outputs": [],
   "source": [
    "import pandas as pd\n",
    "import numpy as np\n",
    "import pickle"
   ]
  },
  {
   "cell_type": "code",
   "execution_count": 21,
   "metadata": {},
   "outputs": [],
   "source": [
    "def loadPickle(path):\n",
    "    file = open(path, 'rb')\n",
    "    df = pickle.load(file)\n",
    "    file.close()\n",
    "    return df\n",
    "def savePickle(filepath, data):\n",
    "    file = open(filepath, 'wb')\n",
    "    pickle.dump(data, filepath)\n",
    "    file.close()"
   ]
  },
  {
   "cell_type": "code",
   "execution_count": 64,
   "metadata": {},
   "outputs": [],
   "source": [
    "data = loadPickle('./df_cart.pth')\n",
    "data = data.drop(columns=['CR1', 'CR2', 'CR3', 'NR1', 'NR2', 'NR3'])"
   ]
  },
  {
   "cell_type": "code",
   "execution_count": 9,
   "metadata": {},
   "outputs": [
    {
     "data": {
      "text/html": [
       "<div>\n",
       "<style scoped>\n",
       "    .dataframe tbody tr th:only-of-type {\n",
       "        vertical-align: middle;\n",
       "    }\n",
       "\n",
       "    .dataframe tbody tr th {\n",
       "        vertical-align: top;\n",
       "    }\n",
       "\n",
       "    .dataframe thead th {\n",
       "        text-align: right;\n",
       "    }\n",
       "</style>\n",
       "<table border=\"1\" class=\"dataframe\">\n",
       "  <thead>\n",
       "    <tr style=\"text-align: right;\">\n",
       "      <th></th>\n",
       "      <th>Session</th>\n",
       "      <th>FileName</th>\n",
       "      <th>Start Frame</th>\n",
       "      <th>End Frame</th>\n",
       "      <th>Gaze Data</th>\n",
       "      <th>Pose Data</th>\n",
       "      <th>Encoded Future Roles</th>\n",
       "      <th>Encoded Current Roles</th>\n",
       "    </tr>\n",
       "  </thead>\n",
       "  <tbody>\n",
       "    <tr>\n",
       "      <th>0</th>\n",
       "      <td>20170720</td>\n",
       "      <td>152000</td>\n",
       "      <td>7861</td>\n",
       "      <td>7921</td>\n",
       "      <td>[[[-0.2762919566761853, -0.08595516415505236],...</td>\n",
       "      <td>[[[[-0.48589324  0.74852699], [-0.46514708  0....</td>\n",
       "      <td>[1, 0, 0, 0, 0, 1, 0, 1, 0]</td>\n",
       "      <td>[0, 0, 0, 1, 0, 0, 0, 1, 1, 0, 0, 0]</td>\n",
       "    </tr>\n",
       "    <tr>\n",
       "      <th>1</th>\n",
       "      <td>20170720</td>\n",
       "      <td>152000</td>\n",
       "      <td>7861</td>\n",
       "      <td>7921</td>\n",
       "      <td>[[[-0.29772805696593607, -1.2782949733579279],...</td>\n",
       "      <td>[[[[ 0.70480985 -0.65994347], [ 0.73870443 -0....</td>\n",
       "      <td>[0, 0, 1, 0, 1, 0, 1, 0, 0]</td>\n",
       "      <td>[0, 0, 0, 1, 1, 0, 0, 0, 0, 0, 0, 1]</td>\n",
       "    </tr>\n",
       "    <tr>\n",
       "      <th>2</th>\n",
       "      <td>20170720</td>\n",
       "      <td>152000</td>\n",
       "      <td>7861</td>\n",
       "      <td>7921</td>\n",
       "      <td>[[[-0.9960048570641209, -0.2788725407985221], ...</td>\n",
       "      <td>[[[[0.64574167 2.19534607], [0.62824857 2.1584...</td>\n",
       "      <td>[0, 1, 0, 1, 0, 0, 0, 0, 1]</td>\n",
       "      <td>[1, 0, 0, 0, 0, 0, 0, 1, 0, 0, 0, 1]</td>\n",
       "    </tr>\n",
       "    <tr>\n",
       "      <th>3</th>\n",
       "      <td>20170720</td>\n",
       "      <td>152000</td>\n",
       "      <td>8599</td>\n",
       "      <td>8659</td>\n",
       "      <td>[[[0.5333925858249581, -0.23489669449662276], ...</td>\n",
       "      <td>[[[[-0.50719443  0.78566188], [-0.49085116  0....</td>\n",
       "      <td>[0, 1, 0, 0, 0, 1, 1, 0, 0]</td>\n",
       "      <td>[1, 0, 0, 0, 0, 0, 0, 1, 0, 0, 0, 1]</td>\n",
       "    </tr>\n",
       "    <tr>\n",
       "      <th>4</th>\n",
       "      <td>20170720</td>\n",
       "      <td>152000</td>\n",
       "      <td>8599</td>\n",
       "      <td>8659</td>\n",
       "      <td>[[[-0.409351439913777, -0.9660370508176976], [...</td>\n",
       "      <td>[[[[ 0.6661028  -0.66592614], [ 0.69971534 -0....</td>\n",
       "      <td>[0, 0, 1, 1, 0, 0, 0, 1, 0]</td>\n",
       "      <td>[0, 0, 0, 1, 0, 0, 0, 1, 1, 0, 0, 0]</td>\n",
       "    </tr>\n",
       "  </tbody>\n",
       "</table>\n",
       "</div>"
      ],
      "text/plain": [
       "    Session  FileName  Start Frame  End Frame  \\\n",
       "0  20170720    152000         7861       7921   \n",
       "1  20170720    152000         7861       7921   \n",
       "2  20170720    152000         7861       7921   \n",
       "3  20170720    152000         8599       8659   \n",
       "4  20170720    152000         8599       8659   \n",
       "\n",
       "                                           Gaze Data  \\\n",
       "0  [[[-0.2762919566761853, -0.08595516415505236],...   \n",
       "1  [[[-0.29772805696593607, -1.2782949733579279],...   \n",
       "2  [[[-0.9960048570641209, -0.2788725407985221], ...   \n",
       "3  [[[0.5333925858249581, -0.23489669449662276], ...   \n",
       "4  [[[-0.409351439913777, -0.9660370508176976], [...   \n",
       "\n",
       "                                           Pose Data  \\\n",
       "0  [[[[-0.48589324  0.74852699], [-0.46514708  0....   \n",
       "1  [[[[ 0.70480985 -0.65994347], [ 0.73870443 -0....   \n",
       "2  [[[[0.64574167 2.19534607], [0.62824857 2.1584...   \n",
       "3  [[[[-0.50719443  0.78566188], [-0.49085116  0....   \n",
       "4  [[[[ 0.6661028  -0.66592614], [ 0.69971534 -0....   \n",
       "\n",
       "          Encoded Future Roles                 Encoded Current Roles  \n",
       "0  [1, 0, 0, 0, 0, 1, 0, 1, 0]  [0, 0, 0, 1, 0, 0, 0, 1, 1, 0, 0, 0]  \n",
       "1  [0, 0, 1, 0, 1, 0, 1, 0, 0]  [0, 0, 0, 1, 1, 0, 0, 0, 0, 0, 0, 1]  \n",
       "2  [0, 1, 0, 1, 0, 0, 0, 0, 1]  [1, 0, 0, 0, 0, 0, 0, 1, 0, 0, 0, 1]  \n",
       "3  [0, 1, 0, 0, 0, 1, 1, 0, 0]  [1, 0, 0, 0, 0, 0, 0, 1, 0, 0, 0, 1]  \n",
       "4  [0, 0, 1, 1, 0, 0, 0, 1, 0]  [0, 0, 0, 1, 0, 0, 0, 1, 1, 0, 0, 0]  "
      ]
     },
     "execution_count": 9,
     "metadata": {},
     "output_type": "execute_result"
    }
   ],
   "source": [
    "data.head()"
   ]
  },
  {
   "cell_type": "markdown",
   "metadata": {},
   "source": [
    "## create a dataFrame for the next 0.5 seconds\n",
    "* 0.5 seconds = 15 frames"
   ]
  },
  {
   "cell_type": "code",
   "execution_count": 60,
   "metadata": {},
   "outputs": [],
   "source": [
    "def getEndData(gaze_data:np.array, seconds:float, fps:int=30):\n",
    "    frames = int(seconds * fps)\n",
    "    #print(frames)\n",
    "    return gaze_data[:, -frames:]\n"
   ]
  },
  {
   "cell_type": "code",
   "execution_count": 69,
   "metadata": {},
   "outputs": [],
   "source": [
    "df = data.copy()\n",
    "duration = 0.25\n",
    "df['Gaze Data'] = data['Gaze Data'].apply(lambda x: getEndData(x, duration, 30))\n",
    "df['Pose Data'] = data['Pose Data'].apply(lambda x: getEndData(x, duration, 30))\n",
    "handle = open(f'df_{str(duration)}sec.pth', 'wb')\n",
    "pickle.dump(df, handle)\n",
    "handle.close()"
   ]
  },
  {
   "cell_type": "code",
   "execution_count": 66,
   "metadata": {},
   "outputs": [
    {
     "data": {
      "text/plain": [
       "((3, 45, 2), (3, 60, 2))"
      ]
     },
     "execution_count": 66,
     "metadata": {},
     "output_type": "execute_result"
    }
   ],
   "source": [
    "df['Gaze Data'].loc[0].shape, data['Gaze Data'].loc[0].shape"
   ]
  },
  {
   "cell_type": "code",
   "execution_count": 51,
   "metadata": {},
   "outputs": [],
   "source": [
    "df = loadPickle('./df_1.5sec.pth')"
   ]
  },
  {
   "cell_type": "code",
   "execution_count": 53,
   "metadata": {},
   "outputs": [
    {
     "data": {
      "text/plain": [
       "(3, 30, 2)"
      ]
     },
     "execution_count": 53,
     "metadata": {},
     "output_type": "execute_result"
    }
   ],
   "source": [
    "df['Gaze Data'].loc[2].shape"
   ]
  }
 ],
 "metadata": {
  "kernelspec": {
   "display_name": "eyegaze",
   "language": "python",
   "name": "python3"
  },
  "language_info": {
   "codemirror_mode": {
    "name": "ipython",
    "version": 3
   },
   "file_extension": ".py",
   "mimetype": "text/x-python",
   "name": "python",
   "nbconvert_exporter": "python",
   "pygments_lexer": "ipython3",
   "version": "3.8.13"
  }
 },
 "nbformat": 4,
 "nbformat_minor": 2
}
