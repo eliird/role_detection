{
 "cells": [
  {
   "cell_type": "code",
   "execution_count": 2,
   "metadata": {},
   "outputs": [],
   "source": [
    "import pandas as pd\n",
    "import numpy as np\n",
    "from utilities import loadPickle"
   ]
  },
  {
   "cell_type": "code",
   "execution_count": 3,
   "metadata": {},
   "outputs": [],
   "source": [
    "data = loadPickle('./win2_f0.5.pth.tar')"
   ]
  },
  {
   "cell_type": "code",
   "execution_count": 4,
   "metadata": {},
   "outputs": [
    {
     "data": {
      "text/html": [
       "<div>\n",
       "<style scoped>\n",
       "    .dataframe tbody tr th:only-of-type {\n",
       "        vertical-align: middle;\n",
       "    }\n",
       "\n",
       "    .dataframe tbody tr th {\n",
       "        vertical-align: top;\n",
       "    }\n",
       "\n",
       "    .dataframe thead th {\n",
       "        text-align: right;\n",
       "    }\n",
       "</style>\n",
       "<table border=\"1\" class=\"dataframe\">\n",
       "  <thead>\n",
       "    <tr style=\"text-align: right;\">\n",
       "      <th></th>\n",
       "      <th>index</th>\n",
       "      <th>Gaze</th>\n",
       "      <th>Pose</th>\n",
       "      <th>CR1</th>\n",
       "      <th>CR2</th>\n",
       "      <th>CR3</th>\n",
       "      <th>NR1</th>\n",
       "      <th>NR2</th>\n",
       "      <th>NR3</th>\n",
       "      <th>Encoded Future Roles</th>\n",
       "      <th>Encoded Current Roles</th>\n",
       "    </tr>\n",
       "  </thead>\n",
       "  <tbody>\n",
       "    <tr>\n",
       "      <th>0</th>\n",
       "      <td>24</td>\n",
       "      <td>[[[0.6056140543562385, -0.15805133491031323], ...</td>\n",
       "      <td>[[[[ 0.44783106  0.4351292  -0.32492983], [ 0....</td>\n",
       "      <td>MS</td>\n",
       "      <td>SL</td>\n",
       "      <td>ML</td>\n",
       "      <td>MS</td>\n",
       "      <td>SL</td>\n",
       "      <td>ML</td>\n",
       "      <td>[1, 0, 0, 0, 0, 1, 0, 1, 0]</td>\n",
       "      <td>[1, 0, 0, 0, 0, 1, 0, 1, 0]</td>\n",
       "    </tr>\n",
       "    <tr>\n",
       "      <th>1</th>\n",
       "      <td>25</td>\n",
       "      <td>[[[0.2709794422625729, -0.01775533288553957], ...</td>\n",
       "      <td>[[[[ 0.43498653  0.5586648  -0.45116046], [ 0....</td>\n",
       "      <td>SL</td>\n",
       "      <td>ML</td>\n",
       "      <td>MS</td>\n",
       "      <td>SL</td>\n",
       "      <td>ML</td>\n",
       "      <td>MS</td>\n",
       "      <td>[0, 0, 1, 0, 1, 0, 1, 0, 0]</td>\n",
       "      <td>[0, 0, 1, 0, 1, 0, 1, 0, 0]</td>\n",
       "    </tr>\n",
       "    <tr>\n",
       "      <th>2</th>\n",
       "      <td>26</td>\n",
       "      <td>[[[0.6056140543562385, -0.15805133491031323], ...</td>\n",
       "      <td>[[[[ 0.45451751  0.50410944 -0.43317533], [ 0....</td>\n",
       "      <td>ML</td>\n",
       "      <td>MS</td>\n",
       "      <td>SL</td>\n",
       "      <td>ML</td>\n",
       "      <td>MS</td>\n",
       "      <td>SL</td>\n",
       "      <td>[0, 1, 0, 1, 0, 0, 0, 0, 1]</td>\n",
       "      <td>[0, 1, 0, 1, 0, 0, 0, 0, 1]</td>\n",
       "    </tr>\n",
       "    <tr>\n",
       "      <th>3</th>\n",
       "      <td>54</td>\n",
       "      <td>[[[0.43334817903235306, -0.2006749689514121], ...</td>\n",
       "      <td>[[[[ 0.44706506  0.43408522 -0.29434544], [ 0....</td>\n",
       "      <td>MS</td>\n",
       "      <td>SL</td>\n",
       "      <td>ML</td>\n",
       "      <td>MS</td>\n",
       "      <td>SL</td>\n",
       "      <td>ML</td>\n",
       "      <td>[1, 0, 0, 0, 0, 1, 0, 1, 0]</td>\n",
       "      <td>[1, 0, 0, 0, 0, 1, 0, 1, 0]</td>\n",
       "    </tr>\n",
       "    <tr>\n",
       "      <th>4</th>\n",
       "      <td>55</td>\n",
       "      <td>[[[0.3535673167557542, -0.21905543777516265], ...</td>\n",
       "      <td>[[[[ 0.43974581  0.54406506 -0.39828718], [ 0....</td>\n",
       "      <td>SL</td>\n",
       "      <td>ML</td>\n",
       "      <td>MS</td>\n",
       "      <td>SL</td>\n",
       "      <td>ML</td>\n",
       "      <td>MS</td>\n",
       "      <td>[0, 0, 1, 0, 1, 0, 1, 0, 0]</td>\n",
       "      <td>[0, 0, 1, 0, 1, 0, 1, 0, 0]</td>\n",
       "    </tr>\n",
       "  </tbody>\n",
       "</table>\n",
       "</div>"
      ],
      "text/plain": [
       "   index  ...        Encoded Current Roles\n",
       "0     24  ...  [1, 0, 0, 0, 0, 1, 0, 1, 0]\n",
       "1     25  ...  [0, 0, 1, 0, 1, 0, 1, 0, 0]\n",
       "2     26  ...  [0, 1, 0, 1, 0, 0, 0, 0, 1]\n",
       "3     54  ...  [1, 0, 0, 0, 0, 1, 0, 1, 0]\n",
       "4     55  ...  [0, 0, 1, 0, 1, 0, 1, 0, 0]\n",
       "\n",
       "[5 rows x 11 columns]"
      ]
     },
     "execution_count": 4,
     "metadata": {},
     "output_type": "execute_result"
    }
   ],
   "source": [
    "data.head()"
   ]
  },
  {
   "cell_type": "code",
   "execution_count": 22,
   "metadata": {},
   "outputs": [],
   "source": [
    "x = data.iloc[0]['Gaze']"
   ]
  },
  {
   "cell_type": "code",
   "execution_count": 26,
   "metadata": {},
   "outputs": [
    {
     "data": {
      "text/plain": [
       "((60, 2), (60, 2), (60, 2))"
      ]
     },
     "execution_count": 26,
     "metadata": {},
     "output_type": "execute_result"
    }
   ],
   "source": [
    "x[0].shape, x[1].shape, x[2].shape"
   ]
  },
  {
   "cell_type": "code",
   "execution_count": 29,
   "metadata": {},
   "outputs": [
    {
     "data": {
      "text/plain": [
       "-0.2019979864976558"
      ]
     },
     "execution_count": 29,
     "metadata": {},
     "output_type": "execute_result"
    }
   ],
   "source": [
    "np.mean(x[2])"
   ]
  },
  {
   "cell_type": "code",
   "execution_count": 32,
   "metadata": {},
   "outputs": [],
   "source": [
    "x = torch.rand(16,360)"
   ]
  },
  {
   "cell_type": "code",
   "execution_count": 37,
   "metadata": {},
   "outputs": [],
   "source": [
    "scond = 60\n",
    "y = [x[:, 0:60], x[:, 60:120], x[:, 120:180], x[:, 180:240], x[:, 240:300], x[:, 300:360]]"
   ]
  },
  {
   "cell_type": "code",
   "execution_count": 40,
   "metadata": {},
   "outputs": [],
   "source": [
    "x = [[[0,0,0]],\n",
    "     [[1,1,1]],\n",
    "     [[2,2,2]]]"
   ]
  },
  {
   "cell_type": "code",
   "execution_count": 44,
   "metadata": {},
   "outputs": [
    {
     "data": {
      "text/plain": [
       "tensor([0., 0., 0., 1., 1., 1., 2., 2., 2.])"
      ]
     },
     "execution_count": 44,
     "metadata": {},
     "output_type": "execute_result"
    }
   ],
   "source": [
    "torch.flatten(torch.Tensor(x))"
   ]
  },
  {
   "cell_type": "code",
   "execution_count": 2,
   "metadata": {},
   "outputs": [
    {
     "name": "stdout",
     "output_type": "stream",
     "text": [
      "766\n"
     ]
    }
   ],
   "source": [
    "x = [488512261, 625040505, 1, 617699202, 778493847, 935903331]\n",
    "\n",
    "sum = 0\n",
    "for item in x:\n",
    "    sum+= (item**2)\n",
    "print(sum%767)    "
   ]
  },
  {
   "cell_type": "code",
   "execution_count": 12,
   "metadata": {},
   "outputs": [],
   "source": [
    "import glob\n",
    "import re"
   ]
  },
  {
   "cell_type": "code",
   "execution_count": 16,
   "metadata": {},
   "outputs": [
    {
     "name": "stdout",
     "output_type": "stream",
     "text": [
      "1.0 0.5\n",
      "1.5 0.5\n",
      "1.5 1.0\n",
      "1.5 1.5\n",
      "1.5 2.0\n",
      "2.0 0.5\n",
      "2.0 1.0\n",
      "2.0 1.5\n",
      "2.0 2.0\n"
     ]
    }
   ],
   "source": [
    "files = glob.glob('*.pth.tar')\n",
    "files_cleaned = []\n",
    "for item in files:\n",
    "    if 'win' in item:\n",
    "        window, future = item.split('_')\n",
    "        window = float(re.search(r'\\d+(\\.\\d+)?', window).group())\n",
    "        future = float(re.search(r'\\d+(\\.\\d+)?', future).group())\n",
    "        \n"
   ]
  },
  {
   "cell_type": "code",
   "execution_count": 11,
   "metadata": {},
   "outputs": [
    {
     "data": {
      "text/plain": [
       "1.5"
      ]
     },
     "execution_count": 11,
     "metadata": {},
     "output_type": "execute_result"
    }
   ],
   "source": [
    "import re\n",
    "extracted_number = float(re.search(r'\\d+(\\.\\d+)?', files_cleaned[1]).group())\n",
    "extracted_number"
   ]
  }
 ],
 "metadata": {
  "kernelspec": {
   "display_name": "eyegaze",
   "language": "python",
   "name": "python3"
  },
  "language_info": {
   "codemirror_mode": {
    "name": "ipython",
    "version": 3
   },
   "file_extension": ".py",
   "mimetype": "text/x-python",
   "name": "python",
   "nbconvert_exporter": "python",
   "pygments_lexer": "ipython3",
   "version": "3.8.13"
  }
 },
 "nbformat": 4,
 "nbformat_minor": 2
}
